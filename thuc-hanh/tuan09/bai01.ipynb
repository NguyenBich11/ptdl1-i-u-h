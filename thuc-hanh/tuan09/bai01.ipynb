{
 "cells": [
  {
   "cell_type": "code",
   "execution_count": 129,
   "metadata": {},
   "outputs": [
    {
     "name": "stdout",
     "output_type": "stream",
     "text": [
      "Requirement already satisfied: numpy in c:\\programdata\\anaconda3\\lib\\site-packages (1.19.2)\n",
      "Note: you may need to restart the kernel to use updated packages.\n"
     ]
    }
   ],
   "source": [
    "pip install numpy"
   ]
  },
  {
   "cell_type": "code",
   "execution_count": 130,
   "metadata": {},
   "outputs": [],
   "source": [
    "import pandas as pd\n",
    "import numpy as np\n",
    "import matplotlib.pyplot as plt\n",
    "import sklearn\n",
    "from sklearn.model_selection import train_test_split\n",
    "from sklearn.linear_model import LinearRegression\n",
    "from sklearn.metrics import r2_score, mean_squared_error\n"
   ]
  },
  {
   "cell_type": "markdown",
   "metadata": {},
   "source": [
    "1) Dự đoán điểm: dựa trên điểm viết dự đoán điểm đọc"
   ]
  },
  {
   "cell_type": "code",
   "execution_count": 131,
   "metadata": {},
   "outputs": [],
   "source": [
    "df = pd.read_csv('StudentsPerformance.csv')"
   ]
  },
  {
   "cell_type": "code",
   "execution_count": 132,
   "metadata": {},
   "outputs": [],
   "source": [
    "df = pd.DataFrame({\n",
    "    'writing score': df['writing score'],\n",
    "    'reading score': df['reading score']\n",
    "})"
   ]
  },
  {
   "cell_type": "code",
   "execution_count": 133,
   "metadata": {},
   "outputs": [
    {
     "data": {
      "text/html": [
       "<div>\n",
       "<style scoped>\n",
       "    .dataframe tbody tr th:only-of-type {\n",
       "        vertical-align: middle;\n",
       "    }\n",
       "\n",
       "    .dataframe tbody tr th {\n",
       "        vertical-align: top;\n",
       "    }\n",
       "\n",
       "    .dataframe thead th {\n",
       "        text-align: right;\n",
       "    }\n",
       "</style>\n",
       "<table border=\"1\" class=\"dataframe\">\n",
       "  <thead>\n",
       "    <tr style=\"text-align: right;\">\n",
       "      <th></th>\n",
       "      <th>writing score</th>\n",
       "      <th>reading score</th>\n",
       "    </tr>\n",
       "  </thead>\n",
       "  <tbody>\n",
       "    <tr>\n",
       "      <th>count</th>\n",
       "      <td>1000.000000</td>\n",
       "      <td>1000.000000</td>\n",
       "    </tr>\n",
       "    <tr>\n",
       "      <th>mean</th>\n",
       "      <td>68.054000</td>\n",
       "      <td>69.169000</td>\n",
       "    </tr>\n",
       "    <tr>\n",
       "      <th>std</th>\n",
       "      <td>15.195657</td>\n",
       "      <td>14.600192</td>\n",
       "    </tr>\n",
       "    <tr>\n",
       "      <th>min</th>\n",
       "      <td>10.000000</td>\n",
       "      <td>17.000000</td>\n",
       "    </tr>\n",
       "    <tr>\n",
       "      <th>25%</th>\n",
       "      <td>57.750000</td>\n",
       "      <td>59.000000</td>\n",
       "    </tr>\n",
       "    <tr>\n",
       "      <th>50%</th>\n",
       "      <td>69.000000</td>\n",
       "      <td>70.000000</td>\n",
       "    </tr>\n",
       "    <tr>\n",
       "      <th>75%</th>\n",
       "      <td>79.000000</td>\n",
       "      <td>79.000000</td>\n",
       "    </tr>\n",
       "    <tr>\n",
       "      <th>max</th>\n",
       "      <td>100.000000</td>\n",
       "      <td>100.000000</td>\n",
       "    </tr>\n",
       "  </tbody>\n",
       "</table>\n",
       "</div>"
      ],
      "text/plain": [
       "       writing score  reading score\n",
       "count    1000.000000    1000.000000\n",
       "mean       68.054000      69.169000\n",
       "std        15.195657      14.600192\n",
       "min        10.000000      17.000000\n",
       "25%        57.750000      59.000000\n",
       "50%        69.000000      70.000000\n",
       "75%        79.000000      79.000000\n",
       "max       100.000000     100.000000"
      ]
     },
     "execution_count": 133,
     "metadata": {},
     "output_type": "execute_result"
    }
   ],
   "source": [
    "df.describe()"
   ]
  },
  {
   "cell_type": "code",
   "execution_count": 134,
   "metadata": {},
   "outputs": [
    {
     "name": "stdout",
     "output_type": "stream",
     "text": [
      "<class 'pandas.core.frame.DataFrame'>\n",
      "RangeIndex: 1000 entries, 0 to 999\n",
      "Data columns (total 2 columns):\n",
      " #   Column         Non-Null Count  Dtype\n",
      "---  ------         --------------  -----\n",
      " 0   writing score  1000 non-null   int64\n",
      " 1   reading score  1000 non-null   int64\n",
      "dtypes: int64(2)\n",
      "memory usage: 15.8 KB\n"
     ]
    }
   ],
   "source": [
    "df.info()"
   ]
  },
  {
   "cell_type": "code",
   "execution_count": 135,
   "metadata": {},
   "outputs": [
    {
     "data": {
      "text/plain": [
       "writing score    0\n",
       "reading score    0\n",
       "dtype: int64"
      ]
     },
     "execution_count": 135,
     "metadata": {},
     "output_type": "execute_result"
    }
   ],
   "source": [
    "df.isnull().sum()"
   ]
  },
  {
   "cell_type": "code",
   "execution_count": 136,
   "metadata": {},
   "outputs": [
    {
     "data": {
      "image/png": "[encoded data removed]",
      "text/plain": [
       "<Figure size 720x432 with 1 Axes>"
      ]
     },
     "metadata": {
      "needs_background": "light"
     },
     "output_type": "display_data"
    }
   ],
   "source": [
    "plt.figure(figsize=(10,6))\n",
    "plt.scatter(df['writing score'], df['reading score'], alpha=0.5)\n",
    "plt.xlabel('Điểm viết')\n",
    "plt.ylabel('Điểm đọc')\n",
    "plt.show()"
   ]
  },
  {
   "cell_type": "markdown",
   "metadata": {},
   "source": [
    "Mức độ tương quan thuận"
   ]
  },
  {
   "cell_type": "code",
   "execution_count": 137,
   "metadata": {},
   "outputs": [],
   "source": [
    "X = df['writing score'].values.reshape(-1, 1)\n",
    "y = df['reading score'].values\n"
   ]
  },
  {
   "cell_type": "code",
   "execution_count": 138,
   "metadata": {},
   "outputs": [
    {
     "data": {
      "text/plain": [
       "LinearRegression()"
      ]
     },
     "execution_count": 138,
     "metadata": {},
     "output_type": "execute_result"
    }
   ],
   "source": [
    "# Huấn luyện mô hình\n",
    "X_train, X_test, y_train, y_test = train_test_split(X, y, test_size=0.2)\n",
    "model = LinearRegression()\n",
    "model.fit(X_train, y_train)"
   ]
  },
  {
   "cell_type": "code",
   "execution_count": 139,
   "metadata": {},
   "outputs": [
    {
     "data": {
      "text/plain": [
       "array([[ 80],\n",
       "       [ 83],\n",
       "       [ 36],\n",
       "       [ 74],\n",
       "       [ 77],\n",
       "       [ 80],\n",
       "       [ 61],\n",
       "       [ 53],\n",
       "       [ 66],\n",
       "       [ 80],\n",
       "       [ 99],\n",
       "       [ 76],\n",
       "       [ 66],\n",
       "       [ 37],\n",
       "       [ 54],\n",
       "       [ 65],\n",
       "       [ 52],\n",
       "       [ 78],\n",
       "       [ 74],\n",
       "       [ 60],\n",
       "       [ 78],\n",
       "       [ 80],\n",
       "       [ 47],\n",
       "       [ 56],\n",
       "       [ 62],\n",
       "       [ 70],\n",
       "       [ 53],\n",
       "       [ 70],\n",
       "       [ 62],\n",
       "       [ 59],\n",
       "       [ 68],\n",
       "       [ 78],\n",
       "       [ 86],\n",
       "       [ 69],\n",
       "       [ 81],\n",
       "       [ 94],\n",
       "       [ 90],\n",
       "       [ 34],\n",
       "       [ 80],\n",
       "       [ 94],\n",
       "       [ 41],\n",
       "       [ 47],\n",
       "       [ 67],\n",
       "       [ 63],\n",
       "       [ 64],\n",
       "       [ 81],\n",
       "       [ 73],\n",
       "       [ 95],\n",
       "       [ 78],\n",
       "       [ 60],\n",
       "       [ 75],\n",
       "       [ 41],\n",
       "       [ 64],\n",
       "       [ 61],\n",
       "       [ 66],\n",
       "       [ 69],\n",
       "       [ 62],\n",
       "       [ 66],\n",
       "       [ 36],\n",
       "       [ 68],\n",
       "       [ 48],\n",
       "       [ 72],\n",
       "       [ 23],\n",
       "       [ 69],\n",
       "       [ 58],\n",
       "       [ 68],\n",
       "       [ 74],\n",
       "       [ 78],\n",
       "       [ 73],\n",
       "       [ 68],\n",
       "       [ 63],\n",
       "       [ 98],\n",
       "       [ 54],\n",
       "       [ 90],\n",
       "       [ 80],\n",
       "       [ 94],\n",
       "       [ 52],\n",
       "       [ 77],\n",
       "       [ 53],\n",
       "       [ 65],\n",
       "       [ 92],\n",
       "       [ 67],\n",
       "       [ 90],\n",
       "       [ 70],\n",
       "       [ 78],\n",
       "       [ 93],\n",
       "       [ 92],\n",
       "       [ 65],\n",
       "       [ 58],\n",
       "       [ 62],\n",
       "       [ 72],\n",
       "       [ 74],\n",
       "       [ 63],\n",
       "       [ 45],\n",
       "       [ 38],\n",
       "       [ 68],\n",
       "       [ 72],\n",
       "       [ 67],\n",
       "       [ 54],\n",
       "       [ 83],\n",
       "       [ 74],\n",
       "       [ 51],\n",
       "       [ 73],\n",
       "       [ 52],\n",
       "       [ 78],\n",
       "       [ 49],\n",
       "       [ 67],\n",
       "       [ 34],\n",
       "       [ 80],\n",
       "       [ 55],\n",
       "       [ 56],\n",
       "       [ 72],\n",
       "       [ 69],\n",
       "       [ 60],\n",
       "       [ 73],\n",
       "       [ 48],\n",
       "       [ 73],\n",
       "       [ 66],\n",
       "       [ 82],\n",
       "       [ 64],\n",
       "       [ 67],\n",
       "       [ 67],\n",
       "       [ 81],\n",
       "       [ 77],\n",
       "       [ 62],\n",
       "       [100],\n",
       "       [ 81],\n",
       "       [ 52],\n",
       "       [ 68],\n",
       "       [ 90],\n",
       "       [ 53],\n",
       "       [ 64],\n",
       "       [ 90],\n",
       "       [ 67],\n",
       "       [ 76],\n",
       "       [ 52],\n",
       "       [ 52],\n",
       "       [ 64],\n",
       "       [ 37],\n",
       "       [ 71],\n",
       "       [ 82],\n",
       "       [ 53],\n",
       "       [ 62],\n",
       "       [ 60],\n",
       "       [ 74],\n",
       "       [ 80],\n",
       "       [ 89],\n",
       "       [ 84],\n",
       "       [ 56],\n",
       "       [ 89],\n",
       "       [ 52],\n",
       "       [ 76],\n",
       "       [ 65],\n",
       "       [ 79],\n",
       "       [ 60],\n",
       "       [ 70],\n",
       "       [ 58],\n",
       "       [ 84],\n",
       "       [ 36],\n",
       "       [ 59],\n",
       "       [ 67],\n",
       "       [ 61],\n",
       "       [ 79],\n",
       "       [ 74],\n",
       "       [ 71],\n",
       "       [ 30],\n",
       "       [ 50],\n",
       "       [ 55],\n",
       "       [ 68],\n",
       "       [ 54],\n",
       "       [ 65],\n",
       "       [ 68],\n",
       "       [ 87],\n",
       "       [ 81],\n",
       "       [ 78],\n",
       "       [ 53],\n",
       "       [ 77],\n",
       "       [ 54],\n",
       "       [ 73],\n",
       "       [ 60],\n",
       "       [ 77],\n",
       "       [ 61],\n",
       "       [ 57],\n",
       "       [ 58],\n",
       "       [ 88],\n",
       "       [ 85],\n",
       "       [ 72],\n",
       "       [ 46],\n",
       "       [ 49],\n",
       "       [ 74],\n",
       "       [ 88],\n",
       "       [ 39],\n",
       "       [ 74],\n",
       "       [ 64],\n",
       "       [ 85],\n",
       "       [ 70],\n",
       "       [ 76],\n",
       "       [ 70],\n",
       "       [ 54],\n",
       "       [ 87]], dtype=int64)"
      ]
     },
     "execution_count": 139,
     "metadata": {},
     "output_type": "execute_result"
    }
   ],
   "source": [
    "X_test"
   ]
  },
  {
   "cell_type": "code",
   "execution_count": 143,
   "metadata": {},
   "outputs": [
    {
     "data": {
      "text/plain": [
       "array([80.18395492, 82.9297428 , 39.91239934, 74.69237916, 77.43816704,\n",
       "       80.18395492, 62.79396501, 55.471864  , 67.37027814, 80.18395492,\n",
       "       97.57394482, 76.52290441, 67.37027814, 40.82766197, 56.38712662,\n",
       "       66.45501552, 54.55660137, 78.35342966, 74.69237916, 61.87870238,\n",
       "       78.35342966, 80.18395492, 49.98028824, 58.21765188, 63.70922764,\n",
       "       71.03132865, 55.471864  , 71.03132865, 63.70922764, 60.96343976,\n",
       "       69.2008034 , 78.35342966, 85.67553068, 70.11606602, 81.09921754,\n",
       "       92.99763169, 89.33658118, 38.08187409, 80.18395492, 92.99763169,\n",
       "       44.48871248, 49.98028824, 68.28554077, 64.62449026, 65.53975289,\n",
       "       81.09921754, 73.77711653, 93.91289432, 78.35342966, 61.87870238,\n",
       "       75.60764178, 44.48871248, 65.53975289, 62.79396501, 67.37027814,\n",
       "       70.11606602, 63.70922764, 67.37027814, 39.91239934, 69.2008034 ,\n",
       "       50.89555086, 72.8618539 , 28.0139852 , 70.11606602, 60.04817713,\n",
       "       69.2008034 , 74.69237916, 78.35342966, 73.77711653, 69.2008034 ,\n",
       "       64.62449026, 96.6586822 , 56.38712662, 89.33658118, 80.18395492,\n",
       "       92.99763169, 54.55660137, 77.43816704, 55.471864  , 66.45501552,\n",
       "       91.16710644, 68.28554077, 89.33658118, 71.03132865, 78.35342966,\n",
       "       92.08236906, 91.16710644, 66.45501552, 60.04817713, 63.70922764,\n",
       "       72.8618539 , 74.69237916, 64.62449026, 48.14976298, 41.7429246 ,\n",
       "       69.2008034 , 72.8618539 , 68.28554077, 56.38712662, 82.9297428 ,\n",
       "       74.69237916, 53.64133874, 73.77711653, 54.55660137, 78.35342966,\n",
       "       51.81081349, 68.28554077, 38.08187409, 80.18395492, 57.30238925,\n",
       "       58.21765188, 72.8618539 , 70.11606602, 61.87870238, 73.77711653,\n",
       "       50.89555086, 73.77711653, 67.37027814, 82.01448017, 65.53975289,\n",
       "       68.28554077, 68.28554077, 81.09921754, 77.43816704, 63.70922764,\n",
       "       98.48920745, 81.09921754, 54.55660137, 69.2008034 , 89.33658118,\n",
       "       55.471864  , 65.53975289, 89.33658118, 68.28554077, 76.52290441,\n",
       "       54.55660137, 54.55660137, 65.53975289, 40.82766197, 71.94659128,\n",
       "       82.01448017, 55.471864  , 63.70922764, 61.87870238, 74.69237916,\n",
       "       80.18395492, 88.42131856, 83.84500542, 58.21765188, 88.42131856,\n",
       "       54.55660137, 76.52290441, 66.45501552, 79.26869229, 61.87870238,\n",
       "       71.03132865, 60.04817713, 83.84500542, 39.91239934, 60.96343976,\n",
       "       68.28554077, 62.79396501, 79.26869229, 74.69237916, 71.94659128,\n",
       "       34.42082358, 52.72607612, 57.30238925, 69.2008034 , 56.38712662,\n",
       "       66.45501552, 69.2008034 , 86.5907933 , 81.09921754, 78.35342966,\n",
       "       55.471864  , 77.43816704, 56.38712662, 73.77711653, 61.87870238,\n",
       "       77.43816704, 62.79396501, 59.1329145 , 60.04817713, 87.50605593,\n",
       "       84.76026805, 72.8618539 , 49.06502561, 51.81081349, 74.69237916,\n",
       "       87.50605593, 42.65818722, 74.69237916, 65.53975289, 84.76026805,\n",
       "       71.03132865, 76.52290441, 71.03132865, 56.38712662, 86.5907933 ])"
      ]
     },
     "execution_count": 143,
     "metadata": {},
     "output_type": "execute_result"
    }
   ],
   "source": [
    "y_pred = model.predict(X_test)\n",
    "y_pred"
   ]
  },
  {
   "cell_type": "code",
   "execution_count": 146,
   "metadata": {},
   "outputs": [
    {
     "name": "stdout",
     "output_type": "stream",
     "text": [
      "Kết quả mô hình: \n",
      "R2 Score: 0.9102\n",
      "RMSE: 4.2860\n"
     ]
    }
   ],
   "source": [
    "print('Kết quả mô hình: ')\n",
    "print(f'R2 Score: {r2_score(y_test, y_pred):.4f}')\n",
    "print(f'RMSE: {np.sqrt(mean_squared_error(y_test, y_pred)):.4f}')"
   ]
  }
 ],
 "metadata": {
  "kernelspec": {
   "display_name": "Python 3",
   "language": "python",
   "name": "python3"
  },
  "language_info": {
   "codemirror_mode": {
    "name": "ipython",
    "version": 3
   },
   "file_extension": ".py",
   "mimetype": "text/x-python",
   "name": "python",
   "nbconvert_exporter": "python",
   "pygments_lexer": "ipython3",
   "version": "3.8.5"
  }
 },
 "nbformat": 4,
 "nbformat_minor": 2
}
