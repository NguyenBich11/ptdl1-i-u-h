{
 "cells": [
  {
   "cell_type": "markdown",
   "metadata": {},
   "source": [
    "Cho địa chỉ IP và SM. <br> \n",
    "Tính:<br>\n",
    "a)Cho biết số bits Host, Net <br>\n",
    "b)Bao nhiêu địa chỉ Net? <br>\n",
    "c)Bao nhiêu địa chỉ Broadcast? <br>\n",
    "d)Có bao nhiêu địa chỉ IP cấp cho Host? <br>\n",
    "e)5IP đầu, 5IP cuối cấp cho Host. <br>"
   ]
  },
  {
   "cell_type": "markdown",
   "metadata": {},
   "source": [
    "203.178.142.130"
   ]
  },
  {
   "cell_type": "code",
   "execution_count": 1,
   "metadata": {},
   "outputs": [],
   "source": [
    "import ipaddress"
   ]
  },
  {
   "cell_type": "code",
   "execution_count": 2,
   "metadata": {},
   "outputs": [],
   "source": [
    "# Địa chỉ IP và subnet mask\n",
    "ip_Number = '203.178.142.130/24'\n",
    "ip = ipaddress.ip_interface(ip_Number)"
   ]
  },
  {
   "cell_type": "code",
   "execution_count": 3,
   "metadata": {},
   "outputs": [
    {
     "name": "stdout",
     "output_type": "stream",
     "text": [
      "Subnet Mask: 255.255.255.0\n"
     ]
    }
   ],
   "source": [
    "network = ip.network\n",
    "subnet_mask = network.netmask\n",
    "print(f\"Subnet Mask: {subnet_mask}\")"
   ]
  },
  {
   "cell_type": "code",
   "execution_count": 4,
   "metadata": {},
   "outputs": [
    {
     "name": "stdout",
     "output_type": "stream",
     "text": [
      "Số bits Host: 8, Số bits Net: 24\n"
     ]
    }
   ],
   "source": [
    "# a) Số bits Host, Net\n",
    "total_bits = 32\n",
    "net_bits = network.prefixlen\n",
    "host_bits = total_bits - net_bits\n",
    "print(f\"Số bits Host: {host_bits}, Số bits Net: {net_bits}\")"
   ]
  },
  {
   "cell_type": "code",
   "execution_count": 5,
   "metadata": {},
   "outputs": [
    {
     "name": "stdout",
     "output_type": "stream",
     "text": [
      "Số địa chỉ Net: 16777216\n"
     ]
    }
   ],
   "source": [
    "# b) Số địa chỉ Net\n",
    "num_network_addresses = 2 ** net_bits\n",
    "print(f\"Số địa chỉ Net: {num_network_addresses}\")"
   ]
  },
  {
   "cell_type": "code",
   "execution_count": 6,
   "metadata": {},
   "outputs": [
    {
     "name": "stdout",
     "output_type": "stream",
     "text": [
      "Số địa chỉ Broadcast: 256\n"
     ]
    }
   ],
   "source": [
    "# c) Số địa chỉ Broadcast\n",
    "num_broadcast_addresses = 2 ** host_bits\n",
    "print(f\"Số địa chỉ Broadcast: {num_broadcast_addresses}\")"
   ]
  },
  {
   "cell_type": "code",
   "execution_count": 7,
   "metadata": {},
   "outputs": [
    {
     "name": "stdout",
     "output_type": "stream",
     "text": [
      "Số địa chỉ IP cấp cho Host: 254\n"
     ]
    }
   ],
   "source": [
    "# d) Số địa chỉ IP cấp cho Host\n",
    "num_host_addresses = num_broadcast_addresses - 2  \n",
    "# Trừ địa chỉ Net và Broadcast\n",
    "print(f\"Số địa chỉ IP cấp cho Host: {num_host_addresses}\")"
   ]
  },
  {
   "cell_type": "code",
   "execution_count": 8,
   "metadata": {},
   "outputs": [
    {
     "name": "stdout",
     "output_type": "stream",
     "text": [
      "5 IP đầu cấp cho Host: ['203.178.142.1', '203.178.142.2', '203.178.142.3', '203.178.142.4', '203.178.142.5']\n",
      "5 IP cuối cấp cho Host: ['203.178.142.250', '203.178.142.251', '203.178.142.252', '203.178.142.253', '203.178.142.254']\n"
     ]
    }
   ],
   "source": [
    "# e) 5 IP đầu, 5 IP cuối cấp cho Host\n",
    "host_ips = [str(ip) for ip in network.hosts()]\n",
    "first_5_hosts = host_ips[:5]\n",
    "last_5_hosts = host_ips[-5:]\n",
    "print(f\"5 IP đầu cấp cho Host: {first_5_hosts}\")\n",
    "print(f\"5 IP cuối cấp cho Host: {last_5_hosts}\")"
   ]
  },
  {
   "cell_type": "markdown",
   "metadata": {},
   "source": [
    "172.168.130.0/23"
   ]
  },
  {
   "cell_type": "code",
   "execution_count": 9,
   "metadata": {},
   "outputs": [],
   "source": [
    "network = ipaddress.ip_network('172.168.130.0/23')"
   ]
  },
  {
   "cell_type": "code",
   "execution_count": 11,
   "metadata": {},
   "outputs": [
    {
     "name": "stdout",
     "output_type": "stream",
     "text": [
      "Địa chỉ cuối cùng thuộc mạng: 172.168.131.255\n",
      "Số địa chỉ host có thể có trong mạng: 510\n",
      "3 địa chỉ host thuộc mạng: [IPv4Address('172.168.130.1'), IPv4Address('172.168.130.2'), IPv4Address('172.168.130.3')]\n"
     ]
    }
   ],
   "source": [
    "# Xác định địa chỉ cuối cùng thuộc mạng\n",
    "last_address = network[-1]\n",
    "# Số địa chỉ host có thể có trong mạng\n",
    "num_host_addresses = network.num_addresses - 2  \n",
    "# Trừ địa chỉ mạng và địa chỉ broadcast\n",
    "# Liệt kê 3 địa chỉ host thuộc mạng\n",
    "host_addresses = list(network.hosts())[:3]\n",
    "\n",
    "# In kết quả\n",
    "print(f\"Địa chỉ cuối cùng thuộc mạng: {last_address}\")\n",
    "print(f\"Số địa chỉ host có thể có trong mạng: {num_host_addresses}\")\n",
    "print(f\"3 địa chỉ host thuộc mạng: {host_addresses}\")"
   ]
  }
 ],
 "metadata": {
  "kernelspec": {
   "display_name": "Python 3",
   "language": "python",
   "name": "python3"
  },
  "language_info": {
   "codemirror_mode": {
    "name": "ipython",
    "version": 3
   },
   "file_extension": ".py",
   "mimetype": "text/x-python",
   "name": "python",
   "nbconvert_exporter": "python",
   "pygments_lexer": "ipython3",
   "version": "3.12.3"
  }
 },
 "nbformat": 4,
 "nbformat_minor": 2
}
