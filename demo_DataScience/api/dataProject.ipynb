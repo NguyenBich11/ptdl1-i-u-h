{
 "cells": [
  {
   "cell_type": "code",
   "execution_count": 10,
   "id": "initial_id",
   "metadata": {
    "collapsed": true,
    "ExecuteTime": {
     "end_time": "2024-03-24T06:51:35.527789Z",
     "start_time": "2024-03-24T06:51:35.515722Z"
    }
   },
   "outputs": [],
   "source": [
    "import requests\n",
    "import pandas as pd"
   ]
  },
  {
   "cell_type": "code",
   "outputs": [],
   "source": [
    "try:\n",
    "    # URL của API JSON\n",
    "    #url = 'https://656de793bcc5618d3c243220.mockapi.io/NhanVien'  # Thay đổi URL thành URL thực tế của API JSON\n",
    "    urlProject='http://localhost:8080/api/projects'\n",
    "    #urlStaff='http://localhost:8080/api/staff'\n",
    "    # Gửi yêu cầu GET đến API và lấy dữ liệu JSON\n",
    "    response = requests.get(urlProject)\n",
    "    #response2 = requests.get(urlStaff)\n",
    "    # Kiểm tra mã trạng thái của phản hồi\n",
    "    response.raise_for_status()\n",
    "    # Biến dữ liệu JSON thành DataFrame\n",
    "    dataProject = response.json()\n",
    "    #dataStaff = response2.json()\n",
    "    \n",
    "    dfProject = pd.DataFrame(dataProject)\n",
    "    #dfStaff = pd.DataFrame(dataStaff)\n",
    "    # Hiển thị DataFrame\n",
    "    #print(df)\n",
    "except requests.exceptions.RequestException as e:\n",
    "    print(\"Có lỗi khi gửi yêu cầu đến API:\", e)\n",
    "except ValueError as e:\n",
    "    print(\"Có lỗi khi xử lý dữ liệu JSON:\", e)\n",
    "except Exception as e:\n",
    "    print(\"Có lỗi không xác định:\", e)"
   ],
   "metadata": {
    "collapsed": false,
    "ExecuteTime": {
     "end_time": "2024-03-24T06:51:35.559784Z",
     "start_time": "2024-03-24T06:51:35.530790Z"
    }
   },
   "id": "687934675fe39aee",
   "execution_count": 11
  },
  {
   "cell_type": "code",
   "outputs": [
    {
     "data": {
      "text/plain": "   project_id      name  budget   startDate\n0           1  Landmark    50.0  2024-10-23\n1           2  Landmark    50.0  2024-10-23\n2           3  Landmark    50.0  2024-10-23\n3           4   Kistaro    50.0  2024-10-23\n4           5  Landmark    50.0  2024-10-23\n5           6   Kistaro    50.0  2024-10-23\n6           7  Landmark    50.0  2024-10-23\n7           8   Kistaro    50.0  2024-10-23",
      "text/html": "<div>\n<style scoped>\n    .dataframe tbody tr th:only-of-type {\n        vertical-align: middle;\n    }\n\n    .dataframe tbody tr th {\n        vertical-align: top;\n    }\n\n    .dataframe thead th {\n        text-align: right;\n    }\n</style>\n<table border=\"1\" class=\"dataframe\">\n  <thead>\n    <tr style=\"text-align: right;\">\n      <th></th>\n      <th>project_id</th>\n      <th>name</th>\n      <th>budget</th>\n      <th>startDate</th>\n    </tr>\n  </thead>\n  <tbody>\n    <tr>\n      <th>0</th>\n      <td>1</td>\n      <td>Landmark</td>\n      <td>50.0</td>\n      <td>2024-10-23</td>\n    </tr>\n    <tr>\n      <th>1</th>\n      <td>2</td>\n      <td>Landmark</td>\n      <td>50.0</td>\n      <td>2024-10-23</td>\n    </tr>\n    <tr>\n      <th>2</th>\n      <td>3</td>\n      <td>Landmark</td>\n      <td>50.0</td>\n      <td>2024-10-23</td>\n    </tr>\n    <tr>\n      <th>3</th>\n      <td>4</td>\n      <td>Kistaro</td>\n      <td>50.0</td>\n      <td>2024-10-23</td>\n    </tr>\n    <tr>\n      <th>4</th>\n      <td>5</td>\n      <td>Landmark</td>\n      <td>50.0</td>\n      <td>2024-10-23</td>\n    </tr>\n    <tr>\n      <th>5</th>\n      <td>6</td>\n      <td>Kistaro</td>\n      <td>50.0</td>\n      <td>2024-10-23</td>\n    </tr>\n    <tr>\n      <th>6</th>\n      <td>7</td>\n      <td>Landmark</td>\n      <td>50.0</td>\n      <td>2024-10-23</td>\n    </tr>\n    <tr>\n      <th>7</th>\n      <td>8</td>\n      <td>Kistaro</td>\n      <td>50.0</td>\n      <td>2024-10-23</td>\n    </tr>\n  </tbody>\n</table>\n</div>"
     },
     "execution_count": 12,
     "metadata": {},
     "output_type": "execute_result"
    }
   ],
   "source": [
    "dfProject"
   ],
   "metadata": {
    "collapsed": false,
    "ExecuteTime": {
     "end_time": "2024-03-24T06:51:35.574785Z",
     "start_time": "2024-03-24T06:51:35.561786Z"
    }
   },
   "id": "fd03ffa7fc9111d4",
   "execution_count": 12
  },
  {
   "cell_type": "code",
   "outputs": [],
   "source": [
    "try:\n",
    "    # URL của API JSON\n",
    "    #url = 'https://656de793bcc5618d3c243220.mockapi.io/NhanVien'  # Thay đổi URL thành URL thực tế của API JSON\n",
    "    urlStaff='http://localhost:8080/api/staffs'\n",
    "    #urlStaff='http://localhost:8080/api/staff'\n",
    "    # Gửi yêu cầu GET đến API và lấy dữ liệu JSON\n",
    "    response = requests.get(urlStaff)\n",
    "    #response2 = requests.get(urlStaff)\n",
    "    # Kiểm tra mã trạng thái của phản hồi\n",
    "    response.raise_for_status()\n",
    "    # Biến dữ liệu JSON thành DataFrame\n",
    "    #dataProject = response.json()\n",
    "    dataStaff = response.json()\n",
    "\n",
    "    dfStaff = pd.DataFrame(dataStaff)\n",
    "    #dfStaff = pd.DataFrame(dataStaff)\n",
    "    # Hiển thị DataFrame\n",
    "    #print(df)\n",
    "except requests.exceptions.RequestException as e:\n",
    "    print(\"Có lỗi khi gửi yêu cầu đến API:\", e)\n",
    "except ValueError as e:\n",
    "    print(\"Có lỗi khi xử lý dữ liệu JSON:\", e)\n",
    "except Exception as e:\n",
    "    print(\"Có lỗi không xác định:\", e)"
   ],
   "metadata": {
    "collapsed": false,
    "ExecuteTime": {
     "end_time": "2024-03-24T06:51:35.621878Z",
     "start_time": "2024-03-24T06:51:35.576785Z"
    }
   },
   "id": "a9402c4484937322",
   "execution_count": 13
  },
  {
   "cell_type": "code",
   "outputs": [
    {
     "data": {
      "text/plain": "    staff_id nameStaff  age  gender\n0          1       Man   30    True\n1          2       Ben   30    True\n2          3      Mary   30   False\n3          4       Man   30    True\n4          5       Ben   30    True\n5          6      Mary   30   False\n6          7   Ben Bis   30    True\n7          8      Mark   30   False\n8          9   Man Man   30    True\n9         10       Ben   30    True\n10        11      Mary   30   False\n11        12   Ben Bis   30    True\n12        13      Mark   30   False\n13        14   Man Man   30    True\n14        15       Ben   30    True\n15        16      Mary   30   False\n16        17   Ben Bis   30    True\n17        18      Mark   30   False\n18        19   Man Man   30    True\n19        20       Ben   30    True\n20        21      Mary   30   False",
      "text/html": "<div>\n<style scoped>\n    .dataframe tbody tr th:only-of-type {\n        vertical-align: middle;\n    }\n\n    .dataframe tbody tr th {\n        vertical-align: top;\n    }\n\n    .dataframe thead th {\n        text-align: right;\n    }\n</style>\n<table border=\"1\" class=\"dataframe\">\n  <thead>\n    <tr style=\"text-align: right;\">\n      <th></th>\n      <th>staff_id</th>\n      <th>nameStaff</th>\n      <th>age</th>\n      <th>gender</th>\n    </tr>\n  </thead>\n  <tbody>\n    <tr>\n      <th>0</th>\n      <td>1</td>\n      <td>Man</td>\n      <td>30</td>\n      <td>True</td>\n    </tr>\n    <tr>\n      <th>1</th>\n      <td>2</td>\n      <td>Ben</td>\n      <td>30</td>\n      <td>True</td>\n    </tr>\n    <tr>\n      <th>2</th>\n      <td>3</td>\n      <td>Mary</td>\n      <td>30</td>\n      <td>False</td>\n    </tr>\n    <tr>\n      <th>3</th>\n      <td>4</td>\n      <td>Man</td>\n      <td>30</td>\n      <td>True</td>\n    </tr>\n    <tr>\n      <th>4</th>\n      <td>5</td>\n      <td>Ben</td>\n      <td>30</td>\n      <td>True</td>\n    </tr>\n    <tr>\n      <th>5</th>\n      <td>6</td>\n      <td>Mary</td>\n      <td>30</td>\n      <td>False</td>\n    </tr>\n    <tr>\n      <th>6</th>\n      <td>7</td>\n      <td>Ben Bis</td>\n      <td>30</td>\n      <td>True</td>\n    </tr>\n    <tr>\n      <th>7</th>\n      <td>8</td>\n      <td>Mark</td>\n      <td>30</td>\n      <td>False</td>\n    </tr>\n    <tr>\n      <th>8</th>\n      <td>9</td>\n      <td>Man Man</td>\n      <td>30</td>\n      <td>True</td>\n    </tr>\n    <tr>\n      <th>9</th>\n      <td>10</td>\n      <td>Ben</td>\n      <td>30</td>\n      <td>True</td>\n    </tr>\n    <tr>\n      <th>10</th>\n      <td>11</td>\n      <td>Mary</td>\n      <td>30</td>\n      <td>False</td>\n    </tr>\n    <tr>\n      <th>11</th>\n      <td>12</td>\n      <td>Ben Bis</td>\n      <td>30</td>\n      <td>True</td>\n    </tr>\n    <tr>\n      <th>12</th>\n      <td>13</td>\n      <td>Mark</td>\n      <td>30</td>\n      <td>False</td>\n    </tr>\n    <tr>\n      <th>13</th>\n      <td>14</td>\n      <td>Man Man</td>\n      <td>30</td>\n      <td>True</td>\n    </tr>\n    <tr>\n      <th>14</th>\n      <td>15</td>\n      <td>Ben</td>\n      <td>30</td>\n      <td>True</td>\n    </tr>\n    <tr>\n      <th>15</th>\n      <td>16</td>\n      <td>Mary</td>\n      <td>30</td>\n      <td>False</td>\n    </tr>\n    <tr>\n      <th>16</th>\n      <td>17</td>\n      <td>Ben Bis</td>\n      <td>30</td>\n      <td>True</td>\n    </tr>\n    <tr>\n      <th>17</th>\n      <td>18</td>\n      <td>Mark</td>\n      <td>30</td>\n      <td>False</td>\n    </tr>\n    <tr>\n      <th>18</th>\n      <td>19</td>\n      <td>Man Man</td>\n      <td>30</td>\n      <td>True</td>\n    </tr>\n    <tr>\n      <th>19</th>\n      <td>20</td>\n      <td>Ben</td>\n      <td>30</td>\n      <td>True</td>\n    </tr>\n    <tr>\n      <th>20</th>\n      <td>21</td>\n      <td>Mary</td>\n      <td>30</td>\n      <td>False</td>\n    </tr>\n  </tbody>\n</table>\n</div>"
     },
     "execution_count": 14,
     "metadata": {},
     "output_type": "execute_result"
    }
   ],
   "source": [
    "dfStaff"
   ],
   "metadata": {
    "collapsed": false,
    "ExecuteTime": {
     "end_time": "2024-03-24T06:51:35.637076Z",
     "start_time": "2024-03-24T06:51:35.625081Z"
    }
   },
   "id": "904cf1e9e5e6ccbb",
   "execution_count": 14
  },
  {
   "cell_type": "code",
   "outputs": [
    {
     "data": {
      "text/plain": "(21, 4)"
     },
     "execution_count": 15,
     "metadata": {},
     "output_type": "execute_result"
    }
   ],
   "source": [
    "dfStaff.shape"
   ],
   "metadata": {
    "collapsed": false,
    "ExecuteTime": {
     "end_time": "2024-03-24T06:51:35.652451Z",
     "start_time": "2024-03-24T06:51:35.639078Z"
    }
   },
   "id": "d3547d34c829a7f1",
   "execution_count": 15
  },
  {
   "cell_type": "code",
   "outputs": [
    {
     "data": {
      "text/plain": "(8, 4)"
     },
     "execution_count": 16,
     "metadata": {},
     "output_type": "execute_result"
    }
   ],
   "source": [
    "dfProject.shape"
   ],
   "metadata": {
    "collapsed": false,
    "ExecuteTime": {
     "end_time": "2024-03-24T06:51:35.668542Z",
     "start_time": "2024-03-24T06:51:35.654449Z"
    }
   },
   "id": "8126627af5b028e0",
   "execution_count": 16
  },
  {
   "cell_type": "code",
   "outputs": [
    {
     "name": "stdout",
     "output_type": "stream",
     "text": [
      "Project ID: 1\n",
      "Project Name: Landmark\n",
      "Project Budget: 50.0\n",
      "Project StartDate: 2024-10-23\n",
      "--------------\n",
      "Project ID: 2\n",
      "Project Name: Landmark\n",
      "Project Budget: 50.0\n",
      "Project StartDate: 2024-10-23\n",
      "--------------\n",
      "Project ID: 3\n",
      "Project Name: Landmark\n",
      "Project Budget: 50.0\n",
      "Project StartDate: 2024-10-23\n",
      "--------------\n",
      "Project ID: 4\n",
      "Project Name: Kistaro\n",
      "Project Budget: 50.0\n",
      "Project StartDate: 2024-10-23\n",
      "--------------\n",
      "Project ID: 5\n",
      "Project Name: Landmark\n",
      "Project Budget: 50.0\n",
      "Project StartDate: 2024-10-23\n",
      "--------------\n",
      "Project ID: 6\n",
      "Project Name: Kistaro\n",
      "Project Budget: 50.0\n",
      "Project StartDate: 2024-10-23\n",
      "--------------\n",
      "Project ID: 7\n",
      "Project Name: Landmark\n",
      "Project Budget: 50.0\n",
      "Project StartDate: 2024-10-23\n",
      "--------------\n",
      "Project ID: 8\n",
      "Project Name: Kistaro\n",
      "Project Budget: 50.0\n",
      "Project StartDate: 2024-10-23\n",
      "--------------\n"
     ]
    }
   ],
   "source": [
    "url = \"http://localhost:8080/api/projects\"\n",
    "\n",
    "# Gửi yêu cầu GET\n",
    "response = requests.get(url)\n",
    "\n",
    "# Kiểm tra mã trạng thái của phản hồi\n",
    "if response.status_code == 200:\n",
    "    # Lấy dữ liệu từ phản hồi\n",
    "    data = response.json()\n",
    "    # Xử lý và hiển thị dữ liệu\n",
    "    for project in data:\n",
    "        print(\"Project ID:\", project[\"project_id\"])\n",
    "        print(\"Project Name:\", project[\"name\"])\n",
    "        print(\"Project Budget:\", project[\"budget\"])\n",
    "        print(\"Project StartDate:\", project[\"startDate\"])\n",
    "        print(\"--------------\")\n",
    "else:\n",
    "    print(\"Yêu cầu không thành công. Mã trạng thái:\", response.status_code)"
   ],
   "metadata": {
    "collapsed": false,
    "ExecuteTime": {
     "end_time": "2024-03-24T06:51:35.699945Z",
     "start_time": "2024-03-24T06:51:35.670523Z"
    }
   },
   "id": "4f1760a4b25748f5",
   "execution_count": 17
  },
  {
   "cell_type": "code",
   "outputs": [],
   "source": [],
   "metadata": {
    "collapsed": false,
    "ExecuteTime": {
     "end_time": "2024-03-24T06:51:35.715455Z",
     "start_time": "2024-03-24T06:51:35.701942Z"
    }
   },
   "id": "36d544b5c33440d4",
   "execution_count": 17
  }
 ],
 "metadata": {
  "kernelspec": {
   "display_name": "Python 3",
   "language": "python",
   "name": "python3"
  },
  "language_info": {
   "codemirror_mode": {
    "name": "ipython",
    "version": 2
   },
   "file_extension": ".py",
   "mimetype": "text/x-python",
   "name": "python",
   "nbconvert_exporter": "python",
   "pygments_lexer": "ipython2",
   "version": "2.7.6"
  }
 },
 "nbformat": 4,
 "nbformat_minor": 5
}
