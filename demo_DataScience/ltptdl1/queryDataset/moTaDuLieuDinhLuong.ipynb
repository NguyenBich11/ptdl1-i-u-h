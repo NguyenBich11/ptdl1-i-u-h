{
 "cells": [
  {
   "cell_type": "code",
   "execution_count": 1,
   "id": "5416e8db",
   "metadata": {},
   "outputs": [
    {
     "data": {
      "text/html": [
       "<div>\n",
       "<style scoped>\n",
       "    .dataframe tbody tr th:only-of-type {\n",
       "        vertical-align: middle;\n",
       "    }\n",
       "\n",
       "    .dataframe tbody tr th {\n",
       "        vertical-align: top;\n",
       "    }\n",
       "\n",
       "    .dataframe thead th {\n",
       "        text-align: right;\n",
       "    }\n",
       "</style>\n",
       "<table border=\"1\" class=\"dataframe\">\n",
       "  <thead>\n",
       "    <tr style=\"text-align: right;\">\n",
       "      <th></th>\n",
       "      <th>MSSV</th>\n",
       "      <th>T1</th>\n",
       "      <th>T2</th>\n",
       "      <th>T3</th>\n",
       "      <th>T4</th>\n",
       "      <th>T5</th>\n",
       "      <th>T6</th>\n",
       "      <th>GT</th>\n",
       "      <th>DT</th>\n",
       "      <th>KV</th>\n",
       "      <th>NGONNGU</th>\n",
       "      <th>TOANLOGICPHANTICH</th>\n",
       "      <th>GIAIQUYETVANDE</th>\n",
       "      <th>KT</th>\n",
       "      <th>NGAYTHI</th>\n",
       "      <th>DINHHUONGNGHENGHIEP</th>\n",
       "    </tr>\n",
       "  </thead>\n",
       "  <tbody>\n",
       "    <tr>\n",
       "      <th>0</th>\n",
       "      <td>SV001</td>\n",
       "      <td>7.2</td>\n",
       "      <td>8.4</td>\n",
       "      <td>7.4</td>\n",
       "      <td>7.2</td>\n",
       "      <td>7.4</td>\n",
       "      <td>6.9</td>\n",
       "      <td>F</td>\n",
       "      <td>NaN</td>\n",
       "      <td>2NT</td>\n",
       "      <td>3.25</td>\n",
       "      <td>3.25</td>\n",
       "      <td>4.50</td>\n",
       "      <td>A1</td>\n",
       "      <td>12/7/2018</td>\n",
       "      <td>No</td>\n",
       "    </tr>\n",
       "    <tr>\n",
       "      <th>1</th>\n",
       "      <td>SV002</td>\n",
       "      <td>5.4</td>\n",
       "      <td>6.3</td>\n",
       "      <td>4.3</td>\n",
       "      <td>4.9</td>\n",
       "      <td>3.0</td>\n",
       "      <td>4.0</td>\n",
       "      <td>M</td>\n",
       "      <td>NaN</td>\n",
       "      <td>1</td>\n",
       "      <td>6.00</td>\n",
       "      <td>4.00</td>\n",
       "      <td>3.50</td>\n",
       "      <td>C</td>\n",
       "      <td>12/7/2018</td>\n",
       "      <td>Yes</td>\n",
       "    </tr>\n",
       "    <tr>\n",
       "      <th>2</th>\n",
       "      <td>SV003</td>\n",
       "      <td>5.6</td>\n",
       "      <td>5.0</td>\n",
       "      <td>2.8</td>\n",
       "      <td>6.1</td>\n",
       "      <td>4.8</td>\n",
       "      <td>5.7</td>\n",
       "      <td>M</td>\n",
       "      <td>NaN</td>\n",
       "      <td>1</td>\n",
       "      <td>5.00</td>\n",
       "      <td>6.75</td>\n",
       "      <td>4.00</td>\n",
       "      <td>C</td>\n",
       "      <td>12/7/2018</td>\n",
       "      <td>No</td>\n",
       "    </tr>\n",
       "    <tr>\n",
       "      <th>3</th>\n",
       "      <td>SV004</td>\n",
       "      <td>6.6</td>\n",
       "      <td>5.1</td>\n",
       "      <td>5.9</td>\n",
       "      <td>4.1</td>\n",
       "      <td>6.1</td>\n",
       "      <td>7.4</td>\n",
       "      <td>M</td>\n",
       "      <td>NaN</td>\n",
       "      <td>1</td>\n",
       "      <td>4.25</td>\n",
       "      <td>4.25</td>\n",
       "      <td>5.25</td>\n",
       "      <td>D1</td>\n",
       "      <td>12/7/2018</td>\n",
       "      <td>No</td>\n",
       "    </tr>\n",
       "    <tr>\n",
       "      <th>4</th>\n",
       "      <td>SV005</td>\n",
       "      <td>6.0</td>\n",
       "      <td>5.4</td>\n",
       "      <td>7.6</td>\n",
       "      <td>4.4</td>\n",
       "      <td>6.8</td>\n",
       "      <td>8.0</td>\n",
       "      <td>M</td>\n",
       "      <td>NaN</td>\n",
       "      <td>2NT</td>\n",
       "      <td>4.25</td>\n",
       "      <td>4.50</td>\n",
       "      <td>5.00</td>\n",
       "      <td>A</td>\n",
       "      <td>12/7/2018</td>\n",
       "      <td>No</td>\n",
       "    </tr>\n",
       "  </tbody>\n",
       "</table>\n",
       "</div>"
      ],
      "text/plain": [
       "    MSSV   T1   T2   T3   T4   T5   T6 GT  DT   KV  NGONNGU  \\\n",
       "0  SV001  7.2  8.4  7.4  7.2  7.4  6.9  F NaN  2NT     3.25   \n",
       "1  SV002  5.4  6.3  4.3  4.9  3.0  4.0  M NaN    1     6.00   \n",
       "2  SV003  5.6  5.0  2.8  6.1  4.8  5.7  M NaN    1     5.00   \n",
       "3  SV004  6.6  5.1  5.9  4.1  6.1  7.4  M NaN    1     4.25   \n",
       "4  SV005  6.0  5.4  7.6  4.4  6.8  8.0  M NaN  2NT     4.25   \n",
       "\n",
       "   TOANLOGICPHANTICH  GIAIQUYETVANDE  KT    NGAYTHI DINHHUONGNGHENGHIEP  \n",
       "0               3.25            4.50  A1  12/7/2018                  No  \n",
       "1               4.00            3.50   C  12/7/2018                 Yes  \n",
       "2               6.75            4.00   C  12/7/2018                  No  \n",
       "3               4.25            5.25  D1  12/7/2018                  No  \n",
       "4               4.50            5.00   A  12/7/2018                  No  "
      ]
     },
     "execution_count": 1,
     "metadata": {},
     "output_type": "execute_result"
    }
   ],
   "source": [
    "\n",
    "import pandas as pd\n",
    "\n",
    "# Đường dẫn đến tệp CSV\n",
    "file_path = 'dulieuxettuyendaihoc.csv'\n",
    "\n",
    "# Đọc tệp CSV vào DataFrame\n",
    "df = pd.read_csv(file_path)\n",
    "\n",
    "# Hiển thị một số dòng đầu của DataFrame\n",
    "df.head()"
   ]
  },
  {
   "cell_type": "code",
   "execution_count": 2,
   "id": "a3ed8600",
   "metadata": {},
   "outputs": [
    {
     "name": "stdout",
     "output_type": "stream",
     "text": [
      "5.946000000000001\n"
     ]
    }
   ],
   "source": [
    "mean=df['T1'].mean()\n",
    "print(mean)"
   ]
  },
  {
   "cell_type": "code",
   "execution_count": 3,
   "id": "37f90d11",
   "metadata": {},
   "outputs": [
    {
     "name": "stdout",
     "output_type": "stream",
     "text": [
      "NGÔN NGỮ\n",
      "Range=max-min: 6.0\n",
      "IQR=Q3-Q1: 2.25\n",
      "Độ lệch trung bình: 1.1600000000000001\n"
     ]
    }
   ],
   "source": [
    "import numpy as np\n",
    "print(\"NGÔN NGỮ\")\n",
    "#range\n",
    "ranges=df['NGONNGU'].max()-df['NGONNGU'].min()\n",
    "print(\"Range=max-min:\",ranges)\n",
    "#IQR\n",
    "iqr=df['NGONNGU'].quantile(0.75)-df['NGONNGU'].quantile(0.25)\n",
    "print(\"IQR=Q3-Q1:\",iqr)\n",
    "#Độ lệch trung bình\n",
    "average=np.mean(np.abs(df['NGONNGU']-np.mean(df['NGONNGU'])))\n",
    "print(\"Độ lệch trung bình:\",average)"
   ]
  },
  {
   "cell_type": "code",
   "execution_count": 4,
   "id": "4ea0a4bd",
   "metadata": {},
   "outputs": [
    {
     "name": "stdout",
     "output_type": "stream",
     "text": [
      "1.0 \n",
      "\n",
      "7.0 \n",
      "\n",
      "3.74 \n",
      "\n",
      "3.625 \n",
      "\n",
      "0    2.0\n",
      "Name: NGONNGU, dtype: float64 \n",
      "\n",
      "2.5 \n",
      "\n",
      "2.0289393939393943 \n",
      "\n",
      "1.424408436488423 \n",
      "\n"
     ]
    }
   ],
   "source": [
    "print(df['NGONNGU'].min(),\"\\n\")\n",
    "print(df['NGONNGU'].max(),\"\\n\")\n",
    "print(df['NGONNGU'].mean(),\"\\n\")\n",
    "#trung vị\n",
    "print(df['NGONNGU'].median(),\"\\n\")\n",
    "#yếu vị lấy phần từ xuất hiện nhiều nhất\n",
    "print(df['NGONNGU'].mode(),\"\\n\")\n",
    "#tứ vị\n",
    "print(df['NGONNGU'].quantile(0.25),\"\\n\")\n",
    "#0.5 và 0.75 là phân vị giữa và sau\n",
    "#phương sai\n",
    "print(df['NGONNGU'].var(),\"\\n\")\n",
    "#độ lệch chuẩn \n",
    "print(df['NGONNGU'].std(),\"\\n\")"
   ]
  },
  {
   "cell_type": "code",
   "execution_count": 5,
   "id": "ce1ed063",
   "metadata": {},
   "outputs": [
    {
     "name": "stdout",
     "output_type": "stream",
     "text": [
      "T5    8.51\n",
      "T6    8.50\n",
      "Name: 0.9, dtype: float64 \n",
      "\n",
      "Ranges:\n",
      " T5    6.5\n",
      "T6    5.8\n",
      "dtype: float64\n",
      "IQR: T5    3.72\n",
      "T6    3.31\n",
      "dtype: float64\n",
      "Độ lệch trung bình:\n",
      " 1.14492\n"
     ]
    }
   ],
   "source": [
    "import numpy as np\n",
    "#Tính phân vị thứ 9 cho T5 T6\n",
    "print(df[['T5','T6']].quantile(0.9),\"\\n\")\n",
    "#Tính range T5 và T6 \n",
    "ranges=df[['T5','T6']].max()-df[['T5','T6']].min()\n",
    "print(\"Ranges:\\n\",ranges)\n",
    "#tính iqr\n",
    "iqr=df[['T5','T6']].quantile(0.9)-df[['T5','T6']].quantile(0.1)\n",
    "print(\"IQR:\",iqr)\n",
    "#tính độ lệch trung bình\n",
    "average=np.mean(np.abs(df[['T5','T6']]-np.mean(df[['T5','T6']])))\n",
    "print(\"Độ lệch trung bình:\\n\",average)"
   ]
  },
  {
   "cell_type": "code",
   "execution_count": 6,
   "id": "36834d5d",
   "metadata": {},
   "outputs": [
    {
     "name": "stdout",
     "output_type": "stream",
     "text": [
      "T5    6.717\n",
      "T6    6.937\n",
      "dtype: float64\n",
      "T5    1.478059\n",
      "T6    1.363200\n",
      "dtype: float64\n"
     ]
    }
   ],
   "source": [
    "#so sánh mức độ ổn định T5 T6\n",
    "print(df[['T5','T6']].mean())\n",
    "print(df[['T5','T6']].std())"
   ]
  },
  {
   "cell_type": "code",
   "execution_count": 7,
   "id": "cf653b2c",
   "metadata": {},
   "outputs": [
    {
     "name": "stdout",
     "output_type": "stream",
     "text": [
      "CV: TOANLOGICPHANTICH    0.249131\n",
      "NGONNGU              0.380858\n",
      "dtype: float64\n"
     ]
    }
   ],
   "source": [
    "#tính CV T5 T6\n",
    "cv=df[['TOANLOGICPHANTICH','NGONNGU']].std()/df[['TOANLOGICPHANTICH','NGONNGU']].mean()\n",
    "print(\"CV:\",cv)"
   ]
  },
  {
   "cell_type": "code",
   "execution_count": 8,
   "id": "1ea38890",
   "metadata": {},
   "outputs": [
    {
     "data": {
      "text/html": [
       "<div>\n",
       "<style scoped>\n",
       "    .dataframe tbody tr th:only-of-type {\n",
       "        vertical-align: middle;\n",
       "    }\n",
       "\n",
       "    .dataframe tbody tr th {\n",
       "        vertical-align: top;\n",
       "    }\n",
       "\n",
       "    .dataframe thead th {\n",
       "        text-align: right;\n",
       "    }\n",
       "</style>\n",
       "<table border=\"1\" class=\"dataframe\">\n",
       "  <thead>\n",
       "    <tr style=\"text-align: right;\">\n",
       "      <th></th>\n",
       "      <th></th>\n",
       "      <th>count</th>\n",
       "      <th>mean</th>\n",
       "      <th>std</th>\n",
       "      <th>min</th>\n",
       "      <th>25%</th>\n",
       "      <th>50%</th>\n",
       "      <th>75%</th>\n",
       "      <th>max</th>\n",
       "    </tr>\n",
       "    <tr>\n",
       "      <th>GT</th>\n",
       "      <th>KT</th>\n",
       "      <th></th>\n",
       "      <th></th>\n",
       "      <th></th>\n",
       "      <th></th>\n",
       "      <th></th>\n",
       "      <th></th>\n",
       "      <th></th>\n",
       "      <th></th>\n",
       "    </tr>\n",
       "  </thead>\n",
       "  <tbody>\n",
       "    <tr>\n",
       "      <th rowspan=\"5\" valign=\"top\">F</th>\n",
       "      <th>A</th>\n",
       "      <td>15.0</td>\n",
       "      <td>3.433333</td>\n",
       "      <td>1.193235</td>\n",
       "      <td>2.00</td>\n",
       "      <td>2.3750</td>\n",
       "      <td>3.500</td>\n",
       "      <td>3.8750</td>\n",
       "      <td>6.00</td>\n",
       "    </tr>\n",
       "    <tr>\n",
       "      <th>A1</th>\n",
       "      <td>5.0</td>\n",
       "      <td>2.950000</td>\n",
       "      <td>0.958514</td>\n",
       "      <td>2.00</td>\n",
       "      <td>2.0000</td>\n",
       "      <td>3.250</td>\n",
       "      <td>3.2500</td>\n",
       "      <td>4.25</td>\n",
       "    </tr>\n",
       "    <tr>\n",
       "      <th>B</th>\n",
       "      <td>4.0</td>\n",
       "      <td>3.062500</td>\n",
       "      <td>0.898494</td>\n",
       "      <td>1.75</td>\n",
       "      <td>2.8750</td>\n",
       "      <td>3.375</td>\n",
       "      <td>3.5625</td>\n",
       "      <td>3.75</td>\n",
       "    </tr>\n",
       "    <tr>\n",
       "      <th>C</th>\n",
       "      <td>8.0</td>\n",
       "      <td>5.531250</td>\n",
       "      <td>0.784191</td>\n",
       "      <td>4.75</td>\n",
       "      <td>5.1875</td>\n",
       "      <td>5.250</td>\n",
       "      <td>5.5625</td>\n",
       "      <td>7.00</td>\n",
       "    </tr>\n",
       "    <tr>\n",
       "      <th>D1</th>\n",
       "      <td>16.0</td>\n",
       "      <td>3.890625</td>\n",
       "      <td>1.248228</td>\n",
       "      <td>1.25</td>\n",
       "      <td>3.3750</td>\n",
       "      <td>3.875</td>\n",
       "      <td>5.0000</td>\n",
       "      <td>5.75</td>\n",
       "    </tr>\n",
       "    <tr>\n",
       "      <th rowspan=\"5\" valign=\"top\">M</th>\n",
       "      <th>A</th>\n",
       "      <td>34.0</td>\n",
       "      <td>3.294118</td>\n",
       "      <td>1.323549</td>\n",
       "      <td>1.00</td>\n",
       "      <td>2.2500</td>\n",
       "      <td>3.250</td>\n",
       "      <td>4.2500</td>\n",
       "      <td>6.50</td>\n",
       "    </tr>\n",
       "    <tr>\n",
       "      <th>A1</th>\n",
       "      <td>1.0</td>\n",
       "      <td>2.750000</td>\n",
       "      <td>NaN</td>\n",
       "      <td>2.75</td>\n",
       "      <td>2.7500</td>\n",
       "      <td>2.750</td>\n",
       "      <td>2.7500</td>\n",
       "      <td>2.75</td>\n",
       "    </tr>\n",
       "    <tr>\n",
       "      <th>B</th>\n",
       "      <td>5.0</td>\n",
       "      <td>3.450000</td>\n",
       "      <td>0.817771</td>\n",
       "      <td>2.25</td>\n",
       "      <td>3.2500</td>\n",
       "      <td>3.500</td>\n",
       "      <td>3.7500</td>\n",
       "      <td>4.50</td>\n",
       "    </tr>\n",
       "    <tr>\n",
       "      <th>C</th>\n",
       "      <td>6.0</td>\n",
       "      <td>5.833333</td>\n",
       "      <td>0.889757</td>\n",
       "      <td>5.00</td>\n",
       "      <td>5.0625</td>\n",
       "      <td>5.625</td>\n",
       "      <td>6.5625</td>\n",
       "      <td>7.00</td>\n",
       "    </tr>\n",
       "    <tr>\n",
       "      <th>D1</th>\n",
       "      <td>6.0</td>\n",
       "      <td>3.666667</td>\n",
       "      <td>1.779513</td>\n",
       "      <td>1.50</td>\n",
       "      <td>2.8125</td>\n",
       "      <td>3.375</td>\n",
       "      <td>4.1250</td>\n",
       "      <td>6.75</td>\n",
       "    </tr>\n",
       "  </tbody>\n",
       "</table>\n",
       "</div>"
      ],
      "text/plain": [
       "       count      mean       std   min     25%    50%     75%   max\n",
       "GT KT                                                              \n",
       "F  A    15.0  3.433333  1.193235  2.00  2.3750  3.500  3.8750  6.00\n",
       "   A1    5.0  2.950000  0.958514  2.00  2.0000  3.250  3.2500  4.25\n",
       "   B     4.0  3.062500  0.898494  1.75  2.8750  3.375  3.5625  3.75\n",
       "   C     8.0  5.531250  0.784191  4.75  5.1875  5.250  5.5625  7.00\n",
       "   D1   16.0  3.890625  1.248228  1.25  3.3750  3.875  5.0000  5.75\n",
       "M  A    34.0  3.294118  1.323549  1.00  2.2500  3.250  4.2500  6.50\n",
       "   A1    1.0  2.750000       NaN  2.75  2.7500  2.750  2.7500  2.75\n",
       "   B     5.0  3.450000  0.817771  2.25  3.2500  3.500  3.7500  4.50\n",
       "   C     6.0  5.833333  0.889757  5.00  5.0625  5.625  6.5625  7.00\n",
       "   D1    6.0  3.666667  1.779513  1.50  2.8125  3.375  4.1250  6.75"
      ]
     },
     "execution_count": 8,
     "metadata": {},
     "output_type": "execute_result"
    }
   ],
   "source": [
    "#tìm ra những môn nào có độ ổn định nhất và độ biến động vao nhất\n",
    "df.groupby(['GT','KT'])['NGONNGU'].describe()"
   ]
  },
  {
   "cell_type": "code",
   "execution_count": 9,
   "id": "8a3d1a2d",
   "metadata": {},
   "outputs": [
    {
     "name": "stdout",
     "output_type": "stream",
     "text": [
      "2.4 \n",
      "\n",
      "9.3 \n",
      "\n",
      "5.946000000000001 \n",
      "\n",
      "5.85 \n",
      "\n",
      "0    5.2\n",
      "1    5.3\n",
      "2    7.3\n",
      "Name: T1, dtype: float64 \n",
      "\n",
      "5.0 \n",
      "\n",
      "2.5867515151515157 \n",
      "\n",
      "1.6083381221470552 \n",
      "\n"
     ]
    }
   ],
   "source": [
    "a='T1'\n",
    "print(df[a].min(),\"\\n\")\n",
    "print(df[a].max(),\"\\n\")\n",
    "print(df[a].mean(),\"\\n\")\n",
    "#trung vị\n",
    "print(df[a].median(),\"\\n\")\n",
    "#yếu vị lấy phần từ xuất hiện nhiều nhất\n",
    "print(df[a].mode(),\"\\n\")\n",
    "#tứ vị\n",
    "print(df[a].quantile(0.25),\"\\n\")\n",
    "#0.5 và 0.75 là phân vị giữa và sau\n",
    "#phương sai\n",
    "print(df[a].var(),\"\\n\")\n",
    "#độ lệch chuẩn \n",
    "print(df[a].std(),\"\\n\")"
   ]
  },
  {
   "cell_type": "code",
   "execution_count": 13,
   "id": "b70e7c40",
   "metadata": {},
   "outputs": [
    {
     "data": {
      "text/html": [
       "<div>\n",
       "<style scoped>\n",
       "    .dataframe tbody tr th:only-of-type {\n",
       "        vertical-align: middle;\n",
       "    }\n",
       "\n",
       "    .dataframe tbody tr th {\n",
       "        vertical-align: top;\n",
       "    }\n",
       "\n",
       "    .dataframe thead th {\n",
       "        text-align: right;\n",
       "    }\n",
       "</style>\n",
       "<table border=\"1\" class=\"dataframe\">\n",
       "  <thead>\n",
       "    <tr style=\"text-align: right;\">\n",
       "      <th></th>\n",
       "      <th>MSSV</th>\n",
       "      <th>T1</th>\n",
       "      <th>T2</th>\n",
       "      <th>T3</th>\n",
       "      <th>T4</th>\n",
       "      <th>T5</th>\n",
       "      <th>T6</th>\n",
       "      <th>GT</th>\n",
       "      <th>DT</th>\n",
       "      <th>KV</th>\n",
       "      <th>NGONNGU</th>\n",
       "      <th>LOGIC</th>\n",
       "      <th>UNGXU</th>\n",
       "      <th>KT</th>\n",
       "      <th>NGAYTHI</th>\n",
       "      <th>HUONGNGHIEP</th>\n",
       "    </tr>\n",
       "  </thead>\n",
       "  <tbody>\n",
       "    <tr>\n",
       "      <th>0</th>\n",
       "      <td>SV001</td>\n",
       "      <td>7.2</td>\n",
       "      <td>8.4</td>\n",
       "      <td>7.4</td>\n",
       "      <td>7.2</td>\n",
       "      <td>7.4</td>\n",
       "      <td>6.9</td>\n",
       "      <td>F</td>\n",
       "      <td>NaN</td>\n",
       "      <td>2NT</td>\n",
       "      <td>3.25</td>\n",
       "      <td>3.25</td>\n",
       "      <td>4.50</td>\n",
       "      <td>A1</td>\n",
       "      <td>12/7/2018</td>\n",
       "      <td>No</td>\n",
       "    </tr>\n",
       "    <tr>\n",
       "      <th>1</th>\n",
       "      <td>SV002</td>\n",
       "      <td>5.4</td>\n",
       "      <td>6.3</td>\n",
       "      <td>4.3</td>\n",
       "      <td>4.9</td>\n",
       "      <td>3.0</td>\n",
       "      <td>4.0</td>\n",
       "      <td>M</td>\n",
       "      <td>NaN</td>\n",
       "      <td>1</td>\n",
       "      <td>6.00</td>\n",
       "      <td>4.00</td>\n",
       "      <td>3.50</td>\n",
       "      <td>C</td>\n",
       "      <td>12/7/2018</td>\n",
       "      <td>Yes</td>\n",
       "    </tr>\n",
       "    <tr>\n",
       "      <th>2</th>\n",
       "      <td>SV003</td>\n",
       "      <td>5.6</td>\n",
       "      <td>5.0</td>\n",
       "      <td>2.8</td>\n",
       "      <td>6.1</td>\n",
       "      <td>4.8</td>\n",
       "      <td>5.7</td>\n",
       "      <td>M</td>\n",
       "      <td>NaN</td>\n",
       "      <td>1</td>\n",
       "      <td>5.00</td>\n",
       "      <td>6.75</td>\n",
       "      <td>4.00</td>\n",
       "      <td>C</td>\n",
       "      <td>12/7/2018</td>\n",
       "      <td>No</td>\n",
       "    </tr>\n",
       "    <tr>\n",
       "      <th>3</th>\n",
       "      <td>SV004</td>\n",
       "      <td>6.6</td>\n",
       "      <td>5.1</td>\n",
       "      <td>5.9</td>\n",
       "      <td>4.1</td>\n",
       "      <td>6.1</td>\n",
       "      <td>7.4</td>\n",
       "      <td>M</td>\n",
       "      <td>NaN</td>\n",
       "      <td>1</td>\n",
       "      <td>4.25</td>\n",
       "      <td>4.25</td>\n",
       "      <td>5.25</td>\n",
       "      <td>D1</td>\n",
       "      <td>12/7/2018</td>\n",
       "      <td>No</td>\n",
       "    </tr>\n",
       "    <tr>\n",
       "      <th>4</th>\n",
       "      <td>SV005</td>\n",
       "      <td>6.0</td>\n",
       "      <td>5.4</td>\n",
       "      <td>7.6</td>\n",
       "      <td>4.4</td>\n",
       "      <td>6.8</td>\n",
       "      <td>8.0</td>\n",
       "      <td>M</td>\n",
       "      <td>NaN</td>\n",
       "      <td>2NT</td>\n",
       "      <td>4.25</td>\n",
       "      <td>4.50</td>\n",
       "      <td>5.00</td>\n",
       "      <td>A</td>\n",
       "      <td>12/7/2018</td>\n",
       "      <td>No</td>\n",
       "    </tr>\n",
       "  </tbody>\n",
       "</table>\n",
       "</div>"
      ],
      "text/plain": [
       "    MSSV   T1   T2   T3   T4   T5   T6 GT  DT   KV  NGONNGU  LOGIC  UNGXU  KT  \\\n",
       "0  SV001  7.2  8.4  7.4  7.2  7.4  6.9  F NaN  2NT     3.25   3.25   4.50  A1   \n",
       "1  SV002  5.4  6.3  4.3  4.9  3.0  4.0  M NaN    1     6.00   4.00   3.50   C   \n",
       "2  SV003  5.6  5.0  2.8  6.1  4.8  5.7  M NaN    1     5.00   6.75   4.00   C   \n",
       "3  SV004  6.6  5.1  5.9  4.1  6.1  7.4  M NaN    1     4.25   4.25   5.25  D1   \n",
       "4  SV005  6.0  5.4  7.6  4.4  6.8  8.0  M NaN  2NT     4.25   4.50   5.00   A   \n",
       "\n",
       "     NGAYTHI HUONGNGHIEP  \n",
       "0  12/7/2018          No  \n",
       "1  12/7/2018         Yes  \n",
       "2  12/7/2018          No  \n",
       "3  12/7/2018          No  \n",
       "4  12/7/2018          No  "
      ]
     },
     "execution_count": 13,
     "metadata": {},
     "output_type": "execute_result"
    }
   ],
   "source": [
    "# CHƯƠNG TIN CẬY VÀ SAI LẦM 95% và 5%\n",
    "#đổi tên\n",
    "df.rename(columns={'TOANLOGICPHANTICH':'LOGIC','GIAIQUYETVANDE':'UNGXU','DINHHUONGNGHENGHIEP':'HUONGNGHIEP'},inplace=True)\n",
    "df.head()"
   ]
  },
  {
   "cell_type": "code",
   "execution_count": 14,
   "id": "1a256b5c",
   "metadata": {},
   "outputs": [
    {
     "name": "stdout",
     "output_type": "stream",
     "text": [
      "TtestResult(statistic=0.44599723713991907, pvalue=0.6629370899710998, df=13)\n"
     ]
    }
   ],
   "source": [
    "#Hãy kiểm tra xem LOGIC thí sinh khối C có bằng 4.0\n",
    "import scipy.stats as stats\n",
    "dfKhoiC = df.loc[df['KT'] == 'C']\n",
    "dfKhoiC['LOGIC']\n",
    "result=stats.ttest_1samp(dfKhoiC['LOGIC'], popmean=4.0)\n",
    "# Mặc định mức tin cậy là 95% và mức sai lầm là 5%\n",
    "print(result)"
   ]
  },
  {
   "cell_type": "code",
   "execution_count": 15,
   "id": "fc672bd1",
   "metadata": {},
   "outputs": [
    {
     "data": {
      "text/plain": [
       "TtestResult(statistic=-0.7645471693105148, pvalue=0.4581953822944209, df=13)"
      ]
     },
     "execution_count": 15,
     "metadata": {},
     "output_type": "execute_result"
    }
   ],
   "source": [
    "# Sinh viên kiểm tra xem\n",
    "# điểm trung bình của môn thi UNGXU của khối thi C có bằng 5.0 hay không\n",
    "import scipy.stats as stats\n",
    "dfKhoiC = df.loc[df['KT'] == 'C']\n",
    "dfKhoiC['UNGXU']\n",
    "stats.ttest_1samp(dfKhoiC['UNGXU'], popmean=5.0)"
   ]
  },
  {
   "cell_type": "code",
   "execution_count": 16,
   "id": "d945eb7e",
   "metadata": {},
   "outputs": [
    {
     "data": {
      "text/plain": [
       "TtestResult(statistic=-1.0329196014245297, pvalue=0.3111543826061086, df=26.0)"
      ]
     },
     "execution_count": 16,
     "metadata": {},
     "output_type": "execute_result"
    }
   ],
   "source": [
    "import scipy.stats as stats\n",
    "#Hãy kiểm tra xem trung bình điểm thi LOGIC và\n",
    "# trung bình điểm thi UNGXU của thí sinh thi khối C có bằng nhau không?\n",
    "dfKhoiC = df.loc[df['KT'] == 'C']\n",
    "stats.ttest_ind(dfKhoiC['LOGIC'], dfKhoiC['UNGXU'], equal_var=True)"
   ]
  },
  {
   "cell_type": "code",
   "execution_count": 17,
   "id": "d80e5e1c",
   "metadata": {},
   "outputs": [
    {
     "data": {
      "text/plain": [
       "(-7.797828845339864, 6.298135014120743e-15)"
      ]
     },
     "execution_count": 17,
     "metadata": {},
     "output_type": "execute_result"
    }
   ],
   "source": [
    "from statsmodels.stats.weightstats import ztest as ztest\n",
    "#Hãy kiểm tra xem trung bình điểm toán học kì 2 lớp 12 có bằng 8.0\n",
    "ztest(df['T6'], value=8.0)\n"
   ]
  },
  {
   "cell_type": "code",
   "execution_count": 18,
   "id": "0f979e95",
   "metadata": {},
   "outputs": [
    {
     "data": {
      "text/plain": [
       "(-1.094138573502891, 0.273894207026412)"
      ]
     },
     "execution_count": 18,
     "metadata": {},
     "output_type": "execute_result"
    }
   ],
   "source": [
    "#Hãy kiểm tra xem điểm trung bình toán học kì 1 và học kì 2 năm lớp 12 có bằng nhau không\n",
    "ztest(df['T5'], df['T6'], value=0)\n",
    "#=> đủ dữ kiện để nói rằng mức tin cậy 95%"
   ]
  },
  {
   "cell_type": "code",
   "execution_count": 19,
   "id": "e3e701fe",
   "metadata": {},
   "outputs": [
    {
     "name": "stderr",
     "output_type": "stream",
     "text": [
      "C:\\Users\\LENOVO\\AppData\\Local\\Temp\\ipykernel_18832\\1187731122.py:3: DeprecationWarning: Please import `pearsonr` from the `scipy.stats` namespace; the `scipy.stats.stats` namespace is deprecated and will be removed in SciPy 2.0.0.\n",
      "  from scipy.stats.stats import pearsonr\n"
     ]
    },
    {
     "data": {
      "text/plain": [
       "PearsonRResult(statistic=0.7786831657869809, pvalue=1.4846407216273482e-21)"
      ]
     },
     "execution_count": 19,
     "metadata": {},
     "output_type": "execute_result"
    }
   ],
   "source": [
    "# Kiểm định tương quan giữa 2 biến định lượng\n",
    "# H zero: r = 0\n",
    "from scipy.stats.stats import pearsonr\n",
    "# Câu 5: Kiểm tra xem điểm toán học kì 1 và học kì 2 năm lớp 12 có tương quan không?\n",
    "pearsonr(df['T5'], df['T6'])\n",
    "#Dương nên tương quan thuận\n"
   ]
  },
  {
   "cell_type": "code",
   "execution_count": 20,
   "id": "3d55a596",
   "metadata": {},
   "outputs": [
    {
     "data": {
      "text/plain": [
       "PearsonRResult(statistic=0.18464661226012727, pvalue=0.06590059130545516)"
      ]
     },
     "execution_count": 20,
     "metadata": {},
     "output_type": "execute_result"
    }
   ],
   "source": [
    "# Sinh viên làm tương tự cho T5 và LOGIC có tương quan hay không ?\n",
    "pearsonr(df['T5'], df['LOGIC'])\n",
    "#>0 tương quan thuận, <0 tương quan nghịch\n",
    "#pvalue > 0.065 > 0.05 chấp nhận"
   ]
  },
  {
   "cell_type": "code",
   "execution_count": 21,
   "id": "9e424f7b",
   "metadata": {},
   "outputs": [
    {
     "data": {
      "text/html": [
       "<div>\n",
       "<style scoped>\n",
       "    .dataframe tbody tr th:only-of-type {\n",
       "        vertical-align: middle;\n",
       "    }\n",
       "\n",
       "    .dataframe tbody tr th {\n",
       "        vertical-align: top;\n",
       "    }\n",
       "\n",
       "    .dataframe thead th {\n",
       "        text-align: right;\n",
       "    }\n",
       "</style>\n",
       "<table border=\"1\" class=\"dataframe\">\n",
       "  <thead>\n",
       "    <tr style=\"text-align: right;\">\n",
       "      <th>HUONGNGHIEP</th>\n",
       "      <th>No</th>\n",
       "      <th>Yes</th>\n",
       "    </tr>\n",
       "    <tr>\n",
       "      <th>GT</th>\n",
       "      <th></th>\n",
       "      <th></th>\n",
       "    </tr>\n",
       "  </thead>\n",
       "  <tbody>\n",
       "    <tr>\n",
       "      <th>F</th>\n",
       "      <td>23</td>\n",
       "      <td>25</td>\n",
       "    </tr>\n",
       "    <tr>\n",
       "      <th>M</th>\n",
       "      <td>32</td>\n",
       "      <td>20</td>\n",
       "    </tr>\n",
       "  </tbody>\n",
       "</table>\n",
       "</div>"
      ],
      "text/plain": [
       "HUONGNGHIEP  No  Yes\n",
       "GT                  \n",
       "F            23   25\n",
       "M            32   20"
      ]
     },
     "execution_count": 21,
     "metadata": {},
     "output_type": "execute_result"
    }
   ],
   "source": [
    "# KIỂM ĐỊNH FISHER TEST\n",
    "# Mục đích: Kiểm tra sự độc lập của 2 biến định tính dạng nhị phân 2x2\n",
    "# Ho: Không có sự khác biệt giữa 2 biến định tính\n",
    "import scipy.stats as stats\n",
    "#dùng định tính\n",
    "# Hãy kiểm tra xem có sự phụ thuộc nào giữa việc sinh viên có định hướng nghề nghiệp\n",
    "# và giới tính khi thí sinh đăng ký dự thi hay không\n",
    "crosdata = pd.crosstab(df['GT'], [df['HUONGNGHIEP']], rownames=['GT'], colnames=['HUONGNGHIEP'])\n",
    "crosdata\n"
   ]
  },
  {
   "cell_type": "code",
   "execution_count": 22,
   "id": "636a5de6",
   "metadata": {},
   "outputs": [
    {
     "name": "stdout",
     "output_type": "stream",
     "text": [
      "odd ratio is : 0.575\n",
      "p_value is : 0.22763927303454412\n"
     ]
    }
   ],
   "source": [
    "#đang\n",
    "odd_ratio, p_value = stats.fisher_exact(crosdata)\n",
    "print('odd ratio is : ' + str(odd_ratio))\n",
    "print('p_value is : ' + str(p_value))"
   ]
  },
  {
   "cell_type": "code",
   "execution_count": 23,
   "id": "1a808bf1",
   "metadata": {},
   "outputs": [
    {
     "name": "stdout",
     "output_type": "stream",
     "text": [
      "p value is 0.02012461887796485\n",
      "Dependent (reject H0)\n"
     ]
    }
   ],
   "source": [
    "from scipy.stats import chi2_contingency\n",
    "# Hãy kiểm tra xem có sự phụ thuộc nào giữa khối thi và khu vực khi đăng ký dự thi hay không\n",
    "crosdata = pd.crosstab(df['KV'], [df['KT']], rownames=['KV'], colnames=['KT'])\n",
    "crosdata\n",
    "stat, p, dof, expected = chi2_contingency(crosdata)\n",
    " \n",
    "# interpret p-value\n",
    "alpha = 0.05\n",
    "print(\"p value is \" + str(p))\n",
    "if p <= alpha:\n",
    "    print('Dependent (reject H0)')\n",
    "else:\n",
    "    print('Independent (H0 holds true)')"
   ]
  },
  {
   "cell_type": "code",
   "execution_count": 24,
   "id": "b233dde1",
   "metadata": {},
   "outputs": [
    {
     "name": "stdout",
     "output_type": "stream",
     "text": [
      "p value is 0.005044752209452435\n",
      "Dependent (reject H0)\n"
     ]
    }
   ],
   "source": [
    "# GT và KT có mối quan hệ hay không?\n",
    "from scipy.stats import chi2_contingency\n",
    "# Hãy kiểm tra xem có sự phụ thuộc nào giữa khối thi và khu vực khi đăng ký dự thi hay không\n",
    "crosdata = pd.crosstab(df['GT'], [df['KT']], rownames=['GT'], colnames=['KT'])\n",
    "crosdata\n",
    "stat, p, dof, expected = chi2_contingency(crosdata)\n",
    " \n",
    "# interpret p-value\n",
    "alpha = 0.05\n",
    "print(\"p value is \" + str(p))\n",
    "if p <= alpha:\n",
    "    print('Dependent (reject H0)')\n",
    "else:\n",
    "    print('Independent (H0 holds true)')"
   ]
  },
  {
   "cell_type": "code",
   "execution_count": 25,
   "id": "99de67fe",
   "metadata": {},
   "outputs": [
    {
     "data": {
      "text/html": [
       "<div>\n",
       "<style scoped>\n",
       "    .dataframe tbody tr th:only-of-type {\n",
       "        vertical-align: middle;\n",
       "    }\n",
       "\n",
       "    .dataframe tbody tr th {\n",
       "        vertical-align: top;\n",
       "    }\n",
       "\n",
       "    .dataframe thead th {\n",
       "        text-align: right;\n",
       "    }\n",
       "</style>\n",
       "<table border=\"1\" class=\"dataframe\">\n",
       "  <thead>\n",
       "    <tr style=\"text-align: right;\">\n",
       "      <th></th>\n",
       "      <th>df</th>\n",
       "      <th>sum_sq</th>\n",
       "      <th>mean_sq</th>\n",
       "      <th>F</th>\n",
       "      <th>PR(&gt;F)</th>\n",
       "    </tr>\n",
       "  </thead>\n",
       "  <tbody>\n",
       "    <tr>\n",
       "      <th>GT</th>\n",
       "      <td>1.0</td>\n",
       "      <td>1.55201</td>\n",
       "      <td>1.55201</td>\n",
       "      <td>0.833769</td>\n",
       "      <td>0.363426</td>\n",
       "    </tr>\n",
       "    <tr>\n",
       "      <th>Residual</th>\n",
       "      <td>98.0</td>\n",
       "      <td>182.42109</td>\n",
       "      <td>1.86144</td>\n",
       "      <td>NaN</td>\n",
       "      <td>NaN</td>\n",
       "    </tr>\n",
       "  </tbody>\n",
       "</table>\n",
       "</div>"
      ],
      "text/plain": [
       "            df     sum_sq  mean_sq         F    PR(>F)\n",
       "GT         1.0    1.55201  1.55201  0.833769  0.363426\n",
       "Residual  98.0  182.42109  1.86144       NaN       NaN"
      ]
     },
     "execution_count": 25,
     "metadata": {},
     "output_type": "execute_result"
    }
   ],
   "source": [
    "#khi định tính kết hợp định lượng\n",
    "import statsmodels.api as sm\n",
    "from statsmodels.formula.api import ols\n",
    "# Điểm toán học kì 2 lớp 12 có phụ thuộc vào giới tính không\n",
    "model = ols('T6 ~ GT', data=df).fit()\n",
    "aov_table = sm.stats.anova_lm(model, typ=1)\n",
    "aov_table\n",
    "#0.36 => ko có sự phụ thuộc Điểm toán học kì 2 lớp 12 và giới tính"
   ]
  },
  {
   "cell_type": "code",
   "execution_count": 26,
   "id": "bd1fb33b",
   "metadata": {},
   "outputs": [
    {
     "data": {
      "text/html": [
       "<div>\n",
       "<style scoped>\n",
       "    .dataframe tbody tr th:only-of-type {\n",
       "        vertical-align: middle;\n",
       "    }\n",
       "\n",
       "    .dataframe tbody tr th {\n",
       "        vertical-align: top;\n",
       "    }\n",
       "\n",
       "    .dataframe thead th {\n",
       "        text-align: right;\n",
       "    }\n",
       "</style>\n",
       "<table border=\"1\" class=\"dataframe\">\n",
       "  <thead>\n",
       "    <tr style=\"text-align: right;\">\n",
       "      <th></th>\n",
       "      <th>df</th>\n",
       "      <th>sum_sq</th>\n",
       "      <th>mean_sq</th>\n",
       "      <th>F</th>\n",
       "      <th>PR(&gt;F)</th>\n",
       "    </tr>\n",
       "  </thead>\n",
       "  <tbody>\n",
       "    <tr>\n",
       "      <th>KV</th>\n",
       "      <td>2.0</td>\n",
       "      <td>6.053398</td>\n",
       "      <td>3.026699</td>\n",
       "      <td>2.790934</td>\n",
       "      <td>0.066299</td>\n",
       "    </tr>\n",
       "    <tr>\n",
       "      <th>Residual</th>\n",
       "      <td>97.0</td>\n",
       "      <td>105.194102</td>\n",
       "      <td>1.084475</td>\n",
       "      <td>NaN</td>\n",
       "      <td>NaN</td>\n",
       "    </tr>\n",
       "  </tbody>\n",
       "</table>\n",
       "</div>"
      ],
      "text/plain": [
       "            df      sum_sq   mean_sq         F    PR(>F)\n",
       "KV         2.0    6.053398  3.026699  2.790934  0.066299\n",
       "Residual  97.0  105.194102  1.084475       NaN       NaN"
      ]
     },
     "execution_count": 26,
     "metadata": {},
     "output_type": "execute_result"
    }
   ],
   "source": [
    "# Điểm LOGIC có phụ thuộc vào khu vực hay không\n",
    "import statsmodels.api as sm\n",
    "from statsmodels.formula.api import ols\n",
    "model = ols('LOGIC ~ KV', data=df).fit()\n",
    "aov_table = sm.stats.anova_lm(model, typ=1)\n",
    "aov_table"
   ]
  },
  {
   "cell_type": "code",
   "execution_count": 27,
   "id": "5a692c15",
   "metadata": {},
   "outputs": [
    {
     "data": {
      "text/html": [
       "<div>\n",
       "<style scoped>\n",
       "    .dataframe tbody tr th:only-of-type {\n",
       "        vertical-align: middle;\n",
       "    }\n",
       "\n",
       "    .dataframe tbody tr th {\n",
       "        vertical-align: top;\n",
       "    }\n",
       "\n",
       "    .dataframe thead th {\n",
       "        text-align: right;\n",
       "    }\n",
       "</style>\n",
       "<table border=\"1\" class=\"dataframe\">\n",
       "  <thead>\n",
       "    <tr style=\"text-align: right;\">\n",
       "      <th></th>\n",
       "      <th>df</th>\n",
       "      <th>sum_sq</th>\n",
       "      <th>mean_sq</th>\n",
       "      <th>F</th>\n",
       "      <th>PR(&gt;F)</th>\n",
       "    </tr>\n",
       "  </thead>\n",
       "  <tbody>\n",
       "    <tr>\n",
       "      <th>KT</th>\n",
       "      <td>4.0</td>\n",
       "      <td>3.967636</td>\n",
       "      <td>0.991909</td>\n",
       "      <td>0.911814</td>\n",
       "      <td>0.46041</td>\n",
       "    </tr>\n",
       "    <tr>\n",
       "      <th>Residual</th>\n",
       "      <td>95.0</td>\n",
       "      <td>103.344864</td>\n",
       "      <td>1.087841</td>\n",
       "      <td>NaN</td>\n",
       "      <td>NaN</td>\n",
       "    </tr>\n",
       "  </tbody>\n",
       "</table>\n",
       "</div>"
      ],
      "text/plain": [
       "            df      sum_sq   mean_sq         F   PR(>F)\n",
       "KT         4.0    3.967636  0.991909  0.911814  0.46041\n",
       "Residual  95.0  103.344864  1.087841       NaN      NaN"
      ]
     },
     "execution_count": 27,
     "metadata": {},
     "output_type": "execute_result"
    }
   ],
   "source": [
    "# Điểm UNGXU có phụ thuộc khối thi hay không\n",
    "import statsmodels.api as sm\n",
    "from statsmodels.formula.api import ols\n",
    "model = ols('UNGXU ~ KT', data=df).fit()\n",
    "aov_table = sm.stats.anova_lm(model, typ=1)\n",
    "aov_table"
   ]
  },
  {
   "cell_type": "code",
   "execution_count": 28,
   "id": "77687dc5",
   "metadata": {},
   "outputs": [
    {
     "name": "stdout",
     "output_type": "stream",
     "text": [
      "            df     sum_sq   mean_sq         F    PR(>F)\n",
      "GT         1.0   3.998401  3.998401  3.853364  0.052602\n",
      "KV         2.0   8.561314  4.280657  4.125382  0.019173\n",
      "GT:KV      2.0   1.149707  0.574854  0.554002  0.576510\n",
      "Residual  94.0  97.538077  1.037639       NaN       NaN\n"
     ]
    }
   ],
   "source": [
    "# Hãy cho biết điểm LOGIC có phụ thuộc vào loại GT trên từng nhóm KV hay không\n",
    "import statsmodels.api as sm\n",
    "from statsmodels.formula.api import ols\n",
    "model = ols('LOGIC ~ GT + KV + GT:KV',data=df).fit()\n",
    "result = sm.stats.anova_lm(model, type=2)\n",
    " \n",
    "# Print the result\n",
    "print(result)"
   ]
  },
  {
   "cell_type": "code",
   "execution_count": 29,
   "id": "26034b96",
   "metadata": {},
   "outputs": [
    {
     "name": "stdout",
     "output_type": "stream",
     "text": [
      "            df      sum_sq    mean_sq          F        PR(>F)\n",
      "KV         2.0    4.237274   2.118637   1.416009  2.482173e-01\n",
      "KT         4.0   65.431143  16.357786  10.932867  3.150065e-07\n",
      "KV:KT      8.0    1.486487   0.185811   0.124188  9.981082e-01\n",
      "Residual  87.0  130.169640   1.496203        NaN           NaN\n"
     ]
    }
   ],
   "source": [
    "#Phân tích xem NGONNGU có phụ thuộc trên nhóm KV theo từng loại KT hay không\n",
    "import statsmodels.api as sm\n",
    "from statsmodels.formula.api import ols\n",
    "model = ols('NGONNGU ~ KV + KT + KV:KT',data=df).fit()\n",
    "result = sm.stats.anova_lm(model, type=2)\n",
    " \n",
    "# Print the result\n",
    "print(result)"
   ]
  },
  {
   "cell_type": "code",
   "execution_count": 30,
   "id": "ba2c581a",
   "metadata": {},
   "outputs": [
    {
     "name": "stdout",
     "output_type": "stream",
     "text": [
      "                            OLS Regression Results                            \n",
      "==============================================================================\n",
      "Dep. Variable:                      y   R-squared:                       0.606\n",
      "Model:                            OLS   Adj. R-squared:                  0.602\n",
      "Method:                 Least Squares   F-statistic:                     151.0\n",
      "Date:                Tue, 04 Jun 2024   Prob (F-statistic):           1.48e-21\n",
      "Time:                        16:32:45   Log-Likelihood:                -125.76\n",
      "No. Observations:                 100   AIC:                             255.5\n",
      "Df Residuals:                      98   BIC:                             260.7\n",
      "Df Model:                           1                                         \n",
      "Covariance Type:            nonrobust                                         \n",
      "==============================================================================\n",
      "                 coef    std err          t      P>|t|      [0.025      0.975]\n",
      "------------------------------------------------------------------------------\n",
      "const          2.1130      0.402      5.257      0.000       1.315       2.911\n",
      "x1             0.7182      0.058     12.286      0.000       0.602       0.834\n",
      "==============================================================================\n",
      "Omnibus:                        1.387   Durbin-Watson:                   1.738\n",
      "Prob(Omnibus):                  0.500   Jarque-Bera (JB):                0.860\n",
      "Skew:                          -0.104   Prob(JB):                        0.650\n",
      "Kurtosis:                       3.404   Cond. No.                         32.8\n",
      "==============================================================================\n",
      "\n",
      "Notes:\n",
      "[1] Standard Errors assume that the covariance matrix of the errors is correctly specified.\n"
     ]
    }
   ],
   "source": [
    "#Phân tích hồi quy\n",
    "#Phân tích sự ảnh hưởng T5 lên T6\n",
    "import statsmodels.api as sm\n",
    "#adding a constant\n",
    "X_with_constant = sm.add_constant(df[[\"T5\"]].values)\n",
    "y = df[['T6']].values\n",
    "#performing the regression\n",
    "result = sm.OLS(y, X_with_constant).fit()\n",
    "# Result of statsmodels\n",
    "print(result.summary())"
   ]
  },
  {
   "cell_type": "code",
   "execution_count": 31,
   "id": "e3743103",
   "metadata": {},
   "outputs": [
    {
     "name": "stdout",
     "output_type": "stream",
     "text": [
      "                            OLS Regression Results                            \n",
      "==============================================================================\n",
      "Dep. Variable:                      y   R-squared:                       0.091\n",
      "Model:                            OLS   Adj. R-squared:                  0.082\n",
      "Method:                 Least Squares   F-statistic:                     9.798\n",
      "Date:                Tue, 04 Jun 2024   Prob (F-statistic):            0.00230\n",
      "Time:                        16:32:59   Log-Likelihood:                -142.46\n",
      "No. Observations:                 100   AIC:                             288.9\n",
      "Df Residuals:                      98   BIC:                             294.1\n",
      "Df Model:                           1                                         \n",
      "Covariance Type:            nonrobust                                         \n",
      "==============================================================================\n",
      "                 coef    std err          t      P>|t|      [0.025      0.975]\n",
      "------------------------------------------------------------------------------\n",
      "const          2.6287      0.529      4.965      0.000       1.578       3.679\n",
      "x1             0.2344      0.075      3.130      0.002       0.086       0.383\n",
      "==============================================================================\n",
      "Omnibus:                       12.364   Durbin-Watson:                   1.974\n",
      "Prob(Omnibus):                  0.002   Jarque-Bera (JB):               14.780\n",
      "Skew:                           0.671   Prob(JB):                     0.000617\n",
      "Kurtosis:                       4.322   Cond. No.                         37.5\n",
      "==============================================================================\n",
      "\n",
      "Notes:\n",
      "[1] Standard Errors assume that the covariance matrix of the errors is correctly specified.\n"
     ]
    }
   ],
   "source": [
    "#Sinh viên tự khám phá sự ảnh hưởng của T6 đến điểm thi LOGIC\n",
    "#Hỏi nếu T6 = 6.0 thì dự báo đi thi LOGIC được bao nhiêu\n",
    "import statsmodels.api as sm\n",
    "#adding a constant\n",
    "X_with_constant = sm.add_constant(df[[\"T6\"]].values)\n",
    "y = df[['LOGIC']].values\n",
    "#performing the regression\n",
    "result = sm.OLS(y, X_with_constant).fit()\n",
    "# Result of statsmodels\n",
    "print(result.summary())\n",
    "#=>"
   ]
  },
  {
   "cell_type": "code",
   "execution_count": 32,
   "id": "adb7956e",
   "metadata": {},
   "outputs": [
    {
     "name": "stdout",
     "output_type": "stream",
     "text": [
      "                            OLS Regression Results                            \n",
      "==============================================================================\n",
      "Dep. Variable:                      y   R-squared:                       0.097\n",
      "Model:                            OLS   Adj. R-squared:                  0.079\n",
      "Method:                 Least Squares   F-statistic:                     5.226\n",
      "Date:                Tue, 04 Jun 2024   Prob (F-statistic):            0.00699\n",
      "Time:                        16:33:10   Log-Likelihood:                -142.11\n",
      "No. Observations:                 100   AIC:                             290.2\n",
      "Df Residuals:                      97   BIC:                             298.0\n",
      "Df Model:                           2                                         \n",
      "Covariance Type:            nonrobust                                         \n",
      "==============================================================================\n",
      "                 coef    std err          t      P>|t|      [0.025      0.975]\n",
      "------------------------------------------------------------------------------\n",
      "const          2.7072      0.539      5.026      0.000       1.638       3.776\n",
      "x1            -0.0913      0.110     -0.828      0.410      -0.310       0.128\n",
      "x2             0.3115      0.120      2.606      0.011       0.074       0.549\n",
      "==============================================================================\n",
      "Omnibus:                       14.098   Durbin-Watson:                   2.005\n",
      "Prob(Omnibus):                  0.001   Jarque-Bera (JB):               17.272\n",
      "Skew:                           0.745   Prob(JB):                     0.000178\n",
      "Kurtosis:                       4.387   Cond. No.                         52.7\n",
      "==============================================================================\n",
      "\n",
      "Notes:\n",
      "[1] Standard Errors assume that the covariance matrix of the errors is correctly specified.\n"
     ]
    }
   ],
   "source": [
    "# Hãy phân tích sự ảnh hưởng của điểm toán học kì 1,2 năm lớp 12 đến điểm LOGIC\n",
    "import statsmodels.api as sm\n",
    "#adding a constant\n",
    "X_with_constant = sm.add_constant(df[['T5','T6']].values)\n",
    "\n",
    "y = df[['LOGIC']].values\n",
    "#performing the regression\n",
    "result = sm.OLS(y, X_with_constant).fit()\n",
    "# Result of statsmodels\n",
    "print(result.summary())"
   ]
  }
 ],
 "metadata": {
  "kernelspec": {
   "display_name": "Python 3 (ipykernel)",
   "language": "python",
   "name": "python3"
  },
  "language_info": {
   "codemirror_mode": {
    "name": "ipython",
    "version": 3
   },
   "file_extension": ".py",
   "mimetype": "text/x-python",
   "name": "python",
   "nbconvert_exporter": "python",
   "pygments_lexer": "ipython3",
   "version": "3.12.3"
  }
 },
 "nbformat": 4,
 "nbformat_minor": 5
}
