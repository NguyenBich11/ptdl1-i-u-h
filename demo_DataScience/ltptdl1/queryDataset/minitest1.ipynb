{
 "cells": [
  {
   "cell_type": "code",
   "execution_count": 58,
   "metadata": {},
   "outputs": [],
   "source": [
    "# Import thư viện \n",
    "import pandas as pd\n",
    "import seaborn as sb\n",
    "import matplotlib.pyplot as plt\n",
    "import numpy as np\n",
    "from scipy.stats import skew\n",
    "from scipy.stats import kurtosis\n",
    "import statsmodels.api as sm\n",
    "from statsmodels.formula.api import ols\n",
    "from scipy.stats import chi2_contingency\n",
    "from sklearn.preprocessing import StandardScaler, MaxAbsScaler"
   ]
  },
  {
   "cell_type": "code",
   "execution_count": 2,
   "metadata": {},
   "outputs": [
    {
     "data": {
      "text/html": [
       "<div>\n",
       "<style scoped>\n",
       "    .dataframe tbody tr th:only-of-type {\n",
       "        vertical-align: middle;\n",
       "    }\n",
       "\n",
       "    .dataframe tbody tr th {\n",
       "        vertical-align: top;\n",
       "    }\n",
       "\n",
       "    .dataframe thead th {\n",
       "        text-align: right;\n",
       "    }\n",
       "</style>\n",
       "<table border=\"1\" class=\"dataframe\">\n",
       "  <thead>\n",
       "    <tr style=\"text-align: right;\">\n",
       "      <th></th>\n",
       "      <th>ORDERNUMBER</th>\n",
       "      <th>QUANTITYORDERED</th>\n",
       "      <th>ORDERLINENUMBER</th>\n",
       "      <th>SALES</th>\n",
       "      <th>ORDERDATE</th>\n",
       "      <th>STATUS</th>\n",
       "      <th>COUNTRY</th>\n",
       "      <th>DEALSIZE</th>\n",
       "    </tr>\n",
       "  </thead>\n",
       "  <tbody>\n",
       "    <tr>\n",
       "      <th>0</th>\n",
       "      <td>10107</td>\n",
       "      <td>30</td>\n",
       "      <td>2</td>\n",
       "      <td>2871.00</td>\n",
       "      <td>2/24/2003 0:00</td>\n",
       "      <td>Shipped</td>\n",
       "      <td>USA</td>\n",
       "      <td>Small</td>\n",
       "    </tr>\n",
       "    <tr>\n",
       "      <th>1</th>\n",
       "      <td>10121</td>\n",
       "      <td>34</td>\n",
       "      <td>5</td>\n",
       "      <td>2765.90</td>\n",
       "      <td>5/7/2003 0:00</td>\n",
       "      <td>Shipped</td>\n",
       "      <td>France</td>\n",
       "      <td>Small</td>\n",
       "    </tr>\n",
       "    <tr>\n",
       "      <th>2</th>\n",
       "      <td>10134</td>\n",
       "      <td>41</td>\n",
       "      <td>2</td>\n",
       "      <td>3884.34</td>\n",
       "      <td>7/1/2003 0:00</td>\n",
       "      <td>Shipped</td>\n",
       "      <td>France</td>\n",
       "      <td>Medium</td>\n",
       "    </tr>\n",
       "    <tr>\n",
       "      <th>3</th>\n",
       "      <td>10145</td>\n",
       "      <td>45</td>\n",
       "      <td>6</td>\n",
       "      <td>3746.70</td>\n",
       "      <td>8/25/2003 0:00</td>\n",
       "      <td>Shipped</td>\n",
       "      <td>USA</td>\n",
       "      <td>Medium</td>\n",
       "    </tr>\n",
       "    <tr>\n",
       "      <th>4</th>\n",
       "      <td>10159</td>\n",
       "      <td>49</td>\n",
       "      <td>14</td>\n",
       "      <td>5205.27</td>\n",
       "      <td>10/10/2003 0:00</td>\n",
       "      <td>Shipped</td>\n",
       "      <td>USA</td>\n",
       "      <td>Medium</td>\n",
       "    </tr>\n",
       "  </tbody>\n",
       "</table>\n",
       "</div>"
      ],
      "text/plain": [
       "   ORDERNUMBER  QUANTITYORDERED  ORDERLINENUMBER    SALES        ORDERDATE  \\\n",
       "0        10107               30                2  2871.00   2/24/2003 0:00   \n",
       "1        10121               34                5  2765.90    5/7/2003 0:00   \n",
       "2        10134               41                2  3884.34    7/1/2003 0:00   \n",
       "3        10145               45                6  3746.70   8/25/2003 0:00   \n",
       "4        10159               49               14  5205.27  10/10/2003 0:00   \n",
       "\n",
       "    STATUS COUNTRY DEALSIZE  \n",
       "0  Shipped     USA    Small  \n",
       "1  Shipped  France    Small  \n",
       "2  Shipped  France   Medium  \n",
       "3  Shipped     USA   Medium  \n",
       "4  Shipped     USA   Medium  "
      ]
     },
     "execution_count": 2,
     "metadata": {},
     "output_type": "execute_result"
    }
   ],
   "source": [
    "# Load data\n",
    "df = pd.read_csv('sales_data_sample.csv',\n",
    "                 header=0,delimiter=','\n",
    "                 ,encoding='utf-8')\n",
    "df.head()"
   ]
  },
  {
   "cell_type": "code",
   "execution_count": 3,
   "metadata": {},
   "outputs": [
    {
     "data": {
      "text/plain": [
       "(2823, 8)"
      ]
     },
     "execution_count": 3,
     "metadata": {},
     "output_type": "execute_result"
    }
   ],
   "source": [
    "# Xem dữ liệu \n",
    "df.shape"
   ]
  },
  {
   "cell_type": "code",
   "execution_count": 6,
   "metadata": {},
   "outputs": [
    {
     "data": {
      "text/plain": [
       "Index(['ORDERNUMBER', 'QUANTITYORDERED', 'ORDERLINENUMBER', 'SALES',\n",
       "       'ORDERDATE', 'STATUS', 'COUNTRY', 'DEALSIZE'],\n",
       "      dtype='object')"
      ]
     },
     "execution_count": 6,
     "metadata": {},
     "output_type": "execute_result"
    }
   ],
   "source": [
    "df.columns"
   ]
  },
  {
   "cell_type": "code",
   "execution_count": 8,
   "metadata": {},
   "outputs": [
    {
     "name": "stdout",
     "output_type": "stream",
     "text": [
      "<class 'pandas.core.frame.DataFrame'>\n",
      "RangeIndex: 2823 entries, 0 to 2822\n",
      "Data columns (total 8 columns):\n",
      " #   Column           Non-Null Count  Dtype  \n",
      "---  ------           --------------  -----  \n",
      " 0   ORDERNUMBER      2823 non-null   int64  \n",
      " 1   QUANTITYORDERED  2823 non-null   int64  \n",
      " 2   ORDERLINENUMBER  2823 non-null   int64  \n",
      " 3   SALES            2823 non-null   float64\n",
      " 4   ORDERDATE        2823 non-null   object \n",
      " 5   STATUS           2823 non-null   object \n",
      " 6   COUNTRY          2823 non-null   object \n",
      " 7   DEALSIZE         2823 non-null   object \n",
      "dtypes: float64(1), int64(3), object(4)\n",
      "memory usage: 176.6+ KB\n"
     ]
    }
   ],
   "source": [
    "df.info()"
   ]
  },
  {
   "cell_type": "code",
   "execution_count": 13,
   "metadata": {},
   "outputs": [
    {
     "name": "stdout",
     "output_type": "stream",
     "text": [
      "Value SALES in index 100:  2990.13\n"
     ]
    }
   ],
   "source": [
    "# xem giá trị của SALES ở dòng 100\n",
    "print('Value SALES in index 100: ',df.loc[100 , 'SALES'])"
   ]
  },
  {
   "cell_type": "code",
   "execution_count": 14,
   "metadata": {},
   "outputs": [
    {
     "name": "stdout",
     "output_type": "stream",
     "text": [
      "Max of column sales:  14082.8\n"
     ]
    }
   ],
   "source": [
    "# Lấy giá trị max của cột sales\n",
    "print('Max of column sales: ',df['SALES'].max())"
   ]
  },
  {
   "cell_type": "code",
   "execution_count": 15,
   "metadata": {},
   "outputs": [
    {
     "name": "stdout",
     "output_type": "stream",
     "text": [
      "Max Absolute Scaling:  0.21232496378561083\n"
     ]
    }
   ],
   "source": [
    "#Áp dụng Max Absolute Scaling\n",
    "# Công thức lấy giá trị có index = 100 chia cho max\n",
    "maxsales = df['SALES'].max()\n",
    "max100 = df.loc[100 , 'SALES']\n",
    "print('Max Absolute Scaling: ',max100 / maxsales ) "
   ]
  },
  {
   "cell_type": "code",
   "execution_count": 20,
   "metadata": {},
   "outputs": [
    {
     "name": "stdout",
     "output_type": "stream",
     "text": [
      "Giá trị kurtosis: 0.4128831579388397\n"
     ]
    }
   ],
   "source": [
    "kurt = kurtosis(df['QUANTITYORDERED'])\n",
    "print(f'Giá trị kurtosis: {kurt}')"
   ]
  },
  {
   "cell_type": "code",
   "execution_count": 21,
   "metadata": {},
   "outputs": [
    {
     "data": {
      "image/png": "[encoded data removed]",
      "text/plain": [
       "<Figure size 640x480 with 1 Axes>"
      ]
     },
     "metadata": {},
     "output_type": "display_data"
    }
   ],
   "source": [
    "# Vẽ biểu đồ tương quan tuyến tính\n",
    "plt.scatter(df['QUANTITYORDERED'], df['SALES'], color='r')\n",
    "plt.xlabel('Đơn giá')\n",
    "plt.ylabel('Giá trị đặt hàng')\n",
    "plt.title('Biểu đồ Tương Quan Tuyến Tính')\n",
    "# Hiển thị biểu đồ\n",
    "plt.show()"
   ]
  },
  {
   "cell_type": "code",
   "execution_count": 24,
   "metadata": {},
   "outputs": [
    {
     "data": {
      "text/html": [
       "<div>\n",
       "<style scoped>\n",
       "    .dataframe tbody tr th:only-of-type {\n",
       "        vertical-align: middle;\n",
       "    }\n",
       "\n",
       "    .dataframe tbody tr th {\n",
       "        vertical-align: top;\n",
       "    }\n",
       "\n",
       "    .dataframe thead th {\n",
       "        text-align: right;\n",
       "    }\n",
       "</style>\n",
       "<table border=\"1\" class=\"dataframe\">\n",
       "  <thead>\n",
       "    <tr style=\"text-align: right;\">\n",
       "      <th></th>\n",
       "      <th>SALES</th>\n",
       "    </tr>\n",
       "  </thead>\n",
       "  <tbody>\n",
       "    <tr>\n",
       "      <th>0</th>\n",
       "      <td>2871.00</td>\n",
       "    </tr>\n",
       "    <tr>\n",
       "      <th>1</th>\n",
       "      <td>2765.90</td>\n",
       "    </tr>\n",
       "    <tr>\n",
       "      <th>2</th>\n",
       "      <td>3884.34</td>\n",
       "    </tr>\n",
       "    <tr>\n",
       "      <th>3</th>\n",
       "      <td>3746.70</td>\n",
       "    </tr>\n",
       "    <tr>\n",
       "      <th>4</th>\n",
       "      <td>5205.27</td>\n",
       "    </tr>\n",
       "    <tr>\n",
       "      <th>...</th>\n",
       "      <td>...</td>\n",
       "    </tr>\n",
       "    <tr>\n",
       "      <th>2818</th>\n",
       "      <td>2244.40</td>\n",
       "    </tr>\n",
       "    <tr>\n",
       "      <th>2819</th>\n",
       "      <td>3978.51</td>\n",
       "    </tr>\n",
       "    <tr>\n",
       "      <th>2820</th>\n",
       "      <td>5417.57</td>\n",
       "    </tr>\n",
       "    <tr>\n",
       "      <th>2821</th>\n",
       "      <td>2116.16</td>\n",
       "    </tr>\n",
       "    <tr>\n",
       "      <th>2822</th>\n",
       "      <td>3079.44</td>\n",
       "    </tr>\n",
       "  </tbody>\n",
       "</table>\n",
       "<p>2823 rows × 1 columns</p>\n",
       "</div>"
      ],
      "text/plain": [
       "        SALES\n",
       "0     2871.00\n",
       "1     2765.90\n",
       "2     3884.34\n",
       "3     3746.70\n",
       "4     5205.27\n",
       "...       ...\n",
       "2818  2244.40\n",
       "2819  3978.51\n",
       "2820  5417.57\n",
       "2821  2116.16\n",
       "2822  3079.44\n",
       "\n",
       "[2823 rows x 1 columns]"
      ]
     },
     "execution_count": 24,
     "metadata": {},
     "output_type": "execute_result"
    }
   ],
   "source": [
    "#Giá trị lệch của SALES khi được transform qua hàm f(x) = 1 / (log(x)^2 +1) rồi tiếp tục đi qua hàm f(x) = sqrt (x)\n",
    "# Xem dữ liệu cột SALES\n",
    "df[['SALES']]"
   ]
  },
  {
   "cell_type": "code",
   "execution_count": 25,
   "metadata": {},
   "outputs": [
    {
     "name": "stdout",
     "output_type": "stream",
     "text": [
      "độ lệch câu 7  0.7675895261439601\n",
      "độ lệch câu 6  0.5659624607534838\n"
     ]
    }
   ],
   "source": [
    "df['sales_transform1'] = 1 / (np.log(df['SALES'])**2 + 1)\n",
    "h=df['sales_transform1']\n",
    "n=skew(h)\n",
    "print('độ lệch câu 7 ',n)\n",
    "df['sales_transform2'] = np.sqrt(df['sales_transform1'])\n",
    "p=df['sales_transform2']\n",
    "t = skew(p)\n",
    "print('độ lệch câu 6 ',t)"
   ]
  },
  {
   "cell_type": "code",
   "execution_count": 26,
   "metadata": {},
   "outputs": [],
   "source": [
    "# Xóa cột 'sales_transform1' và 'sales_transform2' khỏi DataFrame\n",
    "df = df.drop(['sales_transform1', 'sales_transform2'], axis=1)"
   ]
  },
  {
   "cell_type": "code",
   "execution_count": 27,
   "metadata": {},
   "outputs": [
    {
     "name": "stdout",
     "output_type": "stream",
     "text": [
      "Số dòng đặt hàng nhiều nhất là: ORDERLINENUMBER  QUANTITYORDERED\n",
      "1                43                 15\n",
      "                 32                 14\n",
      "                 34                 14\n",
      "                 24                 13\n",
      "                 26                 13\n",
      "                                    ..\n",
      "18               31                  1\n",
      "                 36                  1\n",
      "                 40                  1\n",
      "                 42                  1\n",
      "                 48                  1\n",
      "Name: count, Length: 563, dtype: int64\n"
     ]
    }
   ],
   "source": [
    "quantity_order_counts = df.groupby('ORDERLINENUMBER')['QUANTITYORDERED'].value_counts()\n",
    "print(\"Số dòng đặt hàng nhiều nhất là:\",quantity_order_counts)"
   ]
  },
  {
   "cell_type": "code",
   "execution_count": 28,
   "metadata": {},
   "outputs": [
    {
     "name": "stdout",
     "output_type": "stream",
     "text": [
      "sales_log :  -0.2021742362869817\n",
      "sales_sqrt :  0.47281500087876144\n",
      "sales_square :  2.915766495908139\n",
      "sales_cube :  0.25086487312083416\n"
     ]
    }
   ],
   "source": [
    "# Hãy sắp sếp mức độ giảm dần độ lệch của SALES \n",
    "# sau khi được tranforms qua log,sqrt, square và cube root ?\n",
    "sales_log = np.log(df['SALES']).skew()\n",
    "sales_sqrt = np.sqrt(df['SALES']).skew()\n",
    "sales_square = np.square(df['SALES']).skew()\n",
    "sales_cube = np.cbrt(df['SALES']).skew()\n",
    "\n",
    "print('sales_log : ', sales_log)\n",
    "print('sales_sqrt : ', sales_sqrt)\n",
    "print('sales_square : ', sales_square)\n",
    "print('sales_cube : ', sales_cube)"
   ]
  },
  {
   "cell_type": "code",
   "execution_count": 30,
   "metadata": {},
   "outputs": [
    {
     "name": "stdout",
     "output_type": "stream",
     "text": [
      "                     df         sum_sq       mean_sq           F  \\\n",
      "STATUS              5.0    3562.031394    712.406279    9.934607   \n",
      "DEALSIZE            2.0   59596.757162  29798.378581  415.542636   \n",
      "STATUS:DEALSIZE    10.0    4970.214184    497.021418    6.931035   \n",
      "Residual         2806.0  201217.018730     71.709558         NaN   \n",
      "\n",
      "                        PR(>F)  \n",
      "STATUS            1.959223e-09  \n",
      "DEALSIZE         8.508626e-159  \n",
      "STATUS:DEALSIZE   8.382818e-11  \n",
      "Residual                   NaN  \n"
     ]
    }
   ],
   "source": [
    "# H0: độc lập \n",
    "# Pvalue < 0 chấp nhận H0 => không phụ thuộc\n",
    "# Pvalue > 0 bác bỏ H0 => có phụ thuộc\n",
    "model = ols ('QUANTITYORDERED ~ STATUS + DEALSIZE + STATUS:DEALSIZE', data=df).fit()\n",
    "result = sm.stats.anova_lm(model, type = 2)\n",
    "print(result)"
   ]
  },
  {
   "cell_type": "code",
   "execution_count": 32,
   "metadata": {},
   "outputs": [
    {
     "name": "stdout",
     "output_type": "stream",
     "text": [
      "Giá trị chi-squared: 34.344354882679596\n",
      "P-value: 0.0001614574648411617\n",
      "Có mối quan hệ giữa STATUS và DEALSIZE.\n"
     ]
    }
   ],
   "source": [
    "#Có mối liên hệ giữa trạng thái \n",
    "# giao hàng và kích thước không\n",
    "# Tạo bảng tần số chéo (contingency table)\n",
    "contingency_table = pd.crosstab(df['STATUS'], df['DEALSIZE'])\n",
    "# Thực hiện kiểm định chi-squared\n",
    "chi2, p, _, _ = chi2_contingency(contingency_table)\n",
    "# In kết quả kiểm định\n",
    "print(f\"Giá trị chi-squared: {chi2}\")\n",
    "print(f\"P-value: {p}\")\n",
    "\n",
    "if p < 0.05:\n",
    "    print(\"Có mối quan hệ giữa STATUS và DEALSIZE.\")\n",
    "else:\n",
    "    print(\"Không có mối quan hệ giữa STATUS và DEALSIZE.\")"
   ]
  },
  {
   "cell_type": "code",
   "execution_count": 34,
   "metadata": {},
   "outputs": [
    {
     "name": "stdout",
     "output_type": "stream",
     "text": [
      "Giá trị đặt hàng của các sản phẩm:  1.160458972499323\n"
     ]
    }
   ],
   "source": [
    "#Cho biết độ lệch của \n",
    "# giá trị đặt hàng của các sản phẩm \n",
    "print('Giá trị đặt hàng của các sản phẩm: ',skew(df['SALES']))"
   ]
  },
  {
   "cell_type": "code",
   "execution_count": 37,
   "metadata": {},
   "outputs": [
    {
     "name": "stdout",
     "output_type": "stream",
     "text": [
      "Số quốc gia đặt hàng tại công ty ABC:  19\n",
      "Số quốc gia đặt hàng tại công ty ABC:  19\n"
     ]
    }
   ],
   "source": [
    "# Có bao nhiêu quốc \n",
    "# gia đặt hàng tại công ty ABC\n",
    "#print('Số quốc gia đặt hàng tại công ty ABC: ', len(df['COUNTRY'].unique()))\n",
    "print('Số quốc gia đặt hàng tại công ty ABC: ', df['COUNTRY'].nunique())"
   ]
  },
  {
   "cell_type": "code",
   "execution_count": 42,
   "metadata": {},
   "outputs": [
    {
     "name": "stdout",
     "output_type": "stream",
     "text": [
      "Min Max Scaler cho SALES có giá trị index từ 50 đến 59 thì scale là:\n"
     ]
    },
    {
     "data": {
      "text/html": [
       "<div>\n",
       "<style scoped>\n",
       "    .dataframe tbody tr th:only-of-type {\n",
       "        vertical-align: middle;\n",
       "    }\n",
       "\n",
       "    .dataframe tbody tr th {\n",
       "        vertical-align: top;\n",
       "    }\n",
       "\n",
       "    .dataframe thead th {\n",
       "        text-align: right;\n",
       "    }\n",
       "</style>\n",
       "<table border=\"1\" class=\"dataframe\">\n",
       "  <thead>\n",
       "    <tr style=\"text-align: right;\">\n",
       "      <th></th>\n",
       "      <th>SALES</th>\n",
       "    </tr>\n",
       "  </thead>\n",
       "  <tbody>\n",
       "    <tr>\n",
       "      <th>50</th>\n",
       "      <td>0.571492</td>\n",
       "    </tr>\n",
       "    <tr>\n",
       "      <th>51</th>\n",
       "      <td>0.142230</td>\n",
       "    </tr>\n",
       "    <tr>\n",
       "      <th>52</th>\n",
       "      <td>0.268965</td>\n",
       "    </tr>\n",
       "    <tr>\n",
       "      <th>53</th>\n",
       "      <td>0.846934</td>\n",
       "    </tr>\n",
       "    <tr>\n",
       "      <th>54</th>\n",
       "      <td>0.251044</td>\n",
       "    </tr>\n",
       "    <tr>\n",
       "      <th>55</th>\n",
       "      <td>0.169972</td>\n",
       "    </tr>\n",
       "    <tr>\n",
       "      <th>56</th>\n",
       "      <td>0.207757</td>\n",
       "    </tr>\n",
       "    <tr>\n",
       "      <th>57</th>\n",
       "      <td>0.346367</td>\n",
       "    </tr>\n",
       "    <tr>\n",
       "      <th>58</th>\n",
       "      <td>0.333417</td>\n",
       "    </tr>\n",
       "    <tr>\n",
       "      <th>59</th>\n",
       "      <td>0.233724</td>\n",
       "    </tr>\n",
       "  </tbody>\n",
       "</table>\n",
       "</div>"
      ],
      "text/plain": [
       "       SALES\n",
       "50  0.571492\n",
       "51  0.142230\n",
       "52  0.268965\n",
       "53  0.846934\n",
       "54  0.251044\n",
       "55  0.169972\n",
       "56  0.207757\n",
       "57  0.346367\n",
       "58  0.333417\n",
       "59  0.233724"
      ]
     },
     "execution_count": 42,
     "metadata": {},
     "output_type": "execute_result"
    }
   ],
   "source": [
    "#Min Max Scaler cho SALES có giá trị \n",
    "# index từ 50 đến 59 thì scale là bao nhiêu \n",
    "def min_max_scale(series):\n",
    "    return (series - series.min()) / (series.max() - series.min())\n",
    "# Lưu giữ nguyên kiểu dữ liệu ban đầu của cột 'SALES'\n",
    "original_dtype = df['SALES'].dtype\n",
    "# Áp dụng Min-Max Scaling cho cột 'SALES'\n",
    "df['SALES'] = min_max_scale(df['SALES'])\n",
    "# Đặt lại kiểu dữ liệu ban đầu cho cột 'SALES'\n",
    "df['SALES'] = df['SALES'].astype(original_dtype)\n",
    "# In ra một phần của cột 'SALES' sau khi chuẩn hóa\n",
    "print('Min Max Scaler cho SALES có giá trị index từ 50 đến 59 thì scale là:')\n",
    "df[['SALES']].loc[50:59]"
   ]
  },
  {
   "cell_type": "code",
   "execution_count": 53,
   "metadata": {},
   "outputs": [
    {
     "name": "stdout",
     "output_type": "stream",
     "text": [
      "Z-core Scaler cho SALES thì giá trị 10000 thì sẽ được scale thành: 73840.16767409952\n"
     ]
    }
   ],
   "source": [
    "#Z-core Scaler cho SALES thì \n",
    "# giá trị 10000 thì sẽ được scale thành bao nhiêu \n",
    "# Giá trị cụ thể \n",
    "value = 10000\n",
    "# Giá trị trung bình của biến định lượng\n",
    "mean = df['SALES'].mean()\n",
    "# Độ lệch chuẩn \n",
    "std_dev = df['SALES'].std()\n",
    "# Tính Z-score\n",
    "z = (value - mean) / std_dev\n",
    "print('Z-core Scaler cho SALES thì giá trị 10000 thì sẽ được scale thành:',z)"
   ]
  },
  {
   "cell_type": "code",
   "execution_count": 48,
   "metadata": {},
   "outputs": [
    {
     "data": {
      "image/png": "[encoded data removed]",
      "text/plain": [
       "<Figure size 640x480 with 1 Axes>"
      ]
     },
     "metadata": {},
     "output_type": "display_data"
    }
   ],
   "source": [
    "# Phần trăm số lượng sản phẩm \n",
    "# theo kích thước đặt hàng \n",
    "gb = df.groupby(['DEALSIZE']) ['QUANTITYORDERED'].agg(['sum'])\n",
    "labels = gb.index\n",
    "data =  list(gb['sum'])\n",
    "color = sb.color_palette('pastel')\n",
    "plt.title('Biểu đồ phần trăm số lượng sản phẩm theo kích thước đặt hàng')\n",
    "plt.pie(data, labels = labels , colors=color, autopct= '%1.1f%%', shadow= True)\n",
    "plt.show()"
   ]
  },
  {
   "cell_type": "code",
   "execution_count": 52,
   "metadata": {},
   "outputs": [
    {
     "name": "stdout",
     "output_type": "stream",
     "text": [
      " Z-score Scaler là 0.25 , giá trị trước chuẩn hóa là: 0.2597096575642495\n"
     ]
    }
   ],
   "source": [
    "# Giá trị của SALES sau khi dung chuẩn hóa \n",
    "# Z-score Scaler là 0.25 , \n",
    "# giá trị trước chuẩn hóa là bao nhiêu\n",
    "z_score = 0.25  # Giá trị sau khi sử dụng Z-score scaler\n",
    "mean = df['SALES'].mean() # Giá trị trung bình (Mean) của SALES trước khi chuẩn hóa\n",
    "std_dev = std_dev = df['SALES'].std() \n",
    "# Độ lệch chuẩn (Standard Deviation) của SALES trước khi chuẩn hóa\n",
    "# Tính giá trị ban đầu của SALES\n",
    "sales_original = z_score * std_dev + mean\n",
    "print(' Z-score Scaler là 0.25 , giá trị trước chuẩn hóa là:',sales_original)"
   ]
  },
  {
   "cell_type": "code",
   "execution_count": 51,
   "metadata": {},
   "outputs": [
    {
     "name": "stdout",
     "output_type": "stream",
     "text": [
      "Z-score khi giá trị sales 4014.27378491: 29640.46667098383\n"
     ]
    }
   ],
   "source": [
    "x = 4014.27378491\n",
    "# Giá trị trung bình của biến định lượng\n",
    "mean = df['SALES'].mean()\n",
    "# Độ lệch chuẩn \n",
    "std_dev = df['SALES'].std()\n",
    "# Tính Z-score\n",
    "z = (x - mean) / std_dev\n",
    "print('Z-score khi giá trị sales 4014.27378491:',z)"
   ]
  },
  {
   "cell_type": "code",
   "execution_count": 54,
   "metadata": {},
   "outputs": [
    {
     "name": "stdout",
     "output_type": "stream",
     "text": [
      "Tương quan mẫu giữa QUANTIYORDERED và SALES.\n"
     ]
    },
    {
     "data": {
      "text/html": [
       "<div>\n",
       "<style scoped>\n",
       "    .dataframe tbody tr th:only-of-type {\n",
       "        vertical-align: middle;\n",
       "    }\n",
       "\n",
       "    .dataframe tbody tr th {\n",
       "        vertical-align: top;\n",
       "    }\n",
       "\n",
       "    .dataframe thead th {\n",
       "        text-align: right;\n",
       "    }\n",
       "</style>\n",
       "<table border=\"1\" class=\"dataframe\">\n",
       "  <thead>\n",
       "    <tr style=\"text-align: right;\">\n",
       "      <th></th>\n",
       "      <th>SALES</th>\n",
       "      <th>QUANTITYORDERED</th>\n",
       "    </tr>\n",
       "  </thead>\n",
       "  <tbody>\n",
       "    <tr>\n",
       "      <th>SALES</th>\n",
       "      <td>1.000000</td>\n",
       "      <td>0.551426</td>\n",
       "    </tr>\n",
       "    <tr>\n",
       "      <th>QUANTITYORDERED</th>\n",
       "      <td>0.551426</td>\n",
       "      <td>1.000000</td>\n",
       "    </tr>\n",
       "  </tbody>\n",
       "</table>\n",
       "</div>"
      ],
      "text/plain": [
       "                    SALES  QUANTITYORDERED\n",
       "SALES            1.000000         0.551426\n",
       "QUANTITYORDERED  0.551426         1.000000"
      ]
     },
     "execution_count": 54,
     "metadata": {},
     "output_type": "execute_result"
    }
   ],
   "source": [
    "#Tương quan mẫu giữa QUANTIYORDERED và SALES\n",
    "print('Tương quan mẫu giữa QUANTIYORDERED và SALES.')\n",
    "df[['SALES', 'QUANTITYORDERED']].corr()"
   ]
  },
  {
   "cell_type": "markdown",
   "metadata": {},
   "source": [
    "Tương quan <br>\n",
    "Hoàn hảo: 1 hoặc -1 <br>\n",
    "Thuận: 0.5-1 hoặc -0.5- -1 <br>\n",
    "Yếu -0.5 đến 0.5 <br>\n",
    "ko tương quan là 0"
   ]
  },
  {
   "cell_type": "code",
   "execution_count": 56,
   "metadata": {},
   "outputs": [
    {
     "data": {
      "image/png": "[encoded data removed]",
      "text/plain": [
       "<Figure size 640x480 with 1 Axes>"
      ]
     },
     "metadata": {},
     "output_type": "display_data"
    }
   ],
   "source": [
    "# Dựa vào biểu đồ boxplot về \n",
    "# doanh số trên từng nhóm kích thước đặt hàng \n",
    "# thì yếu tố kích thước đặt hàng có vai trò \n",
    "# trong việc dự báo giá trị dặt hàng hay không \n",
    "sb.boxplot(x='DEALSIZE',y='SALES',data=df)\n",
    "plt.xlabel('Kích thước đặt hàng ')\n",
    "plt.ylabel('Doanh thu bán hàng ')\n",
    "plt.show() "
   ]
  },
  {
   "cell_type": "code",
   "execution_count": 57,
   "metadata": {},
   "outputs": [
    {
     "data": {
      "image/png": "[encoded data removed]",
      "text/plain": [
       "<Figure size 640x480 with 1 Axes>"
      ]
     },
     "metadata": {},
     "output_type": "display_data"
    }
   ],
   "source": [
    "#bar status sales\n",
    "sb.barplot (y='SALES', x ='STATUS', data =df, errorbar=None)\n",
    "plt.show()"
   ]
  },
  {
   "cell_type": "code",
   "execution_count": 59,
   "metadata": {},
   "outputs": [
    {
     "name": "stdout",
     "output_type": "stream",
     "text": [
      "Lấy giá trị của phần tử có index 100 sau khi áp dụng MAX Absolute Scaler: -0.05354391121357396\n"
     ]
    }
   ],
   "source": [
    "# Sử dụng Z-core cho SALES , sau đó tiếp tục áp \n",
    "# dụng MAX Absolute Scaler thì \n",
    "# giá trị có index = 100 được scale thành bao nhiêu\n",
    "# Sử dụng Z-core Scaler để chuẩn hóa Z-score cho cột SALES\n",
    "z_score_scaler = StandardScaler()\n",
    "df['SALES_Z'] = z_score_scaler.fit_transform(df[['SALES']])\n",
    "# Sử dụng MAX Absolute Scaler để áp dụng Max Absolute Scaler cho cột SALES đã được chuẩn hóa\n",
    "max_abs_scaler = MaxAbsScaler()\n",
    "df['SALES_MaxAbs'] = max_abs_scaler.fit_transform(df[['SALES_Z']])\n",
    "# Lấy giá trị của phần tử có index 100 sau khi áp dụng MAX Absolute Scaler\n",
    "scaled_value = df.at[100, 'SALES_MaxAbs']\n",
    "print('Lấy giá trị của phần tử có index 100 sau khi áp dụng MAX Absolute Scaler:',scaled_value)"
   ]
  },
  {
   "cell_type": "code",
   "execution_count": 60,
   "metadata": {},
   "outputs": [
    {
     "name": "stdout",
     "output_type": "stream",
     "text": [
      "Quốc gia ở vị trí thứ 5 về tổng doanh số là: UK\n",
      "Tổng doanh số của quốc gia UK là: 30.1054095129137\n"
     ]
    }
   ],
   "source": [
    "country_sales = df.groupby('COUNTRY')['SALES'].sum().reset_index()\n",
    "# Sắp xếp dữ liệu theo tổng doanh số giảm dần\n",
    "sorted_country_sales = country_sales.sort_values(by='SALES', ascending=False)\n",
    "# Lấy quốc gia ở vị trí thứ 5\n",
    "fifth_country = sorted_country_sales.iloc[4]['COUNTRY']\n",
    "total_sales_fifth_country = sorted_country_sales.iloc[4]['SALES']\n",
    "\n",
    "print(f\"Quốc gia ở vị trí thứ 5 về tổng doanh số là: {fifth_country}\")\n",
    "print(f\"Tổng doanh số của quốc gia {fifth_country} là: {total_sales_fifth_country}\")"
   ]
  },
  {
   "cell_type": "code",
   "execution_count": 62,
   "metadata": {},
   "outputs": [
    {
     "data": {
      "image/png": "[encoded data removed]",
      "text/plain": [
       "<Figure size 640x480 with 1 Axes>"
      ]
     },
     "metadata": {},
     "output_type": "display_data"
    }
   ],
   "source": [
    "# Có mối liên hệ nào giữa trạng thái \n",
    "# giao hàng và giá trị đặt hàng hay không \n",
    "sb.boxplot(x='STATUS', y='SALES', data=df)\n",
    "plt.show()"
   ]
  },
  {
   "cell_type": "code",
   "execution_count": 64,
   "metadata": {},
   "outputs": [
    {
     "data": {
      "text/plain": [
       "DEALSIZE\n",
       "Small     0.116138\n",
       "Medium    0.287949\n",
       "Large     0.574356\n",
       "Name: SALES, dtype: float64"
      ]
     },
     "execution_count": 64,
     "metadata": {},
     "output_type": "execute_result"
    }
   ],
   "source": [
    "# # Nhóm dữ liệu theo kích thước đặt hàng và tính trung bình giá trị bán hàng trong mỗi nhóm\n",
    "# average_sales_by_dealsize = \n",
    "# # Sắp xếp dữ liệu theo giá trị trung bình tăng dần\n",
    "# sorted_sales_by_dealsize = average_sales_by_dealsize.sort_values()\n",
    "# # Hiển thị thứ tự ổn định tăng dần của giá trị bán hàng trên từng nhóm kích thước đặt hàng\n",
    "df.groupby('DEALSIZE')['SALES'].mean().sort_values()"
   ]
  },
  {
   "cell_type": "code",
   "execution_count": 65,
   "metadata": {},
   "outputs": [
    {
     "data": {
      "text/html": [
       "<div>\n",
       "<style scoped>\n",
       "    .dataframe tbody tr th:only-of-type {\n",
       "        vertical-align: middle;\n",
       "    }\n",
       "\n",
       "    .dataframe tbody tr th {\n",
       "        vertical-align: top;\n",
       "    }\n",
       "\n",
       "    .dataframe thead th {\n",
       "        text-align: right;\n",
       "    }\n",
       "</style>\n",
       "<table border=\"1\" class=\"dataframe\">\n",
       "  <thead>\n",
       "    <tr style=\"text-align: right;\">\n",
       "      <th></th>\n",
       "      <th>count</th>\n",
       "      <th>mean</th>\n",
       "      <th>std</th>\n",
       "      <th>min</th>\n",
       "      <th>25%</th>\n",
       "      <th>50%</th>\n",
       "      <th>75%</th>\n",
       "      <th>max</th>\n",
       "    </tr>\n",
       "    <tr>\n",
       "      <th>DEALSIZE</th>\n",
       "      <th></th>\n",
       "      <th></th>\n",
       "      <th></th>\n",
       "      <th></th>\n",
       "      <th></th>\n",
       "      <th></th>\n",
       "      <th></th>\n",
       "      <th></th>\n",
       "    </tr>\n",
       "  </thead>\n",
       "  <tbody>\n",
       "    <tr>\n",
       "      <th>Large</th>\n",
       "      <td>157.0</td>\n",
       "      <td>0.574356</td>\n",
       "      <td>0.095197</td>\n",
       "      <td>0.480431</td>\n",
       "      <td>0.503426</td>\n",
       "      <td>0.553387</td>\n",
       "      <td>0.608247</td>\n",
       "      <td>1.000000</td>\n",
       "    </tr>\n",
       "    <tr>\n",
       "      <th>Medium</th>\n",
       "      <td>1384.0</td>\n",
       "      <td>0.287949</td>\n",
       "      <td>0.076988</td>\n",
       "      <td>0.185305</td>\n",
       "      <td>0.223089</td>\n",
       "      <td>0.270620</td>\n",
       "      <td>0.345151</td>\n",
       "      <td>0.478968</td>\n",
       "    </tr>\n",
       "    <tr>\n",
       "      <th>Small</th>\n",
       "      <td>1282.0</td>\n",
       "      <td>0.116138</td>\n",
       "      <td>0.042438</td>\n",
       "      <td>0.000000</td>\n",
       "      <td>0.085011</td>\n",
       "      <td>0.119983</td>\n",
       "      <td>0.151644</td>\n",
       "      <td>0.185126</td>\n",
       "    </tr>\n",
       "  </tbody>\n",
       "</table>\n",
       "</div>"
      ],
      "text/plain": [
       "           count      mean       std       min       25%       50%       75%  \\\n",
       "DEALSIZE                                                                       \n",
       "Large      157.0  0.574356  0.095197  0.480431  0.503426  0.553387  0.608247   \n",
       "Medium    1384.0  0.287949  0.076988  0.185305  0.223089  0.270620  0.345151   \n",
       "Small     1282.0  0.116138  0.042438  0.000000  0.085011  0.119983  0.151644   \n",
       "\n",
       "               max  \n",
       "DEALSIZE            \n",
       "Large     1.000000  \n",
       "Medium    0.478968  \n",
       "Small     0.185126  "
      ]
     },
     "execution_count": 65,
     "metadata": {},
     "output_type": "execute_result"
    }
   ],
   "source": [
    "df.groupby('DEALSIZE')['SALES'].describe()"
   ]
  },
  {
   "cell_type": "code",
   "execution_count": 67,
   "metadata": {},
   "outputs": [
    {
     "name": "stdout",
     "output_type": "stream",
     "text": [
      "Kết quả: 0.20204359416609538\n"
     ]
    }
   ],
   "source": [
    "# Hãy cho biết dựa vào biểu đồ \n",
    "# boxplot về doanh số trên từng \n",
    "# kích thước đặt hàng, \n",
    "# nếu có dữ liệu thiếu trên nhóm  \n",
    "# DEALSIZE = Medium thì dữ liệu đó \n",
    "# nên được thay thế bằng\n",
    "print('Kết quả:',(df[df['DEALSIZE'] == 'Small']['SALES'].mean() + df[df['DEALSIZE'] == 'Medium']['SALES'].mean()) / 2.0)"
   ]
  },
  {
   "cell_type": "code",
   "execution_count": 68,
   "metadata": {},
   "outputs": [
    {
     "data": {
      "image/png": "[encoded data removed]",
      "text/plain": [
       "<Figure size 640x480 with 1 Axes>"
      ]
     },
     "metadata": {},
     "output_type": "display_data"
    }
   ],
   "source": [
    "#Hãy cho biết biểu đồ chỉ có 2 cột thuộc nhóm status nào\n",
    "groupby_data = df.groupby(['STATUS', 'DEALSIZE'])['SALES'].mean().reset_index()\n",
    "# Vẽ biểu đồ cột\n",
    "sb.barplot(x='STATUS', y='SALES', hue='DEALSIZE', data=groupby_data)\n",
    "plt.show()"
   ]
  },
  {
   "cell_type": "code",
   "execution_count": 69,
   "metadata": {},
   "outputs": [
    {
     "data": {
      "text/plain": [
       "ORDERNUMBER\n",
       "10222    717\n",
       "10106    675\n",
       "10165    670\n",
       "10386    650\n",
       "10168    642\n",
       "10398    629\n",
       "10316    623\n",
       "10332    621\n",
       "10204    619\n",
       "10310    619\n",
       "10126    617\n",
       "10207    615\n",
       "Name: QUANTITYORDERED, dtype: int64"
      ]
     },
     "execution_count": 69,
     "metadata": {},
     "output_type": "execute_result"
    }
   ],
   "source": [
    "df.groupby('ORDERNUMBER')['QUANTITYORDERED'].sum().sort_values(ascending=False).head(12)"
   ]
  }
 ],
 "metadata": {
  "kernelspec": {
   "display_name": "Python 3",
   "language": "python",
   "name": "python3"
  },
  "language_info": {
   "codemirror_mode": {
    "name": "ipython",
    "version": 3
   },
   "file_extension": ".py",
   "mimetype": "text/x-python",
   "name": "python",
   "nbconvert_exporter": "python",
   "pygments_lexer": "ipython3",
   "version": "3.12.3"
  }
 },
 "nbformat": 4,
 "nbformat_minor": 2
}
