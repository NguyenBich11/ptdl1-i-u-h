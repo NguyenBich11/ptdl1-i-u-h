{
 "cells": [
  {
   "cell_type": "code",
   "execution_count": 21,
   "id": "53fe1854",
   "metadata": {},
   "outputs": [
    {
     "data": {
      "text/html": [
       "<div>\n",
       "<style scoped>\n",
       "    .dataframe tbody tr th:only-of-type {\n",
       "        vertical-align: middle;\n",
       "    }\n",
       "\n",
       "    .dataframe tbody tr th {\n",
       "        vertical-align: top;\n",
       "    }\n",
       "\n",
       "    .dataframe thead th {\n",
       "        text-align: right;\n",
       "    }\n",
       "</style>\n",
       "<table border=\"1\" class=\"dataframe\">\n",
       "  <thead>\n",
       "    <tr style=\"text-align: right;\">\n",
       "      <th></th>\n",
       "      <th>points</th>\n",
       "      <th>assists</th>\n",
       "      <th>rebounds</th>\n",
       "    </tr>\n",
       "  </thead>\n",
       "  <tbody>\n",
       "    <tr>\n",
       "      <th>0</th>\n",
       "      <td>4</td>\n",
       "      <td>2</td>\n",
       "      <td>7</td>\n",
       "    </tr>\n",
       "    <tr>\n",
       "      <th>1</th>\n",
       "      <td>4</td>\n",
       "      <td>5</td>\n",
       "      <td>7</td>\n",
       "    </tr>\n",
       "    <tr>\n",
       "      <th>2</th>\n",
       "      <td>7</td>\n",
       "      <td>4</td>\n",
       "      <td>4</td>\n",
       "    </tr>\n",
       "    <tr>\n",
       "      <th>3</th>\n",
       "      <td>8</td>\n",
       "      <td>7</td>\n",
       "      <td>6</td>\n",
       "    </tr>\n",
       "    <tr>\n",
       "      <th>4</th>\n",
       "      <td>12</td>\n",
       "      <td>7</td>\n",
       "      <td>3</td>\n",
       "    </tr>\n",
       "    <tr>\n",
       "      <th>5</th>\n",
       "      <td>13</td>\n",
       "      <td>8</td>\n",
       "      <td>8</td>\n",
       "    </tr>\n",
       "    <tr>\n",
       "      <th>6</th>\n",
       "      <td>15</td>\n",
       "      <td>5</td>\n",
       "      <td>9</td>\n",
       "    </tr>\n",
       "    <tr>\n",
       "      <th>7</th>\n",
       "      <td>18</td>\n",
       "      <td>4</td>\n",
       "      <td>9</td>\n",
       "    </tr>\n",
       "    <tr>\n",
       "      <th>8</th>\n",
       "      <td>22</td>\n",
       "      <td>5</td>\n",
       "      <td>12</td>\n",
       "    </tr>\n",
       "    <tr>\n",
       "      <th>9</th>\n",
       "      <td>23</td>\n",
       "      <td>11</td>\n",
       "      <td>11</td>\n",
       "    </tr>\n",
       "  </tbody>\n",
       "</table>\n",
       "</div>"
      ],
      "text/plain": [
       "   points  assists  rebounds\n",
       "0       4        2         7\n",
       "1       4        5         7\n",
       "2       7        4         4\n",
       "3       8        7         6\n",
       "4      12        7         3\n",
       "5      13        8         8\n",
       "6      15        5         9\n",
       "7      18        4         9\n",
       "8      22        5        12\n",
       "9      23       11        11"
      ]
     },
     "execution_count": 21,
     "metadata": {},
     "output_type": "execute_result"
    }
   ],
   "source": [
    "import pandas as pd\n",
    "#create DataFrame\n",
    "df = pd.DataFrame({'points': [4, 4, 7, 8, 12, 13, 15, 18, 22, 23, 23, 25],\n",
    "                   'assists': [2, 5, 4, 7, 7, 8, 5, 4, 5, 11, 13, 8],\n",
    "                   'rebounds': [7, 7, 4, 6, 3, 8, 9, 9, 12, 11, 8, 9]})\n",
    "df.head(10)"
   ]
  },
  {
   "cell_type": "code",
   "execution_count": 22,
   "id": "c8c2a0dc",
   "metadata": {},
   "outputs": [
    {
     "data": {
      "text/plain": [
       "(12, 3)"
      ]
     },
     "execution_count": 22,
     "metadata": {},
     "output_type": "execute_result"
    }
   ],
   "source": [
    "#Kiểm tra data frame\n",
    "df.shape"
   ]
  },
  {
   "cell_type": "code",
   "execution_count": 23,
   "id": "1749c7e8",
   "metadata": {},
   "outputs": [
    {
     "name": "stdout",
     "output_type": "stream",
     "text": [
      "    points  assists  rebounds        points_bin\n",
      "0        4        2         7   (3.999, 10.667]\n",
      "1        4        5         7   (3.999, 10.667]\n",
      "2        7        4         4   (3.999, 10.667]\n",
      "3        8        7         6   (3.999, 10.667]\n",
      "4       12        7         3  (10.667, 19.333]\n",
      "5       13        8         8  (10.667, 19.333]\n",
      "6       15        5         9  (10.667, 19.333]\n",
      "7       18        4         9  (10.667, 19.333]\n",
      "8       22        5        12    (19.333, 25.0]\n",
      "9       23       11        11    (19.333, 25.0]\n",
      "10      23       13         8    (19.333, 25.0]\n",
      "11      25        8         9    (19.333, 25.0]\n"
     ]
    }
   ],
   "source": [
    "#perform data binning on points variable\n",
    "df['points_bin'] = pd.qcut(df['points'], q=3)\n",
    "#q là số khoảng bạn muốn chia\n",
    "#view updated DataFrame\n",
    "print(df)"
   ]
  },
  {
   "cell_type": "code",
   "execution_count": 24,
   "id": "8d160ece",
   "metadata": {},
   "outputs": [
    {
     "data": {
      "text/plain": [
       "points_bin\n",
       "(3.999, 10.667]     4\n",
       "(10.667, 19.333]    4\n",
       "(19.333, 25.0]      4\n",
       "Name: count, dtype: int64"
      ]
     },
     "execution_count": 24,
     "metadata": {},
     "output_type": "execute_result"
    }
   ],
   "source": [
    "#count frequency of each bin\n",
    "#có bao nhiêu point trong khoảng points_bin\n",
    "df['points_bin'].value_counts()"
   ]
  },
  {
   "cell_type": "code",
   "execution_count": 25,
   "id": "9fceb6cd",
   "metadata": {},
   "outputs": [
    {
     "name": "stdout",
     "output_type": "stream",
     "text": [
      "    points  assists  rebounds    points_bin\n",
      "0        4        2         7  (3.999, 7.2]\n",
      "1        4        5         7  (3.999, 7.2]\n",
      "2        7        4         4  (3.999, 7.2]\n",
      "3        8        7         6   (7.2, 12.4]\n",
      "4       12        7         3   (7.2, 12.4]\n",
      "5       13        8         8  (12.4, 16.8]\n",
      "6       15        5         9  (12.4, 16.8]\n",
      "7       18        4         9  (16.8, 22.8]\n",
      "8       22        5        12  (16.8, 22.8]\n",
      "9       23       11        11  (22.8, 25.0]\n",
      "10      23       13         8  (22.8, 25.0]\n",
      "11      25        8         9  (22.8, 25.0]\n"
     ]
    }
   ],
   "source": [
    "#tạo phân vị từ 0.0 -> 1.0\n",
    "df['points_bin'] = pd.qcut(df['points'], q=[0, .2, .4, .6, .8, 1])\n",
    "print(df)"
   ]
  },
  {
   "cell_type": "code",
   "execution_count": 26,
   "id": "f6d1e7dd",
   "metadata": {},
   "outputs": [
    {
     "data": {
      "text/plain": [
       "points_bin\n",
       "(3.999, 7.2]    3\n",
       "(22.8, 25.0]    3\n",
       "(7.2, 12.4]     2\n",
       "(12.4, 16.8]    2\n",
       "(16.8, 22.8]    2\n",
       "Name: count, dtype: int64"
      ]
     },
     "execution_count": 26,
     "metadata": {},
     "output_type": "execute_result"
    }
   ],
   "source": [
    "#count frequency of each bin\n",
    "#có bao nhiêu point trong khoảng points_bin\n",
    "df['points_bin'].value_counts()"
   ]
  },
  {
   "cell_type": "code",
   "execution_count": 27,
   "id": "4b760db5",
   "metadata": {},
   "outputs": [
    {
     "name": "stdout",
     "output_type": "stream",
     "text": [
      "    points  assists  rebounds points_bin\n",
      "0        4        2         7          A\n",
      "1        4        5         7          A\n",
      "2        7        4         4          A\n",
      "3        8        7         6          B\n",
      "4       12        7         3          B\n",
      "5       13        8         8          C\n",
      "6       15        5         9          C\n",
      "7       18        4         9          D\n",
      "8       22        5        12          D\n",
      "9       23       11        11          E\n",
      "10      23       13         8          E\n",
      "11      25        8         9          E\n"
     ]
    }
   ],
   "source": [
    "#Cắt cột theo phân vị sau đó gán thêm A B C D E\n",
    "#perform data binning on points variable with specific quantiles and labels\n",
    "df['points_bin'] = pd.qcut(df['points'],\n",
    "                           q=[0, .2, .4, .6, .8, 1],\n",
    "                           labels=['A', 'B', 'C', 'D', 'E'])\n",
    "\n",
    "#view updated DataFrame\n",
    "print(df)"
   ]
  },
  {
   "cell_type": "code",
   "execution_count": 28,
   "id": "9cd63226",
   "metadata": {},
   "outputs": [
    {
     "data": {
      "text/html": [
       "<div>\n",
       "<style scoped>\n",
       "    .dataframe tbody tr th:only-of-type {\n",
       "        vertical-align: middle;\n",
       "    }\n",
       "\n",
       "    .dataframe tbody tr th {\n",
       "        vertical-align: top;\n",
       "    }\n",
       "\n",
       "    .dataframe thead th {\n",
       "        text-align: right;\n",
       "    }\n",
       "</style>\n",
       "<table border=\"1\" class=\"dataframe\">\n",
       "  <thead>\n",
       "    <tr style=\"text-align: right;\">\n",
       "      <th></th>\n",
       "      <th>team</th>\n",
       "      <th>points</th>\n",
       "    </tr>\n",
       "  </thead>\n",
       "  <tbody>\n",
       "    <tr>\n",
       "      <th>0</th>\n",
       "      <td>A</td>\n",
       "      <td>12</td>\n",
       "    </tr>\n",
       "    <tr>\n",
       "      <th>1</th>\n",
       "      <td>B</td>\n",
       "      <td>15</td>\n",
       "    </tr>\n",
       "    <tr>\n",
       "      <th>2</th>\n",
       "      <td>C</td>\n",
       "      <td>19</td>\n",
       "    </tr>\n",
       "    <tr>\n",
       "      <th>3</th>\n",
       "      <td>D</td>\n",
       "      <td>22</td>\n",
       "    </tr>\n",
       "    <tr>\n",
       "      <th>4</th>\n",
       "      <td>E</td>\n",
       "      <td>24</td>\n",
       "    </tr>\n",
       "    <tr>\n",
       "      <th>5</th>\n",
       "      <td>F</td>\n",
       "      <td>25</td>\n",
       "    </tr>\n",
       "    <tr>\n",
       "      <th>6</th>\n",
       "      <td>G</td>\n",
       "      <td>26</td>\n",
       "    </tr>\n",
       "    <tr>\n",
       "      <th>7</th>\n",
       "      <td>H</td>\n",
       "      <td>30</td>\n",
       "    </tr>\n",
       "  </tbody>\n",
       "</table>\n",
       "</div>"
      ],
      "text/plain": [
       "  team  points\n",
       "0    A      12\n",
       "1    B      15\n",
       "2    C      19\n",
       "3    D      22\n",
       "4    E      24\n",
       "5    F      25\n",
       "6    G      26\n",
       "7    H      30"
      ]
     },
     "execution_count": 28,
     "metadata": {},
     "output_type": "execute_result"
    }
   ],
   "source": [
    "#create DataFrame with one categorical variable and one numeric variable\n",
    "df = pd.DataFrame({'team': ['A', 'B', 'C', 'D', 'E', 'F', 'G', 'H'],\n",
    "                   'points': [12, 15, 19, 22, 24, 25, 26, 30]})\n",
    "\n",
    "#view DataFrame\n",
    "df.head(10)"
   ]
  },
  {
   "cell_type": "code",
   "execution_count": 29,
   "id": "96c77015",
   "metadata": {},
   "outputs": [
    {
     "name": "stdout",
     "output_type": "stream",
     "text": [
      "  team  points status\n",
      "0    A      12    Bad\n",
      "1    B      15    Bad\n",
      "2    C      19     OK\n",
      "3    D      22     OK\n",
      "4    E      24     OK\n",
      "5    F      25     OK\n",
      "6    G      26   Good\n",
      "7    H      30   Good\n"
     ]
    }
   ],
   "source": [
    "#create categorical variable 'status' based on existing numerical 'points' variable\n",
    "#tạo cột status \n",
    "df['status'] = pd.cut(df['points'],\n",
    "                      bins=[0, 15, 25, float('Inf')],\n",
    "                      labels=['Bad', 'OK', 'Good'])\n",
    "#bins=[0, 15, 25, float('Inf')] float('Inf') là vô cực\n",
    "#view updated DataFrame\n",
    "print(df)"
   ]
  },
  {
   "cell_type": "code",
   "execution_count": 30,
   "id": "b8fc782f",
   "metadata": {},
   "outputs": [
    {
     "data": {
      "text/html": [
       "<div>\n",
       "<style scoped>\n",
       "    .dataframe tbody tr th:only-of-type {\n",
       "        vertical-align: middle;\n",
       "    }\n",
       "\n",
       "    .dataframe tbody tr th {\n",
       "        vertical-align: top;\n",
       "    }\n",
       "\n",
       "    .dataframe thead th {\n",
       "        text-align: right;\n",
       "    }\n",
       "</style>\n",
       "<table border=\"1\" class=\"dataframe\">\n",
       "  <thead>\n",
       "    <tr style=\"text-align: right;\">\n",
       "      <th></th>\n",
       "      <th>Ids</th>\n",
       "      <th>Countries</th>\n",
       "    </tr>\n",
       "  </thead>\n",
       "  <tbody>\n",
       "    <tr>\n",
       "      <th>0</th>\n",
       "      <td>11</td>\n",
       "      <td>Spain</td>\n",
       "    </tr>\n",
       "    <tr>\n",
       "      <th>1</th>\n",
       "      <td>22</td>\n",
       "      <td>France</td>\n",
       "    </tr>\n",
       "    <tr>\n",
       "      <th>2</th>\n",
       "      <td>33</td>\n",
       "      <td>Spain</td>\n",
       "    </tr>\n",
       "    <tr>\n",
       "      <th>3</th>\n",
       "      <td>44</td>\n",
       "      <td>Germany</td>\n",
       "    </tr>\n",
       "    <tr>\n",
       "      <th>4</th>\n",
       "      <td>55</td>\n",
       "      <td>France</td>\n",
       "    </tr>\n",
       "  </tbody>\n",
       "</table>\n",
       "</div>"
      ],
      "text/plain": [
       "   Ids Countries\n",
       "0   11     Spain\n",
       "1   22    France\n",
       "2   33     Spain\n",
       "3   44   Germany\n",
       "4   55    France"
      ]
     },
     "execution_count": 30,
     "metadata": {},
     "output_type": "execute_result"
    }
   ],
   "source": [
    "#kĩ thuật số hoá \n",
    "ids = [11, 22, 33, 44, 55, 66, 77]\n",
    "countries = ['Spain', 'France', 'Spain', 'Germany', 'France']\n",
    "df = pd.DataFrame(list(zip(ids, countries)),\n",
    "                  columns=['Ids', 'Countries'])\n",
    "df.head(10)"
   ]
  },
  {
   "cell_type": "code",
   "execution_count": 31,
   "id": "090d3d25",
   "metadata": {},
   "outputs": [
    {
     "data": {
      "text/html": [
       "<div>\n",
       "<style scoped>\n",
       "    .dataframe tbody tr th:only-of-type {\n",
       "        vertical-align: middle;\n",
       "    }\n",
       "\n",
       "    .dataframe tbody tr th {\n",
       "        vertical-align: top;\n",
       "    }\n",
       "\n",
       "    .dataframe thead th {\n",
       "        text-align: right;\n",
       "    }\n",
       "</style>\n",
       "<table border=\"1\" class=\"dataframe\">\n",
       "  <thead>\n",
       "    <tr style=\"text-align: right;\">\n",
       "      <th></th>\n",
       "      <th>Country_France</th>\n",
       "      <th>Country_Germany</th>\n",
       "      <th>Country_Spain</th>\n",
       "    </tr>\n",
       "  </thead>\n",
       "  <tbody>\n",
       "    <tr>\n",
       "      <th>0</th>\n",
       "      <td>False</td>\n",
       "      <td>False</td>\n",
       "      <td>True</td>\n",
       "    </tr>\n",
       "    <tr>\n",
       "      <th>1</th>\n",
       "      <td>True</td>\n",
       "      <td>False</td>\n",
       "      <td>False</td>\n",
       "    </tr>\n",
       "    <tr>\n",
       "      <th>2</th>\n",
       "      <td>False</td>\n",
       "      <td>False</td>\n",
       "      <td>True</td>\n",
       "    </tr>\n",
       "    <tr>\n",
       "      <th>3</th>\n",
       "      <td>False</td>\n",
       "      <td>True</td>\n",
       "      <td>False</td>\n",
       "    </tr>\n",
       "    <tr>\n",
       "      <th>4</th>\n",
       "      <td>True</td>\n",
       "      <td>False</td>\n",
       "      <td>False</td>\n",
       "    </tr>\n",
       "  </tbody>\n",
       "</table>\n",
       "</div>"
      ],
      "text/plain": [
       "   Country_France  Country_Germany  Country_Spain\n",
       "0           False            False           True\n",
       "1            True            False          False\n",
       "2           False            False           True\n",
       "3           False             True          False\n",
       "4            True            False          False"
      ]
     },
     "execution_count": 31,
     "metadata": {},
     "output_type": "execute_result"
    }
   ],
   "source": [
    "#dựa tên Country \n",
    "#số hoá thành 1-0\n",
    "y = pd.get_dummies(df.Countries, prefix='Country')\n",
    "y.head()"
   ]
  },
  {
   "cell_type": "code",
   "execution_count": 32,
   "id": "fd9224e4",
   "metadata": {},
   "outputs": [
    {
     "name": "stdout",
     "output_type": "stream",
     "text": [
      "   Country_France  Country_Germany  Country_Spain\n",
      "0           False            False           True\n",
      "1            True            False          False\n",
      "2           False            False           True\n",
      "3           False             True          False\n",
      "4            True            False          False\n"
     ]
    },
    {
     "data": {
      "text/html": [
       "<div>\n",
       "<style scoped>\n",
       "    .dataframe tbody tr th:only-of-type {\n",
       "        vertical-align: middle;\n",
       "    }\n",
       "\n",
       "    .dataframe tbody tr th {\n",
       "        vertical-align: top;\n",
       "    }\n",
       "\n",
       "    .dataframe thead th {\n",
       "        text-align: right;\n",
       "    }\n",
       "</style>\n",
       "<table border=\"1\" class=\"dataframe\">\n",
       "  <thead>\n",
       "    <tr style=\"text-align: right;\">\n",
       "      <th></th>\n",
       "      <th>Ids</th>\n",
       "      <th>Countries</th>\n",
       "      <th>Country_France</th>\n",
       "      <th>Country_Germany</th>\n",
       "      <th>Country_Spain</th>\n",
       "    </tr>\n",
       "  </thead>\n",
       "  <tbody>\n",
       "    <tr>\n",
       "      <th>0</th>\n",
       "      <td>11</td>\n",
       "      <td>Spain</td>\n",
       "      <td>False</td>\n",
       "      <td>False</td>\n",
       "      <td>True</td>\n",
       "    </tr>\n",
       "    <tr>\n",
       "      <th>1</th>\n",
       "      <td>22</td>\n",
       "      <td>France</td>\n",
       "      <td>True</td>\n",
       "      <td>False</td>\n",
       "      <td>False</td>\n",
       "    </tr>\n",
       "    <tr>\n",
       "      <th>2</th>\n",
       "      <td>33</td>\n",
       "      <td>Spain</td>\n",
       "      <td>False</td>\n",
       "      <td>False</td>\n",
       "      <td>True</td>\n",
       "    </tr>\n",
       "    <tr>\n",
       "      <th>3</th>\n",
       "      <td>44</td>\n",
       "      <td>Germany</td>\n",
       "      <td>False</td>\n",
       "      <td>True</td>\n",
       "      <td>False</td>\n",
       "    </tr>\n",
       "    <tr>\n",
       "      <th>4</th>\n",
       "      <td>55</td>\n",
       "      <td>France</td>\n",
       "      <td>True</td>\n",
       "      <td>False</td>\n",
       "      <td>False</td>\n",
       "    </tr>\n",
       "  </tbody>\n",
       "</table>\n",
       "</div>"
      ],
      "text/plain": [
       "   Ids Countries  Country_France  Country_Germany  Country_Spain\n",
       "0   11     Spain           False            False           True\n",
       "1   22    France            True            False          False\n",
       "2   33     Spain           False            False           True\n",
       "3   44   Germany           False             True          False\n",
       "4   55    France            True            False          False"
      ]
     },
     "execution_count": 32,
     "metadata": {},
     "output_type": "execute_result"
    }
   ],
   "source": [
    "#ghép 3 cột mới vào data frame\n",
    "dfOneHotEncoding = pd.get_dummies(df.Countries, prefix='Country')\n",
    "print(dfOneHotEncoding.head())\n",
    "df=pd.concat([df,dfOneHotEncoding],axis=1)\n",
    "df"
   ]
  },
  {
   "cell_type": "code",
   "execution_count": 33,
   "id": "f6545344",
   "metadata": {},
   "outputs": [
    {
     "data": {
      "text/plain": [
       "array([[0, 0, 1],\n",
       "       [1, 0, 0],\n",
       "       [0, 0, 1],\n",
       "       [0, 1, 0],\n",
       "       [1, 0, 0]])"
      ]
     },
     "execution_count": 33,
     "metadata": {},
     "output_type": "execute_result"
    }
   ],
   "source": [
    "#tạo ma trận từ 3 cột Country_France  Country_Germany  Country_Spain\n",
    "from sklearn.preprocessing import LabelBinarizer\n",
    "y = LabelBinarizer().fit_transform(df.Countries)\n",
    "y"
   ]
  },
  {
   "cell_type": "code",
   "execution_count": 34,
   "id": "37ae6d43",
   "metadata": {},
   "outputs": [
    {
     "name": "stdout",
     "output_type": "stream",
     "text": [
      "[[0. 0. 1.]\n",
      " [1. 0. 0.]\n",
      " [0. 0. 1.]\n",
      " [0. 1. 0.]\n",
      " [1. 0. 0.]]\n"
     ]
    }
   ],
   "source": [
    "#vẽ ma trận số thực \n",
    "from sklearn.preprocessing import OneHotEncoder\n",
    "y = OneHotEncoder().fit_transform(df[['Countries']]).toarray()\n",
    "print(y)"
   ]
  },
  {
   "cell_type": "code",
   "execution_count": 35,
   "id": "9aa82767",
   "metadata": {},
   "outputs": [
    {
     "name": "stdout",
     "output_type": "stream",
     "text": [
      "Trung Bình\n",
      "Salary HCM:  9.333333333333334\n",
      "Salary LA:  5.666666666666667\n",
      "Độ lệch chuẩn\n",
      "Salary HCM:  0.5527707983925667\n",
      "Salary LA:  0.37267799624996495\n"
     ]
    }
   ],
   "source": [
    "#Chuẩn hoá dữ liệu\n",
    "#Machine Learning\n",
    "#kĩ thuật standardization\n",
    "#x (scale)=x/max(|x|)\n",
    "#x (scale)=(x-x (min))/x (max)-x(min), phương pháp min max scale\n",
    "#z(core) =(x-mean)/std\n",
    "import numpy as np\n",
    "year=[2010,2011,2012,2013,2014,2015]\n",
    "salaryHCM=[8.5,9.0,9.5,9.0,10.0,10.0]\n",
    "salaryLA=[5.5,6.0,6.0,5.5,6.0,5.0]\n",
    "print('Trung Bình')\n",
    "print(\"Salary HCM: \",np.mean(salaryHCM))\n",
    "print(\"Salary LA: \",np.mean(salaryLA))\n",
    "print('Độ lệch chuẩn')\n",
    "print(\"Salary HCM: \",np.std(salaryHCM))\n",
    "print(\"Salary LA: \",np.std(salaryLA))"
   ]
  },
  {
   "cell_type": "code",
   "execution_count": 36,
   "id": "5781a3c8",
   "metadata": {},
   "outputs": [
    {
     "data": {
      "text/html": [
       "<div>\n",
       "<style scoped>\n",
       "    .dataframe tbody tr th:only-of-type {\n",
       "        vertical-align: middle;\n",
       "    }\n",
       "\n",
       "    .dataframe tbody tr th {\n",
       "        vertical-align: top;\n",
       "    }\n",
       "\n",
       "    .dataframe thead th {\n",
       "        text-align: right;\n",
       "    }\n",
       "</style>\n",
       "<table border=\"1\" class=\"dataframe\">\n",
       "  <thead>\n",
       "    <tr style=\"text-align: right;\">\n",
       "      <th></th>\n",
       "      <th>Age</th>\n",
       "      <th>Height</th>\n",
       "      <th>Weight</th>\n",
       "    </tr>\n",
       "  </thead>\n",
       "  <tbody>\n",
       "    <tr>\n",
       "      <th>0</th>\n",
       "      <td>10</td>\n",
       "      <td>130</td>\n",
       "      <td>80</td>\n",
       "    </tr>\n",
       "    <tr>\n",
       "      <th>1</th>\n",
       "      <td>35</td>\n",
       "      <td>178</td>\n",
       "      <td>200</td>\n",
       "    </tr>\n",
       "    <tr>\n",
       "      <th>2</th>\n",
       "      <td>34</td>\n",
       "      <td>155</td>\n",
       "      <td>220</td>\n",
       "    </tr>\n",
       "    <tr>\n",
       "      <th>3</th>\n",
       "      <td>23</td>\n",
       "      <td>133</td>\n",
       "      <td>150</td>\n",
       "    </tr>\n",
       "    <tr>\n",
       "      <th>4</th>\n",
       "      <td>70</td>\n",
       "      <td>195</td>\n",
       "      <td>140</td>\n",
       "    </tr>\n",
       "    <tr>\n",
       "      <th>5</th>\n",
       "      <td>55</td>\n",
       "      <td>150</td>\n",
       "      <td>95</td>\n",
       "    </tr>\n",
       "    <tr>\n",
       "      <th>6</th>\n",
       "      <td>89</td>\n",
       "      <td>205</td>\n",
       "      <td>180</td>\n",
       "    </tr>\n",
       "  </tbody>\n",
       "</table>\n",
       "</div>"
      ],
      "text/plain": [
       "   Age  Height  Weight\n",
       "0   10     130      80\n",
       "1   35     178     200\n",
       "2   34     155     220\n",
       "3   23     133     150\n",
       "4   70     195     140\n",
       "5   55     150      95\n",
       "6   89     205     180"
      ]
     },
     "execution_count": 36,
     "metadata": {},
     "output_type": "execute_result"
    }
   ],
   "source": [
    "#giảm thiểu tính toán số lớn\n",
    "import pandas as pd\n",
    "\n",
    "df = pd.DataFrame.from_dict({\n",
    "    'Age': [10, 35, 34, 23, 70, 55, 89],\n",
    "    'Height': [130, 178, 155, 133, 195, 150, 205],\n",
    "    'Weight': [80, 200, 220, 150, 140, 95, 180]\n",
    "})\n",
    "df"
   ]
  },
  {
   "cell_type": "code",
   "execution_count": 37,
   "id": "7e689fd4",
   "metadata": {},
   "outputs": [
    {
     "name": "stdout",
     "output_type": "stream",
     "text": [
      "        Age    Height    Weight\n",
      "0  0.112360  0.634146  0.363636\n",
      "1  0.393258  0.868293  0.909091\n",
      "2  0.382022  0.756098  1.000000\n",
      "3  0.258427  0.648780  0.681818\n",
      "4  0.786517  0.951220  0.636364\n",
      "5  0.617978  0.731707  0.431818\n",
      "6  1.000000  1.000000  0.818182\n"
     ]
    }
   ],
   "source": [
    "#maximun scale \n",
    "#sklearn (cuối kì)\n",
    "# Use Scikit-learn to transform with maximum absolute scaling\n",
    "def absolute_maximum_scale(series):\n",
    "    return series / series.abs().max()\n",
    "for col in df.columns:\n",
    "    df[col] = absolute_maximum_scale(df[col])\n",
    "print(df)"
   ]
  },
  {
   "cell_type": "code",
   "execution_count": 38,
   "id": "6ec319d9",
   "metadata": {},
   "outputs": [
    {
     "name": "stdout",
     "output_type": "stream",
     "text": [
      "        Age    Height    Weight\n",
      "0  0.000000  0.000000  0.000000\n",
      "1  0.316456  0.640000  0.857143\n",
      "2  0.303797  0.333333  1.000000\n",
      "3  0.164557  0.040000  0.500000\n",
      "4  0.759494  0.866667  0.428571\n"
     ]
    }
   ],
   "source": [
    "#tính z-score\n",
    "def min_max_scaling(series):\n",
    "    return (series - series.min()) / (series.max() - series.min())\n",
    "\n",
    "for col in df.columns:\n",
    "    df[col] = min_max_scaling(df[col])\n",
    "\n",
    "print(df.head())"
   ]
  },
  {
   "cell_type": "code",
   "execution_count": 39,
   "id": "86733e57",
   "metadata": {},
   "outputs": [
    {
     "name": "stdout",
     "output_type": "stream",
     "text": [
      "        Age    Height    Weight\n",
      "0  0.000000  0.000000  0.000000\n",
      "1  0.316456  0.640000  0.857143\n",
      "2  0.303797  0.333333  1.000000\n",
      "3  0.164557  0.040000  0.500000\n",
      "4  0.759494  0.866667  0.428571\n",
      "5  0.569620  0.266667  0.107143\n",
      "6  1.000000  1.000000  0.714286\n"
     ]
    }
   ],
   "source": [
    "from sklearn.preprocessing import MinMaxScaler\n",
    "\n",
    "scaler = MinMaxScaler()\n",
    "scaler.fit(df)\n",
    "scaled = scaler.fit_transform(df)\n",
    "scaled_df = pd.DataFrame(scaled, columns=df.columns)\n",
    "\n",
    "print(scaled_df)"
   ]
  },
  {
   "cell_type": "code",
   "execution_count": 40,
   "id": "3e411b2d",
   "metadata": {},
   "outputs": [
    {
     "data": {
      "image/png": "[encoded data removed]",
      "text/plain": [
       "<Figure size 640x480 with 1 Axes>"
      ]
     },
     "metadata": {},
     "output_type": "display_data"
    }
   ],
   "source": [
    "#ajust Data: điều chỉnh dữ liệu\n",
    "#smoothing Data: làm mịn dữ liệu\n",
    "import numpy as np\n",
    "from scipy.signal import savgol_filter\n",
    "import matplotlib.pyplot as plt\n",
    "\n",
    "x=np.linspace(0,2*np.pi,100)\n",
    "y=np.sin(x)+np.random.random(100)\n",
    "yhat=savgol_filter(y,51,3)\n",
    "\n",
    "plt.plot(x,y)\n",
    "plt.plot(x,yhat,color='green')\n",
    "plt.show()"
   ]
  }
 ],
 "metadata": {
  "kernelspec": {
   "display_name": "Python 3 (ipykernel)",
   "language": "python",
   "name": "python3"
  },
  "language_info": {
   "codemirror_mode": {
    "name": "ipython",
    "version": 3
   },
   "file_extension": ".py",
   "mimetype": "text/x-python",
   "name": "python",
   "nbconvert_exporter": "python",
   "pygments_lexer": "ipython3",
   "version": "3.12.3"
  }
 },
 "nbformat": 4,
 "nbformat_minor": 5
}
