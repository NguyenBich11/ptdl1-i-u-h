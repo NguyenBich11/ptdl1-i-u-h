{
 "cells": [
  {
   "cell_type": "code",
   "execution_count": 1,
   "metadata": {},
   "outputs": [
    {
     "name": "stdout",
     "output_type": "stream",
     "text": [
      "Hạng của ma trận là: 2\n"
     ]
    }
   ],
   "source": [
    "import numpy as np\n",
    "# Tạo ma trận 4x4\n",
    "A = np.array([[1, 2, 3, 4],\n",
    "              [5, 6, 7, 8],\n",
    "              [9, 10, 11, 12],\n",
    "              [13, 14, 15, 16]])\n",
    "# Tính hạng ma trận\n",
    "rank = np.linalg.matrix_rank(A)\n",
    "print(\"Hạng của ma trận là:\", rank)"
   ]
  },
  {
   "cell_type": "code",
   "execution_count": 3,
   "metadata": {},
   "outputs": [
    {
     "name": "stdout",
     "output_type": "stream",
     "text": [
      "Định thức của ma trận A: 0.0\n",
      "Định thức của ma trận B: 0.0\n"
     ]
    }
   ],
   "source": [
    "import numpy as np\n",
    "# Ma trận 1\n",
    "A = np.array([[1, 2, 3, 4],\n",
    "              [5, 6, 7, 8],\n",
    "              [9, 10, 11, 12],\n",
    "              [13, 14, 15, 16]])\n",
    "\n",
    "# Ma trận 2\n",
    "B = np.array([[4, 3, 2, 1],\n",
    "              [8, 7, 6, 5],\n",
    "              [12, 11, 10, 9],\n",
    "              [16, 15, 14, 13]])\n",
    "# Tính định thức của ma trận A\n",
    "det_A = np.linalg.det(A)\n",
    "print(\"Định thức của ma trận A:\", det_A)\n",
    "# Tính định thức của ma trận B\n",
    "det_B = np.linalg.det(B)\n",
    "print(\"Định thức của ma trận B:\", det_B)"
   ]
  }
 ],
 "metadata": {
  "kernelspec": {
   "display_name": "Python 3",
   "language": "python",
   "name": "python3"
  },
  "language_info": {
   "codemirror_mode": {
    "name": "ipython",
    "version": 3
   },
   "file_extension": ".py",
   "mimetype": "text/x-python",
   "name": "python",
   "nbconvert_exporter": "python",
   "pygments_lexer": "ipython3",
   "version": "3.11.5"
  }
 },
 "nbformat": 4,
 "nbformat_minor": 2
}
