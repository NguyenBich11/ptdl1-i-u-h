{
 "cells": [
  {
   "cell_type": "code",
   "execution_count": 17,
   "id": "initial_id",
   "metadata": {
    "ExecuteTime": {
     "end_time": "2024-05-21T10:12:15.931619Z",
     "start_time": "2024-05-21T10:12:15.920034Z"
    },
    "collapsed": true
   },
   "outputs": [],
   "source": [
    "def hamming_encode(data):\n",
    "    \"\"\"\n",
    "    Encodes the given data using Hamming code.\n",
    "    \n",
    "    Args:\n",
    "    data (str): The binary data to be encoded.\n",
    "    \n",
    "    Returns:\n",
    "    str: The encoded Hamming code.\n",
    "    \"\"\"\n",
    "    # Convert the input data to a list of bits\n",
    "    bits = [int(bit) for bit in data]\n",
    "    # Calculate the number of parity bits needed\n",
    "    k = len(bits)\n",
    "    m = 1\n",
    "    while 2 ** m < k + m + 1:\n",
    "        m += 1\n",
    "    # Create the Hamming code\n",
    "    encoded = [0] * (k + m)\n",
    "    j = 0\n",
    "    for i in range(len(encoded)):\n",
    "        if i + 1 == 2 ** j:\n",
    "            j += 1\n",
    "        else:\n",
    "            encoded[i] = bits[i - j]\n",
    "    # Calculate the parity bits\n",
    "    for i in range(m):\n",
    "        parity_bit = 0\n",
    "        for j in range(1, len(encoded) + 1):\n",
    "            if (j & (2 ** i)) != 0:\n",
    "                parity_bit ^= encoded[j - 1]\n",
    "        encoded[2 ** i - 1] = parity_bit\n",
    "\n",
    "    return ''.join(map(str, encoded))\n"
   ]
  },
  {
   "cell_type": "code",
   "execution_count": 18,
   "id": "41c9b23f718fd9f4",
   "metadata": {
    "ExecuteTime": {
     "end_time": "2024-05-21T10:12:15.947370Z",
     "start_time": "2024-05-21T10:12:15.933564Z"
    },
    "collapsed": false
   },
   "outputs": [
    {
     "name": "stdout",
     "output_type": "stream",
     "text": [
      "Original data: 11001100\n",
      "Encoded Hamming code: 101110001100\n"
     ]
    }
   ],
   "source": [
    "# Example usage\n",
    "data = \"11001100\"\n",
    "encoded = hamming_encode(data)\n",
    "print(f\"Original data: {data}\")\n",
    "print(f\"Encoded Hamming code: {encoded}\")"
   ]
  },
  {
   "cell_type": "code",
   "execution_count": 19,
   "id": "fa413364916037e4",
   "metadata": {
    "ExecuteTime": {
     "end_time": "2024-05-21T10:12:15.963013Z",
     "start_time": "2024-05-21T10:12:15.949025Z"
    },
    "collapsed": false
   },
   "outputs": [],
   "source": [
    "def hamming_decode(encoded):\n",
    "    \"\"\"\n",
    "    Decodes the given Hamming code and corrects any single-bit errors.\n",
    "    \n",
    "    Args:\n",
    "    encoded (str): The Hamming code to be decoded.\n",
    "    \n",
    "    Returns:\n",
    "    str: The decoded data.\n",
    "    \"\"\"\n",
    "    # Convert the input Hamming code to a list of bits\n",
    "    bits = [int(bit) for bit in encoded]\n",
    "\n",
    "    # Calculate the number of parity bits\n",
    "    m = 0\n",
    "    while 2 ** m < len(bits):\n",
    "        m += 1\n",
    "\n",
    "    # Calculate the parity bits\n",
    "    syndrome = 0\n",
    "    for i in range(m):\n",
    "        parity_bit = 0\n",
    "        for j in range(1, len(bits) + 1):\n",
    "            if (j & (2 ** i)) != 0:\n",
    "                parity_bit ^= bits[j - 1]\n",
    "        syndrome |= parity_bit << i\n",
    "\n",
    "    # Correct the error, if any\n",
    "    if syndrome != 0:\n",
    "        bits[syndrome - 1] ^= 1\n",
    "\n",
    "    # Extract the data bits\n",
    "    data = []\n",
    "    j = 0\n",
    "    for i in range(len(bits)):\n",
    "        if i + 1 != 2 ** j:\n",
    "            data.append(bits[i])\n",
    "        else:\n",
    "            j += 1\n",
    "\n",
    "    return ''.join(map(str, data))"
   ]
  },
  {
   "cell_type": "code",
   "execution_count": 20,
   "id": "83178edfb88dd39f",
   "metadata": {
    "ExecuteTime": {
     "end_time": "2024-05-21T10:12:15.979114Z",
     "start_time": "2024-05-21T10:12:15.964017Z"
    },
    "collapsed": false
   },
   "outputs": [
    {
     "name": "stdout",
     "output_type": "stream",
     "text": [
      "Encoded Hamming code: 101100001100\n",
      "Decoded data: 11001100\n"
     ]
    }
   ],
   "source": [
    "# Example usage\n",
    "encoded = \"101100001100\"\n",
    "decoded = hamming_decode(encoded)\n",
    "print(f\"Encoded Hamming code: {encoded}\")\n",
    "print(f\"Decoded data: {decoded}\")"
   ]
  },
  {
   "cell_type": "markdown",
   "id": "94d9ae39d84f793f",
   "metadata": {
    "collapsed": false
   },
   "source": [
    "\n",
    "Câu 4. (3.0 điểm) Cho lớp mạng 117.0.0.0, biết rằng hệ thống cần 2024 máy tính trên mỗi subnet. Hãy tính:\n",
    "a) Subnet mask.\n",
    "b) Số đường mạng tương ứng.\n",
    "c) Hãy liệt kê 10 đường mạng (5 đường đầu tiên và 5 đường cuối cùng), miền địa chỉ IP và IP broadcast cho mỗi đường mạng."
   ]
  },
  {
   "cell_type": "code",
   "execution_count": 21,
   "id": "a1cafdb72dbaf66",
   "metadata": {
    "ExecuteTime": {
     "end_time": "2024-05-21T10:12:15.994463Z",
     "start_time": "2024-05-21T10:12:15.981016Z"
    },
    "collapsed": false
   },
   "outputs": [],
   "source": [
    "# a) Tính subnet mask\n",
    "import math\n",
    "network_address = '117.0.0.0'\n",
    "num_hosts = 2024"
   ]
  },
  {
   "cell_type": "code",
   "execution_count": 22,
   "id": "5a1fc37fe77b042a",
   "metadata": {
    "ExecuteTime": {
     "end_time": "2024-05-21T10:12:16.009408Z",
     "start_time": "2024-05-21T10:12:15.996484Z"
    },
    "collapsed": false
   },
   "outputs": [
    {
     "name": "stdout",
     "output_type": "stream",
     "text": [
      "a) Subnet mask: 255.255.255.2047\n"
     ]
    }
   ],
   "source": [
    "# Tính số bit cần để phân chia subnet\n",
    "num_subnet_bits = math.ceil(math.log2(num_hosts))\n",
    "# Tính subnet mask\n",
    "subnet_mask = '255.255.255.{}'.format(int('1'*num_subnet_bits + '0'*(8-num_subnet_bits), 2))\n",
    "print('a) Subnet mask: {}'.format(subnet_mask))"
   ]
  },
  {
   "cell_type": "code",
   "execution_count": 23,
   "id": "f36109138a6e4908",
   "metadata": {
    "ExecuteTime": {
     "end_time": "2024-05-21T10:12:16.024947Z",
     "start_time": "2024-05-21T10:12:16.010515Z"
    },
    "collapsed": false
   },
   "outputs": [
    {
     "name": "stdout",
     "output_type": "stream",
     "text": [
      "b) Số đường mạng tương ứng: 0.125\n"
     ]
    }
   ],
   "source": [
    "# b) Tính số đường mạng tương ứng\n",
    "num_subnets = 2 ** (32 - 24 - num_subnet_bits)\n",
    "print('b) Số đường mạng tương ứng: {}'.format(num_subnets))"
   ]
  },
  {
   "cell_type": "code",
   "execution_count": 26,
   "id": "afe6feb3e3c00256",
   "metadata": {
    "ExecuteTime": {
     "end_time": "2024-05-21T10:14:36.752708Z",
     "start_time": "2024-05-21T10:14:36.735690Z"
    },
    "collapsed": false
   },
   "outputs": [
    {
     "name": "stdout",
     "output_type": "stream",
     "text": [
      "c) 10 đường mạng đầu tiên và cuối cùng:\n",
      "Đường mạng 1: 117.0.0.0/255.255.255.2047 - Broadcast: 117.0.0.-0.875\n",
      "Đường mạng 2: 117.0.0.1/255.255.255.2047 - Broadcast: 117.0.0.0.125\n",
      "Đường mạng 3: 117.0.0.2/255.255.255.2047 - Broadcast: 117.0.0.1.125\n",
      "Đường mạng 4: 117.0.0.3/255.255.255.2047 - Broadcast: 117.0.0.2.125\n",
      "Đường mạng 5: 117.0.0.4/255.255.255.2047 - Broadcast: 117.0.0.3.125\n",
      "'float' object cannot be interpreted as an integer\n"
     ]
    }
   ],
   "source": [
    "# c) Liệt kê 10 đường mạng (5 đầu tiên và 5 cuối cùng)\n",
    "try:\n",
    "    network_parts = [int(x) for x in network_address.split('.')]\n",
    "    network_prefix = '{}.{}.{}'.format(network_parts[0], network_parts[1], network_parts[2])\n",
    "    subnet_mask_parts = [int(x) for x in subnet_mask.split('.')]\n",
    "    print('c) 10 đường mạng đầu tiên và cuối cùng:')\n",
    "    for i in range(5):\n",
    "        subnet_id = i\n",
    "        network_address = '{}.{}'.format(network_prefix, subnet_id)\n",
    "        broadcast_address = '{}.{}'.format(network_prefix, subnet_id + 2 ** (8 - num_subnet_bits) - 1)\n",
    "        print('Đường mạng {}: {}/{} - Broadcast: {}'.format(i+1, network_address, subnet_mask, broadcast_address))\n",
    "    for i in range(num_subnets-5, num_subnets):\n",
    "        subnet_id = i\n",
    "        network_address = '{}.{}'.format(network_prefix, subnet_id)\n",
    "        broadcast_address = '{}.{}'.format(network_prefix, subnet_id + 2 ** (8 - num_subnet_bits) - 1)\n",
    "        print('Đường mạng {}: {}/{} - Broadcast: {}'.format(i+1, network_address, subnet_mask, broadcast_address))\n",
    "except Exception as e:\n",
    "    print(e)"
   ]
  },
  {
   "cell_type": "markdown",
   "id": "514a7e9124a0f02d",
   "metadata": {
    "collapsed": false
   },
   "source": [
    "RSA Algorithm"
   ]
  },
  {
   "cell_type": "code",
   "execution_count": 27,
   "id": "9e6bcb1d599f85f8",
   "metadata": {
    "ExecuteTime": {
     "end_time": "2024-05-21T10:20:44.336784Z",
     "start_time": "2024-05-21T10:20:44.331779Z"
    },
    "collapsed": false
   },
   "outputs": [],
   "source": [
    "import math\n",
    "# Step 1: Calculate n and φ(n)\n",
    "p = 3\n",
    "q = 11\n",
    "n = p * q\n",
    "phi_n = (p - 1) * (q - 1)"
   ]
  },
  {
   "cell_type": "code",
   "execution_count": 28,
   "id": "39d678f5a2ee358",
   "metadata": {
    "ExecuteTime": {
     "end_time": "2024-05-21T10:21:27.362980Z",
     "start_time": "2024-05-21T10:21:27.345919Z"
    },
    "collapsed": false
   },
   "outputs": [],
   "source": [
    "# Step 2: Choose the public exponent e\n",
    "e = 7\n",
    "# Step 3: Calculate the private exponent d\n",
    "d = None\n",
    "for i in range(1, phi_n):\n",
    "    if (i * e) % phi_n == 1:\n",
    "        d = i\n",
    "        break"
   ]
  },
  {
   "cell_type": "code",
   "execution_count": 29,
   "id": "ab9efc426efff2ce",
   "metadata": {
    "ExecuteTime": {
     "end_time": "2024-05-21T10:21:33.706689Z",
     "start_time": "2024-05-21T10:21:33.699703Z"
    },
    "collapsed": false
   },
   "outputs": [
    {
     "name": "stdout",
     "output_type": "stream",
     "text": [
      "Public key: (7, 33)\n",
      "Private key: (3, 33)\n"
     ]
    }
   ],
   "source": [
    "print(\"Public key:\", (e, n))\n",
    "print(\"Private key:\", (d, n))"
   ]
  },
  {
   "cell_type": "code",
   "execution_count": 30,
   "id": "8fe794c89cfcb170",
   "metadata": {
    "ExecuteTime": {
     "end_time": "2024-05-21T10:21:40.629515Z",
     "start_time": "2024-05-21T10:21:40.619516Z"
    },
    "collapsed": false
   },
   "outputs": [
    {
     "name": "stdout",
     "output_type": "stream",
     "text": [
      "Encrypted message: 14\n"
     ]
    }
   ],
   "source": [
    "# Encryption\n",
    "m = 5\n",
    "c = pow(m, e, n)\n",
    "print(\"Encrypted message:\", c)"
   ]
  },
  {
   "cell_type": "code",
   "execution_count": 31,
   "id": "a52177c1d50326fd",
   "metadata": {
    "ExecuteTime": {
     "end_time": "2024-05-21T10:21:45.927113Z",
     "start_time": "2024-05-21T10:21:45.910886Z"
    },
    "collapsed": false
   },
   "outputs": [
    {
     "name": "stdout",
     "output_type": "stream",
     "text": [
      "Decrypted message: 5\n"
     ]
    }
   ],
   "source": [
    "# Decryption\n",
    "decrypted_m = pow(c, d, n)\n",
    "print(\"Decrypted message:\", decrypted_m)"
   ]
  },
  {
   "cell_type": "code",
   "execution_count": 1,
   "id": "dda642e1f1d3c898",
   "metadata": {
    "collapsed": false
   },
   "outputs": [
    {
     "name": "stdout",
     "output_type": "stream",
     "text": [
      "Giới hạn khi x tiến tới 0 là: exp(-2)\n"
     ]
    }
   ],
   "source": [
    "import sympy as sp\n",
    "\n",
    "# Khai báo biến\n",
    "x = sp.symbols('x')\n",
    "\n",
    "# Định nghĩa hàm số\n",
    "f = sp.cos(2*x)**(sp.cot(x)/sp.sin(x))\n",
    "\n",
    "# Tính giới hạn\n",
    "limit_result = sp.limit(f, x, 0)\n",
    "\n",
    "# In kết quả\n",
    "print(f\"Giới hạn khi x tiến tới 0 là: {limit_result}\")"
   ]
  }
 ],
 "metadata": {
  "kernelspec": {
   "display_name": "Python 3",
   "language": "python",
   "name": "python3"
  },
  "language_info": {
   "codemirror_mode": {
    "name": "ipython",
    "version": 3
   },
   "file_extension": ".py",
   "mimetype": "text/x-python",
   "name": "python",
   "nbconvert_exporter": "python",
   "pygments_lexer": "ipython3",
   "version": "3.12.3"
  }
 },
 "nbformat": 4,
 "nbformat_minor": 5
}
