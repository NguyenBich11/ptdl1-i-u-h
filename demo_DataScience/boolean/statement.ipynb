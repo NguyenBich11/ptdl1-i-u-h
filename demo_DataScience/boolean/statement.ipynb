{
 "cells": [
  {
   "cell_type": "code",
   "execution_count": 1,
   "metadata": {},
   "outputs": [
    {
     "name": "stdout",
     "output_type": "stream",
     "text": [
      "True\n"
     ]
    }
   ],
   "source": [
    "# Biểu thức boolean\n",
    "x = True\n",
    "y = False\n",
    "# Biểu thức: (x AND NOT y) OR y\n",
    "result = (x and not y) or y\n",
    "print(result) \n",
    "# Kết quả sẽ là True"
   ]
  },
  {
   "cell_type": "code",
   "execution_count": 2,
   "metadata": {},
   "outputs": [],
   "source": [
    "import numpy as np\n",
    "import matplotlib.pyplot as plt\n",
    "import seaborn as sns"
   ]
  },
  {
   "cell_type": "code",
   "execution_count": 3,
   "metadata": {},
   "outputs": [],
   "source": [
    "def f(x,y,z,t):\n",
    "    return (x and y) or (not x and z) or not t"
   ]
  },
  {
   "cell_type": "code",
   "execution_count": 4,
   "metadata": {},
   "outputs": [
    {
     "data": {
      "image/png": "[encoded data removed]",
      "text/plain": [
       "<Figure size 600x600 with 1 Axes>"
      ]
     },
     "metadata": {},
     "output_type": "display_data"
    }
   ],
   "source": [
    "def create_kmap():\n",
    "    # Khởi tạo ma trận Karnaugh 4 biến: 2x4 (xy, zw)\n",
    "    kmap = np.zeros((4, 4), dtype=int)\n",
    "    # Điền giá trị vào ma trận theo biểu thức f(x, y, z, t) = x * y + ~x * z + t\n",
    "    for x in [0, 1]:\n",
    "        for y in [0, 1]:\n",
    "            for z in [0, 1]:\n",
    "                for t in [0, 1]:\n",
    "                    # Tính giá trị của hàm\n",
    "                    value = f(x,y,z,t)\n",
    "                    # Chỉ số ô trong ma trận Karnaugh\n",
    "                    kmap[(x << 1) | y][(z << 1) | t] = value\n",
    "\n",
    "    return kmap\n",
    "\n",
    "def plot_kmap(kmap):\n",
    "    plt.figure(figsize=(6, 6))\n",
    "    sns.heatmap(kmap, annot=True, cmap='YlGnBu', cbar=False, linewidths=0.5, fmt='d')\n",
    "\n",
    "    # Thiết lập nhãn cho trục\n",
    "    plt.title(\"Karnaugh Map\")\n",
    "    plt.xlabel(\"ZT\")\n",
    "    plt.ylabel(\"XY\")\n",
    "    plt.xticks(ticks=[0.5, 1.5, 2.5, 3.5], labels=[\"00\", \"01\", \"11\", \"10\"])\n",
    "    plt.yticks(ticks=[0.5, 1.5, 2.5, 3.5], labels=[\"00\", \"01\", \"11\", \"10\"], rotation=0)\n",
    "\n",
    "    plt.show()\n",
    "\n",
    "# Tạo ma trận Karnaugh\n",
    "kmap = create_kmap()\n",
    "\n",
    "# Vẽ ma trận Karnaugh\n",
    "plot_kmap(kmap)"
   ]
  },
  {
   "cell_type": "markdown",
   "metadata": {},
   "source": [
    "X(n+1) = 3Xn - 2X(n+1) + 2^n + 2n <br>\n",
    "X0=3, X1=4 n>=1"
   ]
  },
  {
   "cell_type": "code",
   "execution_count": 5,
   "metadata": {},
   "outputs": [],
   "source": [
    "def f_right(x, n):\n",
    "    # \"\"\"Hàm tính giá trị X(n+1) từ X(n) và X(n-1)\"\"\"\n",
    "    return 3 * x[n] - 2 * x[n - 1] + 2**n + 2 * n\n",
    "\n",
    "# def f_left(x, n):\n",
    "#     \"\"\"Hàm trả về giá trị X(n+1)\"\"\"\n",
    "#     return x[n + 1]\n",
    "\n",
    "def solve_recurrence(n):\n",
    "    # \"\"\"Giải hệ đệ quy và trả về danh sách các giá trị X từ X(0) đến X(n)\"\"\"\n",
    "    # Điều kiện đầu\n",
    "    # Bổ sung thêm 1 phần tử để tính X(n+1)\n",
    "    x = [0] * (n + 2)  \n",
    "    x[0] = 3\n",
    "    x[1] = 4\n",
    "    \n",
    "    # Tính các giá trị từ X[2] đến X[n+1]\n",
    "    for i in range(1, n + 1):\n",
    "        x[i + 1] = f_right(x, i)\n",
    "    return x"
   ]
  },
  {
   "cell_type": "code",
   "execution_count": 6,
   "metadata": {},
   "outputs": [
    {
     "name": "stdout",
     "output_type": "stream",
     "text": [
      "X(0) = 3\n",
      "X(1) = 4\n",
      "X(2) = 10\n",
      "X(3) = 30\n",
      "X(4) = 84\n",
      "X(5) = 216\n",
      "X(6) = 522\n",
      "X(7) = 1210\n",
      "X(8) = 2728\n",
      "X(9) = 6036\n",
      "X(10) = 13182\n"
     ]
    }
   ],
   "source": [
    "# Tính và in ra các giá trị X[0] đến X[10]\n",
    "n = 10\n",
    "results = solve_recurrence(n)\n",
    "for i in range(n + 1):\n",
    "    print(f\"X({i}) = {results[i]}\")"
   ]
  }
 ],
 "metadata": {
  "kernelspec": {
   "display_name": "Python 3",
   "language": "python",
   "name": "python3"
  },
  "language_info": {
   "codemirror_mode": {
    "name": "ipython",
    "version": 3
   },
   "file_extension": ".py",
   "mimetype": "text/x-python",
   "name": "python",
   "nbconvert_exporter": "python",
   "pygments_lexer": "ipython3",
   "version": "3.12.3"
  }
 },
 "nbformat": 4,
 "nbformat_minor": 2
}
