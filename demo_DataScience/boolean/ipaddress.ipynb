{
 "cells": [
  {
   "cell_type": "code",
   "execution_count": 1,
   "metadata": {},
   "outputs": [
    {
     "name": "stdout",
     "output_type": "stream",
     "text": [
      "Địa chỉ IP nhị phân: 11000000.10101000.00000001.00000001\n"
     ]
    }
   ],
   "source": [
    "import ipaddress\n",
    "\n",
    "def ip_to_binary(ip_str):\n",
    "    ip = ipaddress.ip_address(ip_str)\n",
    "    binary_parts = [bin(int(part))[2:].zfill(8) for part in ip_str.split('.')]\n",
    "    return '.'.join(binary_parts)\n",
    "\n",
    "# Ví dụ\n",
    "ip = \"192.168.1.1\"\n",
    "binary_ip = ip_to_binary(ip)\n",
    "print(\"Địa chỉ IP nhị phân:\", binary_ip)"
   ]
  },
  {
   "cell_type": "code",
   "execution_count": 2,
   "metadata": {},
   "outputs": [
    {
     "name": "stdout",
     "output_type": "stream",
     "text": [
      "Subnet Mask: 255.255.255.0\n"
     ]
    }
   ],
   "source": [
    "def get_subnet_mask(ip_str):\n",
    "    net = ipaddress.ip_network(ip_str + '/24', strict=False)  # Giả định subnet /24\n",
    "    return str(net.netmask)\n",
    "\n",
    "# Ví dụ\n",
    "subnet_mask = get_subnet_mask(ip)\n",
    "print(\"Subnet Mask:\", subnet_mask)"
   ]
  },
  {
   "cell_type": "code",
   "execution_count": 3,
   "metadata": {},
   "outputs": [
    {
     "name": "stdout",
     "output_type": "stream",
     "text": [
      "Host IP: 192.168.1.1\n"
     ]
    }
   ],
   "source": [
    "def get_host(ip_str):\n",
    "    net = ipaddress.ip_network(ip_str + '/24', strict=False)  # Giả định subnet /24\n",
    "    return str(net.network_address + 1)\n",
    "\n",
    "# Ví dụ\n",
    "host_ip = get_host(ip)\n",
    "print(\"Host IP:\", host_ip)"
   ]
  },
  {
   "cell_type": "code",
   "execution_count": 4,
   "metadata": {},
   "outputs": [
    {
     "name": "stdout",
     "output_type": "stream",
     "text": [
      "Broadcast IP: 192.168.1.255\n"
     ]
    }
   ],
   "source": [
    "def get_broadcast(ip_str):\n",
    "    net = ipaddress.ip_network(ip_str + '/24', strict=False)  # Giả định subnet /24\n",
    "    return str(net.broadcast_address)\n",
    "\n",
    "# Ví dụ\n",
    "broadcast_ip = get_broadcast(ip)\n",
    "print(\"Broadcast IP:\", broadcast_ip)"
   ]
  },
  {
   "cell_type": "code",
   "execution_count": 1,
   "metadata": {},
   "outputs": [
    {
     "name": "stdout",
     "output_type": "stream",
     "text": [
      "Địa chỉ IP 192.168.1.255 thuộc Địa chỉ IP riêng (Private IP)\n"
     ]
    }
   ],
   "source": [
    "import ipaddress\n",
    "\n",
    "def classify_ip(ip_str):\n",
    "    ip = ipaddress.ip_address(ip_str)\n",
    "    \n",
    "    if ip.is_private:\n",
    "        return \"Địa chỉ IP riêng (Private IP)\"\n",
    "    \n",
    "    if ip in ipaddress.ip_network(\"0.0.0.0/8\"):\n",
    "        return \"Lớp A\"\n",
    "    elif ip in ipaddress.ip_network(\"128.0.0.0/16\"):\n",
    "        return \"Lớp B\"\n",
    "    elif ip in ipaddress.ip_network(\"192.0.0.0/24\"):\n",
    "        return \"Lớp C\"\n",
    "    elif ip in ipaddress.ip_network(\"224.0.0.0/4\"):\n",
    "        return \"Lớp D\"\n",
    "    else:\n",
    "        return \"Địa chỉ IP không thuộc lớp A, B, C hoặc D\"\n",
    "\n",
    "# Ví dụ sử dụng\n",
    "ip = \"192.168.1.255\"\n",
    "classification = classify_ip(ip)\n",
    "print(f\"Địa chỉ IP {ip} thuộc {classification}\")"
   ]
  }
 ],
 "metadata": {
  "kernelspec": {
   "display_name": "Python 3",
   "language": "python",
   "name": "python3"
  },
  "language_info": {
   "codemirror_mode": {
    "name": "ipython",
    "version": 3
   },
   "file_extension": ".py",
   "mimetype": "text/x-python",
   "name": "python",
   "nbconvert_exporter": "python",
   "pygments_lexer": "ipython3",
   "version": "3.12.3"
  }
 },
 "nbformat": 4,
 "nbformat_minor": 2
}
