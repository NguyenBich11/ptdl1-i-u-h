{
 "cells": [
  {
   "cell_type": "code",
   "execution_count": 1,
   "metadata": {},
   "outputs": [
    {
     "ename": "ValueError",
     "evalue": "could not convert string to float: \"1'\"",
     "output_type": "error",
     "traceback": [
      "\u001b[1;31m---------------------------------------------------------------------------\u001b[0m",
      "\u001b[1;31mValueError\u001b[0m                                Traceback (most recent call last)",
      "Cell \u001b[1;32mIn[1], line 1\u001b[0m\n\u001b[1;32m----> 1\u001b[0m a \u001b[38;5;241m=\u001b[39m \u001b[38;5;28;43mfloat\u001b[39;49m\u001b[43m(\u001b[49m\u001b[38;5;28;43minput\u001b[39;49m\u001b[43m(\u001b[49m\u001b[38;5;124;43m'\u001b[39;49m\u001b[38;5;124;43mInput a : \u001b[39;49m\u001b[38;5;124;43m'\u001b[39;49m\u001b[43m)\u001b[49m\u001b[43m)\u001b[49m\n\u001b[0;32m      2\u001b[0m b \u001b[38;5;241m=\u001b[39m \u001b[38;5;28mfloat\u001b[39m(\u001b[38;5;28minput\u001b[39m(\u001b[38;5;124m'\u001b[39m\u001b[38;5;124mInput b : \u001b[39m\u001b[38;5;124m'\u001b[39m))\n\u001b[0;32m      3\u001b[0m \u001b[38;5;28;01mif\u001b[39;00m a \u001b[38;5;241m>\u001b[39m \u001b[38;5;241m0\u001b[39m \u001b[38;5;129;01mor\u001b[39;00m a \u001b[38;5;241m<\u001b[39m \u001b[38;5;241m0\u001b[39m:\n",
      "\u001b[1;31mValueError\u001b[0m: could not convert string to float: \"1'\""
     ]
    }
   ],
   "source": [
    "a = float(input('Input a : '))\n",
    "b = float(input('Input b : '))\n",
    "if a > 0 or a < 0:\n",
    "    x = -b/a\n",
    "    print('PT co nghiem la : ', x)\n",
    "else:\n",
    "    if b == 0:\n",
    "        print('PT co vo so nghiem')\n",
    "    else:\n",
    "        print('PT vo nghiem')"
   ]
  },
  {
   "cell_type": "code",
   "execution_count": null,
   "metadata": {},
   "outputs": [
    {
     "name": "stdout",
     "output_type": "stream",
     "text": [
      "Tong la :  6\n"
     ]
    }
   ],
   "source": [
    "n = int(input('Nhap so n : '))\n",
    "i = 0\n",
    "s = 0\n",
    "while i <= n:\n",
    "    s = s+i\n",
    "    i = i+1\n",
    "print('Tong la : ',s)"
   ]
  },
  {
   "cell_type": "code",
   "execution_count": null,
   "metadata": {},
   "outputs": [
    {
     "name": "stdout",
     "output_type": "stream",
     "text": [
      "Tong la :  6\n"
     ]
    }
   ],
   "source": [
    "n = int(input('Nhap so n: '))\n",
    "s = 0\n",
    "for i in range(n+1):\n",
    "    s =s+i\n",
    "print('Tong la : ', s)"
   ]
  },
  {
   "cell_type": "code",
   "execution_count": null,
   "metadata": {},
   "outputs": [
    {
     "name": "stdout",
     "output_type": "stream",
     "text": [
      "Tong tien la :  6000\n"
     ]
    }
   ],
   "source": [
    "kwh = int(input('Nhap so kwh : '))\n",
    "if kwh <= 100:\n",
    "    tongtien = kwh*2000\n",
    "    print('Tong tien la : ', tongtien)\n",
    "else:\n",
    "    n = kwh - 100\n",
    "    print('n = ', n)\n",
    "    if n == 1:\n",
    "        tongtien = 100*2000 + (2000+100)\n",
    "        print('Tong tien la : ', tongtien)\n",
    "    else:\n",
    "        x = 2000+100*n\n",
    "        y = n-1        \n",
    "        tongtien = 100*2000 + (2000+100) + x\n",
    "        print('Tong tien la : ', tongtien)"
   ]
  },
  {
   "cell_type": "code",
   "execution_count": null,
   "metadata": {},
   "outputs": [],
   "source": [
    "def isPrime(n):\n",
    "    if(n<0):\n",
    "        return False\n",
    "    elif(n==0):\n",
    "        return False\n",
    "    elif(n==1):\n",
    "        return False\n",
    "    elif(n==2):\n",
    "        return True\n",
    "    else:\n",
    "        for i in range(2,n):\n",
    "            if(n%i==0):\n",
    "                return False\n",
    "        return True"
   ]
  },
  {
   "cell_type": "code",
   "execution_count": null,
   "metadata": {},
   "outputs": [
    {
     "name": "stdout",
     "output_type": "stream",
     "text": [
      "x khong la so nguyen to\n"
     ]
    }
   ],
   "source": [
    "x = int(input('Nhap so tu nhien : '))\n",
    "\n",
    "if(isPrime(x) == True):\n",
    "    print('x la so nguyen to')\n",
    "else:\n",
    "    print('x khong la so nguyen to')  "
   ]
  },
  {
   "cell_type": "code",
   "execution_count": null,
   "metadata": {},
   "outputs": [
    {
     "name": "stdout",
     "output_type": "stream",
     "text": [
      "Hello World\n"
     ]
    }
   ],
   "source": [
    "fr = open('in.txt')\n",
    "flines = fr.readlines()\n",
    "for line in flines:\n",
    "    print(line)\n",
    "fr.close()"
   ]
  },
  {
   "cell_type": "code",
   "execution_count": null,
   "metadata": {},
   "outputs": [],
   "source": [
    "n = int(input('Nhap so n : '))\n",
    "fw = open('out.txt','w')\n",
    "for i in range(n):\n",
    "    if(i%2 ==0):\n",
    "        fw.write(str(i)+'\\r\\n')     \n",
    "fw.close()"
   ]
  },
  {
   "cell_type": "code",
   "execution_count": null,
   "metadata": {},
   "outputs": [],
   "source": []
  }
 ],
 "metadata": {
  "kernelspec": {
   "display_name": "Python 3",
   "language": "python",
   "name": "python3"
  },
  "language_info": {
   "codemirror_mode": {
    "name": "ipython",
    "version": 3
   },
   "file_extension": ".py",
   "mimetype": "text/x-python",
   "name": "python",
   "nbconvert_exporter": "python",
   "pygments_lexer": "ipython3",
   "version": "3.12.3"
  }
 },
 "nbformat": 4,
 "nbformat_minor": 2
}
