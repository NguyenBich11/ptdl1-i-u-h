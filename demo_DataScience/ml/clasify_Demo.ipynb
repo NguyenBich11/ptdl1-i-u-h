{
 "cells": [
  {
   "cell_type": "code",
   "execution_count": 1,
   "id": "initial_id",
   "metadata": {
    "collapsed": true,
    "ExecuteTime": {
     "end_time": "2024-03-22T14:39:23.386498Z",
     "start_time": "2024-03-22T14:39:18.760373Z"
    }
   },
   "outputs": [],
   "source": [
    "import pandas as pd\n",
    "from sklearn.model_selection import train_test_split\n",
    "from sklearn.tree import DecisionTreeClassifier\n",
    "from sklearn.metrics import accuracy_score, classification_report\n",
    "import matplotlib.pyplot as plt"
   ]
  },
  {
   "cell_type": "code",
   "outputs": [
    {
     "data": {
      "text/plain": "       MSSV   T1   T2   T3   T4   T5   T6 GT  DT   KV  NGONNGU  \\\n0     SV001  7.2  8.4  7.4  7.2  7.4  6.9  F NaN  2NT     3.25   \n1     SV002  5.4  6.3  4.3  4.9  3.0  4.0  M NaN    1     6.00   \n2     SV003  5.6  5.0  2.8  6.1  4.8  5.7  M NaN    1     5.00   \n3     SV004  6.6  5.1  5.9  4.1  6.1  7.4  M NaN    1     4.25   \n4     SV005  6.0  5.4  7.6  4.4  6.8  8.0  M NaN  2NT     4.25   \n..      ...  ...  ...  ...  ...  ...  ... ..  ..  ...      ...   \n95   SV0096  8.6  8.9  7.7  6.7  7.9  6.6  F NaN    1     5.25   \n96   SV0097  3.7  4.1  3.1  3.4  5.5  5.7  F NaN    1     5.25   \n97   SV0098  8.8  9.5  9.5  8.5  9.0  8.5  M NaN  2NT     7.00   \n98   SV0099  2.7  2.8  6.2  5.2  4.1  4.3  M NaN    1     5.00   \n99  SV00100  4.1  4.4  6.0  4.3  5.6  5.1  M NaN  2NT     5.25   \n\n    TOANLOGICPHANTICH  GIAIQUYETVANDE  KT    NGAYTHI DINHHUONGNGHENGHIEP  \n0                3.25            4.50  A1  12/7/2018                  No  \n1                4.00            3.50   C  12/7/2018                 Yes  \n2                6.75            4.00   C  12/7/2018                  No  \n3                4.25            5.25  D1  12/7/2018                  No  \n4                4.50            5.00   A  12/7/2018                  No  \n..                ...             ...  ..        ...                 ...  \n95               1.50            6.25   C  7/20/2022                 Yes  \n96               3.75            4.75   C  7/20/2022                  No  \n97               8.00            4.00   C  7/20/2022                 Yes  \n98               3.50            5.50   C  7/20/2022                  No  \n99               2.50            4.25   C  7/20/2022                 Yes  \n\n[100 rows x 16 columns]",
      "text/html": "<div>\n<style scoped>\n    .dataframe tbody tr th:only-of-type {\n        vertical-align: middle;\n    }\n\n    .dataframe tbody tr th {\n        vertical-align: top;\n    }\n\n    .dataframe thead th {\n        text-align: right;\n    }\n</style>\n<table border=\"1\" class=\"dataframe\">\n  <thead>\n    <tr style=\"text-align: right;\">\n      <th></th>\n      <th>MSSV</th>\n      <th>T1</th>\n      <th>T2</th>\n      <th>T3</th>\n      <th>T4</th>\n      <th>T5</th>\n      <th>T6</th>\n      <th>GT</th>\n      <th>DT</th>\n      <th>KV</th>\n      <th>NGONNGU</th>\n      <th>TOANLOGICPHANTICH</th>\n      <th>GIAIQUYETVANDE</th>\n      <th>KT</th>\n      <th>NGAYTHI</th>\n      <th>DINHHUONGNGHENGHIEP</th>\n    </tr>\n  </thead>\n  <tbody>\n    <tr>\n      <th>0</th>\n      <td>SV001</td>\n      <td>7.2</td>\n      <td>8.4</td>\n      <td>7.4</td>\n      <td>7.2</td>\n      <td>7.4</td>\n      <td>6.9</td>\n      <td>F</td>\n      <td>NaN</td>\n      <td>2NT</td>\n      <td>3.25</td>\n      <td>3.25</td>\n      <td>4.50</td>\n      <td>A1</td>\n      <td>12/7/2018</td>\n      <td>No</td>\n    </tr>\n    <tr>\n      <th>1</th>\n      <td>SV002</td>\n      <td>5.4</td>\n      <td>6.3</td>\n      <td>4.3</td>\n      <td>4.9</td>\n      <td>3.0</td>\n      <td>4.0</td>\n      <td>M</td>\n      <td>NaN</td>\n      <td>1</td>\n      <td>6.00</td>\n      <td>4.00</td>\n      <td>3.50</td>\n      <td>C</td>\n      <td>12/7/2018</td>\n      <td>Yes</td>\n    </tr>\n    <tr>\n      <th>2</th>\n      <td>SV003</td>\n      <td>5.6</td>\n      <td>5.0</td>\n      <td>2.8</td>\n      <td>6.1</td>\n      <td>4.8</td>\n      <td>5.7</td>\n      <td>M</td>\n      <td>NaN</td>\n      <td>1</td>\n      <td>5.00</td>\n      <td>6.75</td>\n      <td>4.00</td>\n      <td>C</td>\n      <td>12/7/2018</td>\n      <td>No</td>\n    </tr>\n    <tr>\n      <th>3</th>\n      <td>SV004</td>\n      <td>6.6</td>\n      <td>5.1</td>\n      <td>5.9</td>\n      <td>4.1</td>\n      <td>6.1</td>\n      <td>7.4</td>\n      <td>M</td>\n      <td>NaN</td>\n      <td>1</td>\n      <td>4.25</td>\n      <td>4.25</td>\n      <td>5.25</td>\n      <td>D1</td>\n      <td>12/7/2018</td>\n      <td>No</td>\n    </tr>\n    <tr>\n      <th>4</th>\n      <td>SV005</td>\n      <td>6.0</td>\n      <td>5.4</td>\n      <td>7.6</td>\n      <td>4.4</td>\n      <td>6.8</td>\n      <td>8.0</td>\n      <td>M</td>\n      <td>NaN</td>\n      <td>2NT</td>\n      <td>4.25</td>\n      <td>4.50</td>\n      <td>5.00</td>\n      <td>A</td>\n      <td>12/7/2018</td>\n      <td>No</td>\n    </tr>\n    <tr>\n      <th>...</th>\n      <td>...</td>\n      <td>...</td>\n      <td>...</td>\n      <td>...</td>\n      <td>...</td>\n      <td>...</td>\n      <td>...</td>\n      <td>...</td>\n      <td>...</td>\n      <td>...</td>\n      <td>...</td>\n      <td>...</td>\n      <td>...</td>\n      <td>...</td>\n      <td>...</td>\n      <td>...</td>\n    </tr>\n    <tr>\n      <th>95</th>\n      <td>SV0096</td>\n      <td>8.6</td>\n      <td>8.9</td>\n      <td>7.7</td>\n      <td>6.7</td>\n      <td>7.9</td>\n      <td>6.6</td>\n      <td>F</td>\n      <td>NaN</td>\n      <td>1</td>\n      <td>5.25</td>\n      <td>1.50</td>\n      <td>6.25</td>\n      <td>C</td>\n      <td>7/20/2022</td>\n      <td>Yes</td>\n    </tr>\n    <tr>\n      <th>96</th>\n      <td>SV0097</td>\n      <td>3.7</td>\n      <td>4.1</td>\n      <td>3.1</td>\n      <td>3.4</td>\n      <td>5.5</td>\n      <td>5.7</td>\n      <td>F</td>\n      <td>NaN</td>\n      <td>1</td>\n      <td>5.25</td>\n      <td>3.75</td>\n      <td>4.75</td>\n      <td>C</td>\n      <td>7/20/2022</td>\n      <td>No</td>\n    </tr>\n    <tr>\n      <th>97</th>\n      <td>SV0098</td>\n      <td>8.8</td>\n      <td>9.5</td>\n      <td>9.5</td>\n      <td>8.5</td>\n      <td>9.0</td>\n      <td>8.5</td>\n      <td>M</td>\n      <td>NaN</td>\n      <td>2NT</td>\n      <td>7.00</td>\n      <td>8.00</td>\n      <td>4.00</td>\n      <td>C</td>\n      <td>7/20/2022</td>\n      <td>Yes</td>\n    </tr>\n    <tr>\n      <th>98</th>\n      <td>SV0099</td>\n      <td>2.7</td>\n      <td>2.8</td>\n      <td>6.2</td>\n      <td>5.2</td>\n      <td>4.1</td>\n      <td>4.3</td>\n      <td>M</td>\n      <td>NaN</td>\n      <td>1</td>\n      <td>5.00</td>\n      <td>3.50</td>\n      <td>5.50</td>\n      <td>C</td>\n      <td>7/20/2022</td>\n      <td>No</td>\n    </tr>\n    <tr>\n      <th>99</th>\n      <td>SV00100</td>\n      <td>4.1</td>\n      <td>4.4</td>\n      <td>6.0</td>\n      <td>4.3</td>\n      <td>5.6</td>\n      <td>5.1</td>\n      <td>M</td>\n      <td>NaN</td>\n      <td>2NT</td>\n      <td>5.25</td>\n      <td>2.50</td>\n      <td>4.25</td>\n      <td>C</td>\n      <td>7/20/2022</td>\n      <td>Yes</td>\n    </tr>\n  </tbody>\n</table>\n<p>100 rows × 16 columns</p>\n</div>"
     },
     "execution_count": 2,
     "metadata": {},
     "output_type": "execute_result"
    }
   ],
   "source": [
    "df=pd.read_csv('dulieuxettuyendaihoc.csv',encoding='utf-8')\n",
    "df"
   ],
   "metadata": {
    "collapsed": false,
    "ExecuteTime": {
     "end_time": "2024-03-22T14:39:23.432519Z",
     "start_time": "2024-03-22T14:39:23.388524Z"
    }
   },
   "id": "c463640aa2f2145f",
   "execution_count": 2
  },
  {
   "cell_type": "code",
   "outputs": [
    {
     "data": {
      "text/plain": "     T2   T3  KT\n0   8.4  7.4  A1\n1   6.3  4.3   C\n2   5.0  2.8   C\n3   5.1  5.9  D1\n4   5.4  7.6   A\n..  ...  ...  ..\n95  8.9  7.7   C\n96  4.1  3.1   C\n97  9.5  9.5   C\n98  2.8  6.2   C\n99  4.4  6.0   C\n\n[100 rows x 3 columns]",
      "text/html": "<div>\n<style scoped>\n    .dataframe tbody tr th:only-of-type {\n        vertical-align: middle;\n    }\n\n    .dataframe tbody tr th {\n        vertical-align: top;\n    }\n\n    .dataframe thead th {\n        text-align: right;\n    }\n</style>\n<table border=\"1\" class=\"dataframe\">\n  <thead>\n    <tr style=\"text-align: right;\">\n      <th></th>\n      <th>T2</th>\n      <th>T3</th>\n      <th>KT</th>\n    </tr>\n  </thead>\n  <tbody>\n    <tr>\n      <th>0</th>\n      <td>8.4</td>\n      <td>7.4</td>\n      <td>A1</td>\n    </tr>\n    <tr>\n      <th>1</th>\n      <td>6.3</td>\n      <td>4.3</td>\n      <td>C</td>\n    </tr>\n    <tr>\n      <th>2</th>\n      <td>5.0</td>\n      <td>2.8</td>\n      <td>C</td>\n    </tr>\n    <tr>\n      <th>3</th>\n      <td>5.1</td>\n      <td>5.9</td>\n      <td>D1</td>\n    </tr>\n    <tr>\n      <th>4</th>\n      <td>5.4</td>\n      <td>7.6</td>\n      <td>A</td>\n    </tr>\n    <tr>\n      <th>...</th>\n      <td>...</td>\n      <td>...</td>\n      <td>...</td>\n    </tr>\n    <tr>\n      <th>95</th>\n      <td>8.9</td>\n      <td>7.7</td>\n      <td>C</td>\n    </tr>\n    <tr>\n      <th>96</th>\n      <td>4.1</td>\n      <td>3.1</td>\n      <td>C</td>\n    </tr>\n    <tr>\n      <th>97</th>\n      <td>9.5</td>\n      <td>9.5</td>\n      <td>C</td>\n    </tr>\n    <tr>\n      <th>98</th>\n      <td>2.8</td>\n      <td>6.2</td>\n      <td>C</td>\n    </tr>\n    <tr>\n      <th>99</th>\n      <td>4.4</td>\n      <td>6.0</td>\n      <td>C</td>\n    </tr>\n  </tbody>\n</table>\n<p>100 rows × 3 columns</p>\n</div>"
     },
     "execution_count": 3,
     "metadata": {},
     "output_type": "execute_result"
    }
   ],
   "source": [
    "# Lấy tên của 2 cột số bất kỳ từ DataFrame gốc\n",
    "cut_columns = ['T2', 'T3','KT']  # Ví dụ, T2, T3\n",
    "# Cắt hai cột này từ DataFrame gốc và lưu vào DataFrame mới\n",
    "df2 = df[cut_columns].copy()\n",
    "df2"
   ],
   "metadata": {
    "collapsed": false,
    "ExecuteTime": {
     "end_time": "2024-03-22T14:39:23.463419Z",
     "start_time": "2024-03-22T14:39:23.434358Z"
    }
   },
   "id": "e43732cd8c785934",
   "execution_count": 3
  },
  {
   "cell_type": "code",
   "outputs": [],
   "source": [
    "# Phân chia dữ liệu thành features (X) và target (y)\n",
    "X = df2.drop(columns=['KT'])  # features\n",
    "y = df2['KT']  # target\n"
   ],
   "metadata": {
    "collapsed": false,
    "ExecuteTime": {
     "end_time": "2024-03-22T14:39:23.479105Z",
     "start_time": "2024-03-22T14:39:23.464921Z"
    }
   },
   "id": "6672c651b3dac1b3",
   "execution_count": 4
  },
  {
   "cell_type": "code",
   "outputs": [],
   "source": [
    "# Chia dữ liệu thành tập huấn luyện và tập kiểm tra\n",
    "X_train, X_test, y_train, y_test = train_test_split(X, y, test_size=0.2, random_state=42)\n",
    "\n",
    "# Khởi tạo mô hình phân loại Decision Tree\n",
    "clf = DecisionTreeClassifier()\n",
    "\n",
    "# Huấn luyện mô hình trên tập huấn luyện\n",
    "clf.fit(X_train, y_train)\n",
    "\n",
    "# Dự đoán nhãn cho tập kiểm tra\n",
    "y_pred = clf.predict(X_test)"
   ],
   "metadata": {
    "collapsed": false,
    "ExecuteTime": {
     "end_time": "2024-03-22T14:39:23.510505Z",
     "start_time": "2024-03-22T14:39:23.483105Z"
    }
   },
   "id": "3a5b2e896a2bd028",
   "execution_count": 5
  },
  {
   "cell_type": "code",
   "outputs": [
    {
     "name": "stdout",
     "output_type": "stream",
     "text": [
      "Accuracy: 0.4\n",
      "Classification Report:\n",
      "              precision    recall  f1-score   support\n",
      "\n",
      "           A       0.55      0.50      0.52        12\n",
      "          A1       0.00      0.00      0.00         2\n",
      "           B       0.00      0.00      0.00         2\n",
      "           C       0.00      0.00      0.00         1\n",
      "          D1       0.33      0.67      0.44         3\n",
      "\n",
      "    accuracy                           0.40        20\n",
      "   macro avg       0.18      0.23      0.19        20\n",
      "weighted avg       0.38      0.40      0.38        20\n"
     ]
    },
    {
     "name": "stderr",
     "output_type": "stream",
     "text": [
      "C:\\Users\\LENOVO\\.conda\\envs\\loadCSV\\lib\\site-packages\\sklearn\\metrics\\_classification.py:1471: UndefinedMetricWarning: Precision and F-score are ill-defined and being set to 0.0 in labels with no predicted samples. Use `zero_division` parameter to control this behavior.\n",
      "  _warn_prf(average, modifier, msg_start, len(result))\n",
      "C:\\Users\\LENOVO\\.conda\\envs\\loadCSV\\lib\\site-packages\\sklearn\\metrics\\_classification.py:1471: UndefinedMetricWarning: Precision and F-score are ill-defined and being set to 0.0 in labels with no predicted samples. Use `zero_division` parameter to control this behavior.\n",
      "  _warn_prf(average, modifier, msg_start, len(result))\n",
      "C:\\Users\\LENOVO\\.conda\\envs\\loadCSV\\lib\\site-packages\\sklearn\\metrics\\_classification.py:1471: UndefinedMetricWarning: Precision and F-score are ill-defined and being set to 0.0 in labels with no predicted samples. Use `zero_division` parameter to control this behavior.\n",
      "  _warn_prf(average, modifier, msg_start, len(result))\n"
     ]
    }
   ],
   "source": [
    "# Đánh giá độ chính xác của mô hình\n",
    "accuracy = accuracy_score(y_test, y_pred)\n",
    "print(\"Accuracy:\", accuracy)\n",
    "\n",
    "# In ra báo cáo phân loại\n",
    "print(\"Classification Report:\")\n",
    "print(classification_report(y_test, y_pred))"
   ],
   "metadata": {
    "collapsed": false,
    "ExecuteTime": {
     "end_time": "2024-03-22T14:39:23.542064Z",
     "start_time": "2024-03-22T14:39:23.514015Z"
    }
   },
   "id": "3e128a32730c97a5",
   "execution_count": 6
  },
  {
   "cell_type": "code",
   "outputs": [],
   "source": [],
   "metadata": {
    "collapsed": false,
    "ExecuteTime": {
     "end_time": "2024-03-22T14:39:23.557106Z",
     "start_time": "2024-03-22T14:39:23.544064Z"
    }
   },
   "id": "329803b05e0cc81a",
   "execution_count": 6
  }
 ],
 "metadata": {
  "kernelspec": {
   "display_name": "Python 3",
   "language": "python",
   "name": "python3"
  },
  "language_info": {
   "codemirror_mode": {
    "name": "ipython",
    "version": 2
   },
   "file_extension": ".py",
   "mimetype": "text/x-python",
   "name": "python",
   "nbconvert_exporter": "python",
   "pygments_lexer": "ipython2",
   "version": "2.7.6"
  }
 },
 "nbformat": 4,
 "nbformat_minor": 5
}
