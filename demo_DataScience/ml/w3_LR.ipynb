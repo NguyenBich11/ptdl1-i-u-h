{
 "cells": [
  {
   "cell_type": "code",
   "execution_count": 1,
   "id": "initial_id",
   "metadata": {
    "ExecuteTime": {
     "end_time": "2024-03-24T07:46:35.181184Z",
     "start_time": "2024-03-24T07:46:33.942602Z"
    },
    "collapsed": true
   },
   "outputs": [],
   "source": [
    "import pandas as pd\n",
    "import numpy as np\n",
    "import matplotlib.pyplot as plt\n",
    "import matplotlib.axes as ax\n",
    "from matplotlib.animation import FuncAnimation"
   ]
  },
  {
   "cell_type": "code",
   "execution_count": 2,
   "id": "e8245a4ba24086c0",
   "metadata": {
    "ExecuteTime": {
     "end_time": "2024-03-24T07:46:44.944099Z",
     "start_time": "2024-03-24T07:46:44.052233Z"
    },
    "collapsed": false
   },
   "outputs": [],
   "source": [
    "url = 'https://media.geeksforgeeks.org/wp-content/uploads/20240320114716/data_for_lr.csv'\n",
    "data = pd.read_csv(url)\n",
    "data\n",
    "\n",
    "# Drop the missing values\n",
    "data = data.dropna()\n",
    "\n",
    "# training dataset and labels\n",
    "train_input = np.array(data.x[0:500]).reshape(500, 1)\n",
    "train_output = np.array(data.y[0:500]).reshape(500, 1)\n",
    "\n",
    "# valid dataset and labels\n",
    "test_input = np.array(data.x[500:700]).reshape(199, 1)\n",
    "test_output = np.array(data.y[500:700]).reshape(199, 1)"
   ]
  },
  {
   "cell_type": "code",
   "execution_count": 3,
   "id": "9887a023253aedef",
   "metadata": {
    "ExecuteTime": {
     "end_time": "2024-03-24T07:46:58.524212Z",
     "start_time": "2024-03-24T07:46:58.488117Z"
    },
    "collapsed": false
   },
   "outputs": [],
   "source": [
    "class LinearRegression:\n",
    "    def __init__(self):\n",
    "        self.parameters = {}\n",
    "\n",
    "    def forward_propagation(self, train_input):\n",
    "        m = self.parameters['m']\n",
    "        c = self.parameters['c']\n",
    "        predictions = np.multiply(m, train_input) + c\n",
    "        return predictions\n",
    "\n",
    "    def cost_function(self, predictions, train_output):\n",
    "        cost = np.mean((train_output - predictions) ** 2)\n",
    "        return cost\n",
    "\n",
    "    def backward_propagation(self, train_input, train_output, predictions):\n",
    "        derivatives = {}\n",
    "        df = (predictions-train_output)\n",
    "        # dm= 2/n * mean of (predictions-actual) * input \n",
    "        dm = 2 * np.mean(np.multiply(train_input, df))\n",
    "        # dc = 2/n * mean of (predictions-actual) \n",
    "        dc = 2 * np.mean(df)\n",
    "        derivatives['dm'] = dm\n",
    "        derivatives['dc'] = dc\n",
    "        return derivatives\n",
    "\n",
    "    def update_parameters(self, derivatives, learning_rate):\n",
    "        self.parameters['m'] = self.parameters['m'] - learning_rate * derivatives['dm']\n",
    "        self.parameters['c'] = self.parameters['c'] - learning_rate * derivatives['dc']\n",
    "\n",
    "    def train(self, train_input, train_output, learning_rate, iters):\n",
    "        # Initialize random parameters \n",
    "        self.parameters['m'] = np.random.uniform(0, 1) * -1\n",
    "        self.parameters['c'] = np.random.uniform(0, 1) * -1\n",
    "\n",
    "        # Initialize loss \n",
    "        self.loss = []\n",
    "\n",
    "        # Initialize figure and axis for animation \n",
    "        fig, ax = plt.subplots()\n",
    "        x_vals = np.linspace(min(train_input), max(train_input), 100)\n",
    "        line, = ax.plot(x_vals, self.parameters['m'] * x_vals +\n",
    "                        self.parameters['c'], color='red', label='Regression Line')\n",
    "        ax.scatter(train_input, train_output, marker='o',\n",
    "                   color='green', label='Training Data')\n",
    "\n",
    "        # Set y-axis limits to exclude negative values \n",
    "        ax.set_ylim(0, max(train_output) + 1)\n",
    "\n",
    "        def update(frame):\n",
    "            # Forward propagation \n",
    "            predictions = self.forward_propagation(train_input)\n",
    "\n",
    "            # Cost function \n",
    "            cost = self.cost_function(predictions, train_output)\n",
    "\n",
    "            # Back propagation \n",
    "            derivatives = self.backward_propagation(\n",
    "                train_input, train_output, predictions)\n",
    "\n",
    "            # Update parameters \n",
    "            self.update_parameters(derivatives, learning_rate)\n",
    "\n",
    "            # Update the regression line \n",
    "            line.set_ydata(self.parameters['m']\n",
    "                           * x_vals + self.parameters['c'])\n",
    "\n",
    "            # Append loss and print \n",
    "            self.loss.append(cost)\n",
    "            print(\"Iteration = {}, Loss = {}\".format(frame + 1, cost))\n",
    "\n",
    "            return line,\n",
    "            # Create animation \n",
    "        ani = FuncAnimation(fig, update, frames=iters, interval=200, blit=True)\n",
    "\n",
    "        # Save the animation as a video file (e.g., MP4) \n",
    "        ani.save('linear_regression_A.gif', writer='ffmpeg')\n",
    "\n",
    "        plt.xlabel('Input')\n",
    "        plt.ylabel('Output')\n",
    "        plt.title('Linear Regression')\n",
    "        plt.legend()\n",
    "        plt.show()\n",
    "\n",
    "        return self.parameters, self.loss \n"
   ]
  },
  {
   "cell_type": "code",
   "execution_count": 4,
   "id": "df9c7cb6cfb6e864",
   "metadata": {
    "ExecuteTime": {
     "end_time": "2024-03-24T07:47:09.975903Z",
     "start_time": "2024-03-24T07:47:06.936208Z"
    },
    "collapsed": false
   },
   "outputs": [
    {
     "name": "stderr",
     "output_type": "stream",
     "text": [
      "MovieWriter ffmpeg unavailable; using Pillow instead.\n"
     ]
    },
    {
     "name": "stdout",
     "output_type": "stream",
     "text": [
      "Iteration = 1, Loss = 11853.312554528526\n",
      "Iteration = 1, Loss = 1435.3411076789564\n",
      "Iteration = 1, Loss = 179.86217207100282\n",
      "Iteration = 1, Loss = 28.56329639645584\n",
      "Iteration = 2, Loss = 10.330134364726193\n",
      "Iteration = 3, Loss = 8.132838936524815\n",
      "Iteration = 4, Loss = 7.868039947097566\n",
      "Iteration = 5, Loss = 7.836127809350818\n",
      "Iteration = 6, Loss = 7.83228107175947\n",
      "Iteration = 7, Loss = 7.831816520411671\n",
      "Iteration = 8, Loss = 7.831759559411905\n",
      "Iteration = 9, Loss = 7.831751717583225\n",
      "Iteration = 10, Loss = 7.831749795247678\n",
      "Iteration = 11, Loss = 7.831748586373931\n",
      "Iteration = 12, Loss = 7.831747463578546\n",
      "Iteration = 13, Loss = 7.831746351254983\n",
      "Iteration = 14, Loss = 7.8317452402918155\n",
      "Iteration = 15, Loss = 7.8317441295910095\n",
      "Iteration = 16, Loss = 7.831743019020232\n",
      "Iteration = 17, Loss = 7.831741908563524\n",
      "Iteration = 18, Loss = 7.831740798218953\n",
      "Iteration = 19, Loss = 7.831739687986276\n",
      "Iteration = 20, Loss = 7.831738577865452\n"
     ]
    },
    {
     "data": {
      "image/png": "[encoded data removed]",
      "text/plain": [
       "<Figure size 640x480 with 1 Axes>"
      ]
     },
     "metadata": {},
     "output_type": "display_data"
    }
   ],
   "source": [
    "#Example usage\n",
    "linear_reg = LinearRegression()\n",
    "parameters, loss = linear_reg.train(train_input, train_output, 0.0001, 20)"
   ]
  },
  {
   "cell_type": "code",
   "execution_count": 5,
   "id": "289607c0101428ac",
   "metadata": {
    "ExecuteTime": {
     "end_time": "2024-03-24T07:58:13.475158Z",
     "start_time": "2024-03-24T07:58:13.442158Z"
    },
    "collapsed": false
   },
   "outputs": [
    {
     "data": {
      "text/html": [
       "<div>\n",
       "<style scoped>\n",
       "    .dataframe tbody tr th:only-of-type {\n",
       "        vertical-align: middle;\n",
       "    }\n",
       "\n",
       "    .dataframe tbody tr th {\n",
       "        vertical-align: top;\n",
       "    }\n",
       "\n",
       "    .dataframe thead th {\n",
       "        text-align: right;\n",
       "    }\n",
       "</style>\n",
       "<table border=\"1\" class=\"dataframe\">\n",
       "  <thead>\n",
       "    <tr style=\"text-align: right;\">\n",
       "      <th></th>\n",
       "      <th>A</th>\n",
       "      <th>B</th>\n",
       "      <th>NOT_A</th>\n",
       "      <th>NOT_B</th>\n",
       "      <th>AND</th>\n",
       "      <th>OR</th>\n",
       "    </tr>\n",
       "  </thead>\n",
       "  <tbody>\n",
       "    <tr>\n",
       "      <th>0</th>\n",
       "      <td>True</td>\n",
       "      <td>True</td>\n",
       "      <td>False</td>\n",
       "      <td>False</td>\n",
       "      <td>True</td>\n",
       "      <td>True</td>\n",
       "    </tr>\n",
       "    <tr>\n",
       "      <th>1</th>\n",
       "      <td>True</td>\n",
       "      <td>False</td>\n",
       "      <td>False</td>\n",
       "      <td>True</td>\n",
       "      <td>False</td>\n",
       "      <td>True</td>\n",
       "    </tr>\n",
       "    <tr>\n",
       "      <th>2</th>\n",
       "      <td>False</td>\n",
       "      <td>True</td>\n",
       "      <td>True</td>\n",
       "      <td>False</td>\n",
       "      <td>False</td>\n",
       "      <td>True</td>\n",
       "    </tr>\n",
       "    <tr>\n",
       "      <th>3</th>\n",
       "      <td>False</td>\n",
       "      <td>False</td>\n",
       "      <td>True</td>\n",
       "      <td>True</td>\n",
       "      <td>False</td>\n",
       "      <td>False</td>\n",
       "    </tr>\n",
       "  </tbody>\n",
       "</table>\n",
       "</div>"
      ],
      "text/plain": [
       "       A      B  NOT_A  NOT_B    AND     OR\n",
       "0   True   True  False  False   True   True\n",
       "1   True  False  False   True  False   True\n",
       "2  False   True   True  False  False   True\n",
       "3  False  False   True   True  False  False"
      ]
     },
     "execution_count": 5,
     "metadata": {},
     "output_type": "execute_result"
    }
   ],
   "source": [
    "import pandas as pd\n",
    "\n",
    "# Tạo DataFrame với các giá trị True và False\n",
    "df = pd.DataFrame({\n",
    "    'A': [True, True, False, False],\n",
    "    'B': [True, False, True, False]\n",
    "})\n",
    "df['NOT_A'] = ~df['A']         # Phép NOT cho cột A\n",
    "df['NOT_B'] = ~df['B']         # Phép NOT cho cột B\n",
    "# Thực hiện các phép toán chân trị logic\n",
    "df['AND'] = df['A'] & df['B']  # Phép AND\n",
    "df['OR'] = df['A'] | df['B']   # Phép OR\n",
    "\n",
    "\n",
    "# Hiển thị DataFrame\n",
    "df"
   ]
  }
 ],
 "metadata": {
  "kernelspec": {
   "display_name": "Python 3",
   "language": "python",
   "name": "python3"
  },
  "language_info": {
   "codemirror_mode": {
    "name": "ipython",
    "version": 2
   },
   "file_extension": ".py",
   "mimetype": "text/x-python",
   "name": "python",
   "nbconvert_exporter": "python",
   "pygments_lexer": "ipython2",
   "version": "2.7.6"
  }
 },
 "nbformat": 4,
 "nbformat_minor": 5
}
