{
 "cells": [
  {
   "cell_type": "code",
   "execution_count": 18,
   "id": "initial_id",
   "metadata": {
    "collapsed": true,
    "ExecuteTime": {
     "end_time": "2024-04-16T15:21:42.209915Z",
     "start_time": "2024-04-16T15:21:42.198918Z"
    }
   },
   "outputs": [
    {
     "data": {
      "text/plain": "   value  frequency\n0      7          8\n1     57         20\n2     16          1\n3     78         20\n4      2         10\n5     38         16\n6     56          7\n7     72          9\n8     28         12\n9     44          4",
      "text/html": "<div>\n<style scoped>\n    .dataframe tbody tr th:only-of-type {\n        vertical-align: middle;\n    }\n\n    .dataframe tbody tr th {\n        vertical-align: top;\n    }\n\n    .dataframe thead th {\n        text-align: right;\n    }\n</style>\n<table border=\"1\" class=\"dataframe\">\n  <thead>\n    <tr style=\"text-align: right;\">\n      <th></th>\n      <th>value</th>\n      <th>frequency</th>\n    </tr>\n  </thead>\n  <tbody>\n    <tr>\n      <th>0</th>\n      <td>7</td>\n      <td>8</td>\n    </tr>\n    <tr>\n      <th>1</th>\n      <td>57</td>\n      <td>20</td>\n    </tr>\n    <tr>\n      <th>2</th>\n      <td>16</td>\n      <td>1</td>\n    </tr>\n    <tr>\n      <th>3</th>\n      <td>78</td>\n      <td>20</td>\n    </tr>\n    <tr>\n      <th>4</th>\n      <td>2</td>\n      <td>10</td>\n    </tr>\n    <tr>\n      <th>5</th>\n      <td>38</td>\n      <td>16</td>\n    </tr>\n    <tr>\n      <th>6</th>\n      <td>56</td>\n      <td>7</td>\n    </tr>\n    <tr>\n      <th>7</th>\n      <td>72</td>\n      <td>9</td>\n    </tr>\n    <tr>\n      <th>8</th>\n      <td>28</td>\n      <td>12</td>\n    </tr>\n    <tr>\n      <th>9</th>\n      <td>44</td>\n      <td>4</td>\n    </tr>\n  </tbody>\n</table>\n</div>"
     },
     "execution_count": 18,
     "metadata": {},
     "output_type": "execute_result"
    }
   ],
   "source": [
    "import numpy as np\n",
    "import pandas as pd\n",
    "import random\n",
    "\n",
    "# Tạo dữ liệu ngẫu nhiên\n",
    "values = [random.randint(1, 100) for _ in range(10)]\n",
    "frequencies = [random.randint(1, 20) for _ in range(10)]\n",
    "\n",
    "# Tạo Data Frame\n",
    "df = pd.DataFrame({\n",
    "    \"value\": values,\n",
    "    \"frequency\": frequencies\n",
    "})\n",
    "\n",
    "df"
   ]
  },
  {
   "cell_type": "code",
   "outputs": [
    {
     "name": "stdout",
     "output_type": "stream",
     "text": [
      "Size:  107\n"
     ]
    }
   ],
   "source": [
    "print('Size: ',df['frequency'].sum())"
   ],
   "metadata": {
    "collapsed": false,
    "ExecuteTime": {
     "end_time": "2024-04-16T15:21:45.075674Z",
     "start_time": "2024-04-16T15:21:45.067237Z"
    }
   },
   "id": "f29f6c38757c6a57",
   "execution_count": 19
  },
  {
   "cell_type": "code",
   "outputs": [
    {
     "name": "stdout",
     "output_type": "stream",
     "text": [
      "Trung bình là: 46.28\n"
     ]
    }
   ],
   "source": [
    "average = (df['value'] * df['frequency']).sum()/df['frequency'].sum()\n",
    "print(f\"Trung bình là: {average:.2f}\")"
   ],
   "metadata": {
    "collapsed": false,
    "ExecuteTime": {
     "end_time": "2024-04-16T15:21:46.521845Z",
     "start_time": "2024-04-16T15:21:46.507845Z"
    }
   },
   "id": "d1b19a8eab6e269e",
   "execution_count": 20
  },
  {
   "cell_type": "code",
   "outputs": [
    {
     "name": "stdout",
     "output_type": "stream",
     "text": [
      "25.14703718341814\n"
     ]
    }
   ],
   "source": [
    "import numpy as np\n",
    "#Tính s\n",
    "s=np.sqrt((df['frequency']*(df['value']-average)**2).sum()/(df['frequency'].sum()-1))\n",
    "print(s)"
   ],
   "metadata": {
    "collapsed": false,
    "ExecuteTime": {
     "end_time": "2024-04-16T15:21:48.039942Z",
     "start_time": "2024-04-16T15:21:48.022942Z"
    }
   },
   "id": "77cdad455940b37f",
   "execution_count": 21
  },
  {
   "cell_type": "code",
   "outputs": [
    {
     "name": "stdout",
     "output_type": "stream",
     "text": [
      "Với độ tin cậy 90.0%, z-score là: 1.64\n",
      "Với độ tin cậy 95.0%, z-score là: 1.96\n",
      "Với độ tin cậy 99.0%, z-score là: 2.58\n"
     ]
    }
   ],
   "source": [
    "import scipy.stats as stats\n",
    "# Tính z-score cho các mức độ tin cậy\n",
    "confidence_levels = [0.90, 0.95, 0.99]\n",
    "for confidence in confidence_levels:\n",
    "    z_score = stats.norm.ppf(1 - (1 - confidence) / 2)\n",
    "    print(f\"Với độ tin cậy {confidence * 100}%, z-score là: {z_score:.2f}\")"
   ],
   "metadata": {
    "collapsed": false,
    "ExecuteTime": {
     "end_time": "2024-04-16T15:21:49.707297Z",
     "start_time": "2024-04-16T15:21:49.686788Z"
    }
   },
   "id": "761b2638effd0bfe",
   "execution_count": 22
  },
  {
   "cell_type": "code",
   "outputs": [
    {
     "name": "stdout",
     "output_type": "stream",
     "text": [
      "Estimate: ( 45.09786625610912 - 55.41233782552353 )\n"
     ]
    }
   ],
   "source": [
    "left=average-1.64*(s/(np.sqrt(df['frequency'].sum())))\n",
    "right=average+1.64*(s/(np.sqrt(df['frequency'].sum())))\n",
    "print('Estimate: (',left,'-',right,')')"
   ],
   "metadata": {
    "collapsed": false,
    "ExecuteTime": {
     "end_time": "2024-04-16T15:07:11.400036Z",
     "start_time": "2024-04-16T15:07:11.382993Z"
    }
   },
   "id": "59a758e445cad9c1",
   "execution_count": 14
  },
  {
   "cell_type": "code",
   "outputs": [],
   "source": [
    "#với value >50 thì ước lượng nhiêu\n",
    "df2=df[df['value']>50]"
   ],
   "metadata": {
    "collapsed": false,
    "ExecuteTime": {
     "end_time": "2024-04-16T15:21:52.292508Z",
     "start_time": "2024-04-16T15:21:52.280509Z"
    }
   },
   "id": "841f776e4cf3805a",
   "execution_count": 23
  },
  {
   "cell_type": "code",
   "outputs": [
    {
     "data": {
      "text/plain": "   value  frequency\n1     57         20\n3     78         20\n6     56          7\n7     72          9",
      "text/html": "<div>\n<style scoped>\n    .dataframe tbody tr th:only-of-type {\n        vertical-align: middle;\n    }\n\n    .dataframe tbody tr th {\n        vertical-align: top;\n    }\n\n    .dataframe thead th {\n        text-align: right;\n    }\n</style>\n<table border=\"1\" class=\"dataframe\">\n  <thead>\n    <tr style=\"text-align: right;\">\n      <th></th>\n      <th>value</th>\n      <th>frequency</th>\n    </tr>\n  </thead>\n  <tbody>\n    <tr>\n      <th>1</th>\n      <td>57</td>\n      <td>20</td>\n    </tr>\n    <tr>\n      <th>3</th>\n      <td>78</td>\n      <td>20</td>\n    </tr>\n    <tr>\n      <th>6</th>\n      <td>56</td>\n      <td>7</td>\n    </tr>\n    <tr>\n      <th>7</th>\n      <td>72</td>\n      <td>9</td>\n    </tr>\n  </tbody>\n</table>\n</div>"
     },
     "execution_count": 24,
     "metadata": {},
     "output_type": "execute_result"
    }
   ],
   "source": [
    "df2"
   ],
   "metadata": {
    "collapsed": false,
    "ExecuteTime": {
     "end_time": "2024-04-16T15:21:53.662745Z",
     "start_time": "2024-04-16T15:21:53.647729Z"
    }
   },
   "id": "10a35a49311559c6",
   "execution_count": 24
  },
  {
   "cell_type": "code",
   "outputs": [
    {
     "name": "stdout",
     "output_type": "stream",
     "text": [
      "Estimate with value >50 ( 0.4139070782914927 - 0.632821893671124 )\n"
     ]
    }
   ],
   "source": [
    "p=df2['frequency'].sum()/df['frequency'].sum()\n",
    "q=1-p\n",
    "left2=p-1.64*np.sqrt((p*q)/df2['frequency'].sum())\n",
    "right2=p+1.64*np.sqrt((p*q)/df2['frequency'].sum())\n",
    "print('Estimate with value >50 (',left2,'-',right2,')')"
   ],
   "metadata": {
    "collapsed": false,
    "ExecuteTime": {
     "end_time": "2024-04-16T15:22:00.595719Z",
     "start_time": "2024-04-16T15:22:00.584467Z"
    }
   },
   "id": "a2e376e8004e08ad",
   "execution_count": 25
  },
  {
   "cell_type": "code",
   "outputs": [],
   "source": [],
   "metadata": {
    "collapsed": false
   },
   "id": "1b6f30d0339325d6"
  }
 ],
 "metadata": {
  "kernelspec": {
   "display_name": "Python 3",
   "language": "python",
   "name": "python3"
  },
  "language_info": {
   "codemirror_mode": {
    "name": "ipython",
    "version": 2
   },
   "file_extension": ".py",
   "mimetype": "text/x-python",
   "name": "python",
   "nbconvert_exporter": "python",
   "pygments_lexer": "ipython2",
   "version": "2.7.6"
  }
 },
 "nbformat": 4,
 "nbformat_minor": 5
}
