{
 "cells": [
  {
   "cell_type": "code",
   "execution_count": 25,
   "id": "initial_id",
   "metadata": {
    "ExecuteTime": {
     "end_time": "2024-04-16T04:14:14.851637Z",
     "start_time": "2024-04-16T04:14:14.832422Z"
    },
    "collapsed": true
   },
   "outputs": [],
   "source": [
    "#pip install mysql-connector-python"
   ]
  },
  {
   "cell_type": "code",
   "execution_count": 1,
   "id": "f2611e871fa7a825",
   "metadata": {
    "ExecuteTime": {
     "end_time": "2024-04-16T04:55:27.087150Z",
     "start_time": "2024-04-16T04:55:27.069147Z"
    },
    "collapsed": false
   },
   "outputs": [],
   "source": [
    "import mysql.connector\n",
    "import pandas as pd"
   ]
  },
  {
   "cell_type": "code",
   "execution_count": 2,
   "id": "9c5673ac972f093a",
   "metadata": {
    "ExecuteTime": {
     "end_time": "2024-04-16T04:55:28.422678Z",
     "start_time": "2024-04-16T04:55:28.308025Z"
    },
    "collapsed": false
   },
   "outputs": [],
   "source": [
    "db = mysql.connector.connect(\n",
    "    host=\"localhost\",\n",
    "    user=\"root\",\n",
    "    password=\"123\",\n",
    "    database=\"qlsv\"\n",
    ")"
   ]
  },
  {
   "cell_type": "code",
   "execution_count": 3,
   "id": "9ad5423c3b829aa2",
   "metadata": {
    "ExecuteTime": {
     "end_time": "2024-04-16T04:55:30.045139Z",
     "start_time": "2024-04-16T04:55:30.025528Z"
    },
    "collapsed": false
   },
   "outputs": [],
   "source": [
    "cursor = db.cursor()"
   ]
  },
  {
   "cell_type": "code",
   "execution_count": 4,
   "id": "65df7e175caffdc7",
   "metadata": {
    "ExecuteTime": {
     "end_time": "2024-04-16T04:55:31.481433Z",
     "start_time": "2024-04-16T04:55:31.474330Z"
    },
    "collapsed": false
   },
   "outputs": [],
   "source": [
    "# Thực thi truy vấn SQL\n",
    "cursor.execute(\"SELECT * FROM SinhVien\")\n",
    "\n",
    "# Lấy kết quả truy vấn và chuyển nó thành DataFrame\n",
    "result = cursor.fetchall()\n",
    "columns = [column[0] for column in cursor.description]\n",
    "df = pd.DataFrame(result, columns=columns)"
   ]
  },
  {
   "cell_type": "code",
   "execution_count": 5,
   "id": "46dac21820ae9132",
   "metadata": {
    "ExecuteTime": {
     "end_time": "2024-04-16T04:55:33.250068Z",
     "start_time": "2024-04-16T04:55:33.238599Z"
    },
    "collapsed": false
   },
   "outputs": [
    {
     "data": {
      "text/html": [
       "<div>\n",
       "<style scoped>\n",
       "    .dataframe tbody tr th:only-of-type {\n",
       "        vertical-align: middle;\n",
       "    }\n",
       "\n",
       "    .dataframe tbody tr th {\n",
       "        vertical-align: top;\n",
       "    }\n",
       "\n",
       "    .dataframe thead th {\n",
       "        text-align: right;\n",
       "    }\n",
       "</style>\n",
       "<table border=\"1\" class=\"dataframe\">\n",
       "  <thead>\n",
       "    <tr style=\"text-align: right;\">\n",
       "      <th></th>\n",
       "      <th>maSV</th>\n",
       "      <th>diaChi</th>\n",
       "      <th>diem</th>\n",
       "      <th>tenSV</th>\n",
       "    </tr>\n",
       "  </thead>\n",
       "  <tbody>\n",
       "    <tr>\n",
       "      <th>0</th>\n",
       "      <td>sv1</td>\n",
       "      <td>Lê An</td>\n",
       "      <td>10.0</td>\n",
       "      <td>Nam</td>\n",
       "    </tr>\n",
       "    <tr>\n",
       "      <th>1</th>\n",
       "      <td>sv2</td>\n",
       "      <td>Lê An Minh</td>\n",
       "      <td>10.0</td>\n",
       "      <td>Ban</td>\n",
       "    </tr>\n",
       "    <tr>\n",
       "      <th>2</th>\n",
       "      <td>sv3</td>\n",
       "      <td>Lê Anh Nuôi</td>\n",
       "      <td>10.0</td>\n",
       "      <td>Minh</td>\n",
       "    </tr>\n",
       "    <tr>\n",
       "      <th>3</th>\n",
       "      <td>sv4</td>\n",
       "      <td>Lê An</td>\n",
       "      <td>10.0</td>\n",
       "      <td>Ngọc</td>\n",
       "    </tr>\n",
       "    <tr>\n",
       "      <th>4</th>\n",
       "      <td>sv5</td>\n",
       "      <td>V</td>\n",
       "      <td>0.0</td>\n",
       "      <td>B</td>\n",
       "    </tr>\n",
       "    <tr>\n",
       "      <th>5</th>\n",
       "      <td>sv6</td>\n",
       "      <td>Minh Giang</td>\n",
       "      <td>4.0</td>\n",
       "      <td>Minh</td>\n",
       "    </tr>\n",
       "    <tr>\n",
       "      <th>6</th>\n",
       "      <td>sv7</td>\n",
       "      <td>Lê An</td>\n",
       "      <td>10.0</td>\n",
       "      <td>Ngọc</td>\n",
       "    </tr>\n",
       "  </tbody>\n",
       "</table>\n",
       "</div>"
      ],
      "text/plain": [
       "  maSV       diaChi  diem tenSV\n",
       "0  sv1        Lê An  10.0   Nam\n",
       "1  sv2   Lê An Minh  10.0   Ban\n",
       "2  sv3  Lê Anh Nuôi  10.0  Minh\n",
       "3  sv4        Lê An  10.0  Ngọc\n",
       "4  sv5            V   0.0     B\n",
       "5  sv6   Minh Giang   4.0  Minh\n",
       "6  sv7        Lê An  10.0  Ngọc"
      ]
     },
     "execution_count": 5,
     "metadata": {},
     "output_type": "execute_result"
    }
   ],
   "source": [
    "df"
   ]
  },
  {
   "cell_type": "code",
   "execution_count": 36,
   "id": "d35b6dd96de945b7",
   "metadata": {
    "ExecuteTime": {
     "end_time": "2024-04-16T04:18:28.802741Z",
     "start_time": "2024-04-16T04:18:28.782701Z"
    },
    "collapsed": false
   },
   "outputs": [],
   "source": [
    "df.to_csv('student.csv', index=False)"
   ]
  },
  {
   "cell_type": "code",
   "execution_count": 6,
   "id": "d4468d3bfca448bb",
   "metadata": {
    "ExecuteTime": {
     "end_time": "2024-04-16T04:55:36.337238Z",
     "start_time": "2024-04-16T04:55:36.320943Z"
    },
    "collapsed": false
   },
   "outputs": [],
   "source": [
    "#thêm sinh vieên\n",
    "new_SinhVien = {\n",
    "    \"maSV\": \"sv11\",\n",
    "    \"tenSV\": \"Ngoc Anh\",\n",
    "    \"diaChi\":\"123\",\n",
    "    \"diem\": 7,\n",
    "}"
   ]
  },
  {
   "cell_type": "code",
   "execution_count": 7,
   "id": "1ccb272e9fa0bfc4",
   "metadata": {
    "ExecuteTime": {
     "end_time": "2024-04-16T04:55:38.019138Z",
     "start_time": "2024-04-16T04:55:38.012139Z"
    },
    "collapsed": false
   },
   "outputs": [],
   "source": [
    "sql = \"INSERT INTO SinhVien (maSV,tenSV,diaChi,diem) VALUES (%s, %s, %s, %s)\"\n",
    "values = (new_SinhVien[\"maSV\"], new_SinhVien[\"tenSV\"], new_SinhVien[\"diaChi\"], new_SinhVien[\"diem\"])\n"
   ]
  },
  {
   "cell_type": "code",
   "execution_count": 8,
   "id": "9eaa0b5281efa3c3",
   "metadata": {
    "ExecuteTime": {
     "end_time": "2024-04-16T04:55:40.090669Z",
     "start_time": "2024-04-16T04:55:40.069525Z"
    },
    "collapsed": false
   },
   "outputs": [
    {
     "name": "stdout",
     "output_type": "stream",
     "text": [
      "Thêm thành công\n"
     ]
    }
   ],
   "source": [
    "try:\n",
    "    cursor.execute(sql, values)\n",
    "    print(\"Thêm thành công\")\n",
    "    db.commit()\n",
    "    db.close()\n",
    "except Exception as e:\n",
    "    print(\"Lỗi kết nối:\", e)"
   ]
  },
  {
   "cell_type": "code",
   "execution_count": 10,
   "id": "89d3893eb74f346a",
   "metadata": {
    "ExecuteTime": {
     "end_time": "2024-04-16T04:55:42.448433Z",
     "start_time": "2024-04-16T04:55:42.331654Z"
    },
    "collapsed": false
   },
   "outputs": [],
   "source": [
    "db = mysql.connector.connect(\n",
    "    host=\"localhost\",\n",
    "    user=\"root\",\n",
    "    password=\"123\",\n",
    "    database=\"qlsv\"\n",
    ")"
   ]
  },
  {
   "cell_type": "code",
   "execution_count": 11,
   "id": "efe22974aec2f281",
   "metadata": {
    "ExecuteTime": {
     "end_time": "2024-04-16T04:55:44.116027Z",
     "start_time": "2024-04-16T04:55:44.098027Z"
    },
    "collapsed": false
   },
   "outputs": [
    {
     "data": {
      "text/html": [
       "<div>\n",
       "<style scoped>\n",
       "    .dataframe tbody tr th:only-of-type {\n",
       "        vertical-align: middle;\n",
       "    }\n",
       "\n",
       "    .dataframe tbody tr th {\n",
       "        vertical-align: top;\n",
       "    }\n",
       "\n",
       "    .dataframe thead th {\n",
       "        text-align: right;\n",
       "    }\n",
       "</style>\n",
       "<table border=\"1\" class=\"dataframe\">\n",
       "  <thead>\n",
       "    <tr style=\"text-align: right;\">\n",
       "      <th></th>\n",
       "      <th>maSV</th>\n",
       "      <th>diaChi</th>\n",
       "      <th>diem</th>\n",
       "      <th>tenSV</th>\n",
       "    </tr>\n",
       "  </thead>\n",
       "  <tbody>\n",
       "    <tr>\n",
       "      <th>0</th>\n",
       "      <td>sv1</td>\n",
       "      <td>Lê An</td>\n",
       "      <td>10.0</td>\n",
       "      <td>Nam</td>\n",
       "    </tr>\n",
       "    <tr>\n",
       "      <th>1</th>\n",
       "      <td>sv11</td>\n",
       "      <td>123</td>\n",
       "      <td>7.0</td>\n",
       "      <td>Ngoc Anh</td>\n",
       "    </tr>\n",
       "    <tr>\n",
       "      <th>2</th>\n",
       "      <td>sv2</td>\n",
       "      <td>Lê An Minh</td>\n",
       "      <td>10.0</td>\n",
       "      <td>Ban</td>\n",
       "    </tr>\n",
       "    <tr>\n",
       "      <th>3</th>\n",
       "      <td>sv3</td>\n",
       "      <td>Lê Anh Nuôi</td>\n",
       "      <td>10.0</td>\n",
       "      <td>Minh</td>\n",
       "    </tr>\n",
       "    <tr>\n",
       "      <th>4</th>\n",
       "      <td>sv4</td>\n",
       "      <td>Lê An</td>\n",
       "      <td>10.0</td>\n",
       "      <td>Ngọc</td>\n",
       "    </tr>\n",
       "    <tr>\n",
       "      <th>5</th>\n",
       "      <td>sv5</td>\n",
       "      <td>V</td>\n",
       "      <td>0.0</td>\n",
       "      <td>B</td>\n",
       "    </tr>\n",
       "    <tr>\n",
       "      <th>6</th>\n",
       "      <td>sv6</td>\n",
       "      <td>Minh Giang</td>\n",
       "      <td>4.0</td>\n",
       "      <td>Minh</td>\n",
       "    </tr>\n",
       "    <tr>\n",
       "      <th>7</th>\n",
       "      <td>sv7</td>\n",
       "      <td>Lê An</td>\n",
       "      <td>10.0</td>\n",
       "      <td>Ngọc</td>\n",
       "    </tr>\n",
       "  </tbody>\n",
       "</table>\n",
       "</div>"
      ],
      "text/plain": [
       "   maSV       diaChi  diem     tenSV\n",
       "0   sv1        Lê An  10.0       Nam\n",
       "1  sv11          123   7.0  Ngoc Anh\n",
       "2   sv2   Lê An Minh  10.0       Ban\n",
       "3   sv3  Lê Anh Nuôi  10.0      Minh\n",
       "4   sv4        Lê An  10.0      Ngọc\n",
       "5   sv5            V   0.0         B\n",
       "6   sv6   Minh Giang   4.0      Minh\n",
       "7   sv7        Lê An  10.0      Ngọc"
      ]
     },
     "execution_count": 11,
     "metadata": {},
     "output_type": "execute_result"
    }
   ],
   "source": [
    "cursor = db.cursor()\n",
    "cursor.execute(\"SELECT * FROM SinhVien\")\n",
    "# Lấy kết quả truy vấn và chuyển nó thành DataFrame\n",
    "result = cursor.fetchall()\n",
    "columns = [column[0] for column in cursor.description]\n",
    "df1 = pd.DataFrame(result, columns=columns)\n",
    "df1"
   ]
  },
  {
   "cell_type": "code",
   "execution_count": 35,
   "id": "a4b90d5ab2f67f57",
   "metadata": {
    "ExecuteTime": {
     "end_time": "2024-04-16T04:14:15.226437Z",
     "start_time": "2024-04-16T04:14:15.212178Z"
    },
    "collapsed": false
   },
   "outputs": [],
   "source": [
    "#async and sync"
   ]
  }
 ],
 "metadata": {
  "kernelspec": {
   "display_name": "Python 3",
   "language": "python",
   "name": "python3"
  },
  "language_info": {
   "codemirror_mode": {
    "name": "ipython",
    "version": 3
   },
   "file_extension": ".py",
   "mimetype": "text/x-python",
   "name": "python",
   "nbconvert_exporter": "python",
   "pygments_lexer": "ipython3",
   "version": "3.12.3"
  }
 },
 "nbformat": 4,
 "nbformat_minor": 5
}
