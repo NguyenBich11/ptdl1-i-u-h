{
 "cells": [
  {
   "cell_type": "code",
   "execution_count": 3,
   "metadata": {},
   "outputs": [],
   "source": [
    "import pandas as pd\n",
    "import matplotlib.pyplot as plt\n",
    "import seaborn as sns"
   ]
  },
  {
   "cell_type": "code",
   "execution_count": 4,
   "metadata": {},
   "outputs": [
    {
     "data": {
      "text/html": [
       "<div>\n",
       "<style scoped>\n",
       "    .dataframe tbody tr th:only-of-type {\n",
       "        vertical-align: middle;\n",
       "    }\n",
       "\n",
       "    .dataframe tbody tr th {\n",
       "        vertical-align: top;\n",
       "    }\n",
       "\n",
       "    .dataframe thead th {\n",
       "        text-align: right;\n",
       "    }\n",
       "</style>\n",
       "<table border=\"1\" class=\"dataframe\">\n",
       "  <thead>\n",
       "    <tr style=\"text-align: right;\">\n",
       "      <th></th>\n",
       "      <th>ORDERNUMBER</th>\n",
       "      <th>QUANTITYORDERED</th>\n",
       "      <th>ORDERLINENUMBER</th>\n",
       "      <th>SALES</th>\n",
       "      <th>ORDERDATE</th>\n",
       "      <th>STATUS</th>\n",
       "      <th>COUNTRY</th>\n",
       "      <th>DEALSIZE</th>\n",
       "      <th>Discount</th>\n",
       "      <th>Profit</th>\n",
       "    </tr>\n",
       "  </thead>\n",
       "  <tbody>\n",
       "    <tr>\n",
       "      <th>0</th>\n",
       "      <td>10107</td>\n",
       "      <td>30</td>\n",
       "      <td>2</td>\n",
       "      <td>2871.00</td>\n",
       "      <td>2003-02-24</td>\n",
       "      <td>Shipped</td>\n",
       "      <td>USA</td>\n",
       "      <td>Small</td>\n",
       "      <td>0.00</td>\n",
       "      <td>41.9136</td>\n",
       "    </tr>\n",
       "    <tr>\n",
       "      <th>1</th>\n",
       "      <td>10121</td>\n",
       "      <td>34</td>\n",
       "      <td>5</td>\n",
       "      <td>2765.90</td>\n",
       "      <td>2003-05-07</td>\n",
       "      <td>Shipped</td>\n",
       "      <td>France</td>\n",
       "      <td>Small</td>\n",
       "      <td>0.00</td>\n",
       "      <td>219.5820</td>\n",
       "    </tr>\n",
       "    <tr>\n",
       "      <th>2</th>\n",
       "      <td>10134</td>\n",
       "      <td>41</td>\n",
       "      <td>2</td>\n",
       "      <td>3884.34</td>\n",
       "      <td>2003-07-01</td>\n",
       "      <td>Shipped</td>\n",
       "      <td>France</td>\n",
       "      <td>Medium</td>\n",
       "      <td>0.00</td>\n",
       "      <td>6.8714</td>\n",
       "    </tr>\n",
       "    <tr>\n",
       "      <th>3</th>\n",
       "      <td>10145</td>\n",
       "      <td>45</td>\n",
       "      <td>6</td>\n",
       "      <td>3746.70</td>\n",
       "      <td>2003-08-25</td>\n",
       "      <td>Shipped</td>\n",
       "      <td>USA</td>\n",
       "      <td>Medium</td>\n",
       "      <td>0.45</td>\n",
       "      <td>-383.0310</td>\n",
       "    </tr>\n",
       "    <tr>\n",
       "      <th>4</th>\n",
       "      <td>10159</td>\n",
       "      <td>49</td>\n",
       "      <td>14</td>\n",
       "      <td>5205.27</td>\n",
       "      <td>2003-10-10</td>\n",
       "      <td>Shipped</td>\n",
       "      <td>USA</td>\n",
       "      <td>Medium</td>\n",
       "      <td>0.20</td>\n",
       "      <td>2.5164</td>\n",
       "    </tr>\n",
       "  </tbody>\n",
       "</table>\n",
       "</div>"
      ],
      "text/plain": [
       "   ORDERNUMBER  QUANTITYORDERED  ORDERLINENUMBER    SALES  ORDERDATE   STATUS  \\\n",
       "0        10107               30                2  2871.00 2003-02-24  Shipped   \n",
       "1        10121               34                5  2765.90 2003-05-07  Shipped   \n",
       "2        10134               41                2  3884.34 2003-07-01  Shipped   \n",
       "3        10145               45                6  3746.70 2003-08-25  Shipped   \n",
       "4        10159               49               14  5205.27 2003-10-10  Shipped   \n",
       "\n",
       "  COUNTRY DEALSIZE  Discount    Profit  \n",
       "0     USA    Small      0.00   41.9136  \n",
       "1  France    Small      0.00  219.5820  \n",
       "2  France   Medium      0.00    6.8714  \n",
       "3     USA   Medium      0.45 -383.0310  \n",
       "4     USA   Medium      0.20    2.5164  "
      ]
     },
     "execution_count": 4,
     "metadata": {},
     "output_type": "execute_result"
    }
   ],
   "source": [
    "df = pd.read_excel('sales_data_sample.xlsx', sheet_name='saledata')\n",
    "\n",
    "df.head(5)"
   ]
  },
  {
   "cell_type": "code",
   "execution_count": 60,
   "metadata": {},
   "outputs": [
    {
     "data": {
      "text/plain": [
       "DEALSIZE\n",
       "Medium    1384\n",
       "Small     1282\n",
       "Large      157\n",
       "Name: count, dtype: int64"
      ]
     },
     "execution_count": 60,
     "metadata": {},
     "output_type": "execute_result"
    }
   ],
   "source": [
    "# Câu 2\n",
    "size_counts = df['DEALSIZE'].value_counts()\n",
    "\n",
    "size_counts"
   ]
  },
  {
   "cell_type": "code",
   "execution_count": 66,
   "metadata": {},
   "outputs": [
    {
     "data": {
      "text/plain": [
       "'SmallSmallMediumMediumMediumMediumSmallMediumSmallMediumMediumSmallMediumMediumMediumMediumSmallMediumMediumMediumLargeSmallSmallMediumSmallLargeMediumLargeLargeLargeLargeMediumLargeMediumLargeLargeMediumMediumMediumLargeMediumLargeLargeLargeLargeMediumMediumMediumMediumMediumLargeSmallMediumLargeMediumSmallMediumMediumMediumMediumMediumMediumMediumMediumMediumSmallMediumMediumSmallMediumMediumMediumMediumMediumSmallSmallMediumSmallMediumMediumMediumLargeLargeMediumMediumMediumLargeLargeLargeMediumLargeLargeLargeLargeMediumMediumMediumMediumLargeMediumSmallMediumMediumSmallLargeLargeLargeMediumMediumMediumMediumMediumMediumMediumMediumMediumMediumSmallMediumMediumSmallMediumSmallMediumMediumSmallSmallSmallMediumMediumMediumLargeSmallMediumMediumMediumMediumMediumMediumMediumMediumMediumMediumLargeMediumMediumMediumMediumLargeMediumMediumMediumSmallMediumMediumMediumSmallMediumSmallMediumMediumMediumLargeLargeLargeLargeMediumMediumMediumMediumLargeMediumMediumMediumLargeLargeMediumMediumMediumMediumSmallMediumSmallMediumSmallSmallLargeMediumLargeLargeMediumLargeLargeMediumLargeLargeLargeLargeLargeMediumLargeLargeMediumLargeSmallSmallSmallMediumMediumMediumSmallLargeMediumMediumSmallMediumMediumMediumMediumMediumMediumMediumMediumMediumMediumMediumMediumSmallMediumMediumSmallMediumMediumMediumMediumLargeSmallSmallMediumLargeMediumLargeSmallLargeMediumMediumMediumMediumMediumMediumMediumMediumLargeMediumMediumMediumMediumMediumMediumMediumLargeMediumMediumMediumLargeMediumMediumMediumLargeMediumMediumMediumLargeMediumMediumMediumMediumLargeMediumMediumMediumMediumMediumMediumSmallMediumMediumSmallMediumMediumLargeMediumMediumMediumMediumMediumMediumSmallMediumSmallMediumSmallMediumSmallSmallMediumMediumMediumMediumMediumMediumMediumMediumMediumSmallSmallMediumMediumLargeLargeLargeMediumLargeLargeLargeMediumMediumMediumMediumLargeMediumLargeMediumMediumSmallMediumMediumMediumMediumMediumMediumMediumMediumSmallSmallSmallSmallSmallSmallSmallMediumSmallSmallSmallSmallSmallMediumSmallSmallMediumSmallMediumMediumSmallSmallSmallMediumMediumMediumSmallSmallMediumMediumMediumMediumMediumMediumMediumMediumMediumMediumMediumMediumSmallMediumMediumSmallMediumMediumSmallSmallSmallMediumMediumMediumSmallSmallMediumMediumMediumMediumMediumMediumMediumSmallSmallMediumMediumMediumSmallSmallSmallSmallSmallMediumMediumMediumMediumLargeMediumMediumMediumMediumMediumMediumMediumMediumSmallSmallMediumMediumMediumMediumMediumMediumSmallMediumMediumMediumSmallSmallSmallMediumMediumMediumSmallMediumLargeMediumMediumMediumSmallMediumMediumMediumMediumMediumMediumMediumMediumMediumSmallMediumMediumMediumMediumMediumMediumMediumMediumSmallMediumMediumLargeMediumMediumMediumMediumMediumMediumMediumMediumSmallMediumMediumSmallSmallMediumMediumMediumMediumMediumMediumMediumMediumSmallSmallLargeSmallMediumMediumSmallSmallSmallSmallSmallSmallSmallSmallSmallMediumSmallSmallSmallSmallSmallSmallSmallSmallSmallSmallSmallSmallMediumSmallMediumSmallMediumMediumMediumMediumMediumMediumMediumMediumMediumMediumMediumSmallMediumMediumSmallSmallMediumSmallMediumMediumMediumSmallSmallLargeMediumMediumMediumSmallMediumMediumMediumMediumMediumLargeMediumMediumLargeMediumMediumMediumMediumLargeMediumSmallMediumMediumSmallSmallMediumMediumMediumMediumMediumSmallMediumMediumMediumLargeMediumMediumMediumMediumLargeMediumMediumLargeLargeMediumLargeMediumMediumLargeMediumMediumMediumMediumSmallMediumSmallSmallMediumMediumSmallMediumMediumSmallSmallSmallMediumMediumSmallSmallSmallMediumMediumSmallMediumMediumMediumMediumMediumMediumMediumMediumMediumMediumLargeMediumMediumMediumMediumMediumMediumMediumMediumLargeMediumMediumSmallMediumSmallMediumMediumSmallLargeMediumMediumLargeLargeMediumLargeMediumMediumLargeMediumLargeLargeLargeMediumMediumLargeMediumMediumMediumMediumLargeLargeMediumSmallSmallSmallMediumMediumMediumSmallSmallSmallSmallSmallSmallSmallSmallSmallSmallSmallSmallSmallSmallSmallMediumSmallLargeSmallMediumSmallMediumMediumMediumMediumMediumMediumMediumMediumMediumMediumMediumSmallMediumMediumMediumMediumMediumMediumSmallMediumMediumSmallMediumMediumMediumMediumMediumMediumMediumMediumMediumMediumSmallMediumMediumMediumLargeMediumMediumMediumSmallMediumLargeSmallMediumMediumMediumMediumMediumSmallMediumSmallMediumSmallSmallSmallSmallSmallSmallMediumSmallSmallSmallSmallSmallSmallSmallSmallSmallSmallSmallSmallMediumSmallSmallSmallSmallSmallSmallMediumSmallMediumSmallSmallMediumMediumSmallSmallSmallMediumSmallSmallSmallMediumMediumSmallMediumSmallSmallSmallMediumSmallSmallSmallSmallSmallSmallSmallSmallSmallSmallSmallSmallSmallSmallSmallSmallSmallSmallSmallSmallMediumSmallSmallSmallMediumMediumSmallMediumMediumMediumLargeMediumLargeMediumMediumMediumLargeLargeMediumMediumMediumMediumLargeMediumMediumMediumSmallMediumMediumMediumSmallSmallMediumMediumMediumMediumMediumMediumMediumMediumMediumMediumMediumMediumMediumMediumSmallMediumMediumMediumMediumSmallSmallSmallMediumMediumMediumLargeSmallSmallSmallMediumMediumMediumMediumMediumSmallMediumMediumSmallMediumMediumSmallMediumMediumMediumMediumMediumSmallMediumMediumMediumMediumSmallSmallSmallSmallMediumSmallSmallMediumSmallSmallSmallSmallSmallSmallSmallSmallSmallSmallSmallSmallSmallSmallSmallSmallMediumSmallSmallSmallSmallMediumSmallMediumMediumMediumMediumMediumSmallMediumSmallMediumSmallSmallMediumSmallSmallSmallSmallSmallSmallSmallSmallMediumSmallSmallMediumSmallMediumSmallSmallSmallMediumSmallSmallSmallMediumMediumMediumMediumMediumMediumMediumSmallSmallMediumSmallSmallMediumMediumSmallMediumSmallSmallMediumMediumMediumMediumMediumMediumMediumMediumMediumSmallMediumMediumMediumMediumMediumSmallMediumSmallSmallMediumMediumMediumSmallMediumMediumMediumLargeLargeMediumMediumLargeMediumMediumMediumMediumLargeMediumMediumMediumMediumMediumLargeLargeMediumMediumMediumMediumLargeLargeMediumMediumMediumMediumMediumMediumMediumSmallMediumLargeLargeMediumMediumMediumMediumSmallMediumLargeSmallMediumSmallLargeMediumMediumLargeLargeMediumMediumMediumSmallMediumSmallSmallMediumMediumMediumMediumMediumSmallMediumMediumMediumMediumSmallMediumSmallMediumSmallMediumSmallMediumSmallMediumSmallSmallMediumMediumSmallSmallSmallMediumSmallSmallMediumSmallSmallMediumSmallMediumMediumSmallMediumSmallSmallSmallSmallMediumMediumMediumMediumMediumMediumMediumSmallSmallSmallSmallMediumMediumMediumSmallMediumSmallMediumMediumMediumLargeSmallSmallMediumLargeMediumSmallMediumSmallMediumMediumMediumMediumMediumMediumMediumMediumMediumMediumMediumLargeMediumMediumMediumMediumMediumMediumMediumMediumMediumMediumLargeMediumMediumMediumMediumMediumMediumMediumMediumMediumMediumLargeMediumMediumMediumMediumMediumMediumMediumMediumSmallMediumMediumSmallLargeMediumSmallSmallSmallMediumSmallSmallSmallMediumSmallSmallSmallSmallSmallSmallSmallSmallSmallSmallSmallSmallSmallSmallMediumMediumSmallMediumSmallMediumMediumMediumMediumMediumMediumSmallSmallMediumMediumMediumMediumMediumSmallMediumMediumMediumMediumMediumMediumSmallMediumLargeMediumMediumSmallMediumMediumMediumMediumMediumMediumMediumMediumLargeLargeMediumMediumMediumLargeMediumMediumMediumMediumMediumSmallLargeMediumMediumMediumSmallSmallMediumMediumMediumSmallMediumSmallSmallMediumMediumMediumMediumSmallMediumMediumLargeSmallSmallMediumSmallMediumMediumSmallMediumSmallSmallSmallSmallMediumMediumMediumMediumSmallMediumSmallSmallMediumMediumMediumMediumMediumMediumMediumMediumSmallMediumSmallMediumMediumLargeMediumMediumMediumMediumSmallMediumMediumMediumMediumSmallMediumMediumSmallMediumSmallSmallMediumMediumMediumMediumSmallMediumMediumMediumSmallSmallSmallSmallSmallSmallSmallSmallSmallSmallSmallSmallSmallSmallSmallSmallSmallSmallSmallMediumSmallLargeMediumSmallLargeSmallSmallMediumMediumMediumMediumMediumMediumMediumMediumMediumMediumMediumMediumSmallMediumMediumLargeMediumLargeMediumMediumMediumSmallMediumMediumSmallSmallSmallSmallSmallMediumSmallMediumSmallSmallSmallSmallSmallSmallSmallSmallMediumSmallMediumMediumMediumSmallMediumSmallSmallSmallSmallMediumSmallSmallMediumSmallSmallMediumSmallSmallSmallSmallSmallSmallSmallSmallMediumSmallMediumSmallMediumSmallSmallSmallSmallSmallSmallSmallSmallSmallSmallSmallSmallSmallSmallSmallSmallSmallSmallMediumSmallSmallSmallSmallSmallSmallSmallSmallMediumMediumMediumMediumMediumMediumSmallMediumSmallSmallSmallSmallMediumSmallMediumMediumSmallMediumSmallSmallMediumMediumMediumMediumMediumSmallSmallSmallSmallSmallSmallSmallSmallSmallSmallSmallSmallSmallSmallSmallSmallSmallSmallSmallSmallSmallMediumSmallSmallSmallMediumMediumMediumMediumSmallMediumSmallSmallMediumSmallSmallMediumMediumSmallMediumSmallSmallMediumSmallMediumMediumMediumSmallSmallSmallSmallSmallSmallSmallSmallSmallSmallSmallSmallSmallSmallSmallSmallSmallMediumSmallLargeSmallSmallLargeSmallSmallMediumSmallMediumMediumSmallSmallSmallMediumSmallSmallSmallMediumSmallSmallSmallSmallSmallSmallSmallMediumMediumMediumSmallMediumMediumSmallMediumMediumMediumMediumMediumMediumMediumMediumMediumMediumMediumMediumMediumMediumSmallMediumSmallMediumMediumMediumSmallSmallMediumSmallMediumMediumSmallSmallSmallSmallSmallSmallSmallSmallSmallSmallSmallSmallSmallSmallSmallSmallSmallMediumSmallSmallSmallSmallSmallMediumSmallMediumSmallMediumMediumMediumMediumSmallMediumMediumMediumMediumMediumMediumMediumMediumSmallMediumMediumMediumMediumMediumMediumMediumMediumSmallLargeMediumSmallSmallSmallSmallSmallSmallSmallMediumSmallSmallSmallMediumSmallMediumSmallSmallSmallSmallMediumMediumSmallSmallSmallSmallSmallMediumSmallSmallSmallSmallSmallMediumMediumMediumMediumMediumMediumMediumSmallMediumSmallSmallMediumSmallMediumSmallLargeMediumSmallSmallSmallSmallSmallSmallSmallSmallSmallSmallSmallSmallSmallSmallSmallSmallSmallSmallSmallMediumSmallSmallSmallMediumMediumSmallSmallSmallMediumSmallSmallSmallSmallSmallSmallSmallMediumMediumSmallSmallSmallSmallSmallSmallSmallSmallSmallMediumSmallSmallSmallSmallSmallSmallMediumSmallMediumSmallSmallSmallMediumMediumSmallMediumSmallMediumMediumMediumMediumMediumSmallSmallMediumSmallMediumMediumSmallSmallSmallSmallSmallSmallSmallSmallSmallSmallSmallSmallSmallSmallSmallSmallSmallSmallSmallSmallSmallSmallMediumMediumMediumSmallSmallMediumMediumMediumMediumSmallSmallMediumSmallMediumSmallMediumMediumMediumSmallSmallMediumMediumSmallSmallMediumLargeMediumSmallMediumSmallMediumSmallMediumSmallSmallSmallMediumSmallMediumSmallMediumSmallMediumSmallSmallMediumSmallMediumSmallMediumMediumMediumSmallMediumSmallSmallSmallSmallMediumSmallSmallSmallSmallSmallSmallSmallSmallSmallSmallSmallSmallSmallSmallMediumSmallSmallSmallSmallSmallSmallSmallSmallSmallSmallSmallSmallSmallSmallSmallSmallMediumSmallMediumSmallSmallSmallSmallMediumSmallSmallSmallMediumMediumSmallSmallSmallSmallMediumMediumMediumMediumSmallMediumMediumMediumMediumMediumSmallMediumMediumMediumSmallMediumSmallSmallSmallSmallMediumMediumSmallMediumMediumMediumSmallSmallSmallSmallMediumSmallSmallMediumSmallMediumMediumSmallSmallSmallSmallSmallSmallSmallSmallMediumMediumMediumMediumMediumMediumMediumSmallMediumMediumMediumMediumMediumMediumMediumMediumMediumSmallMediumMediumLargeMediumMediumMediumMediumMediumSmallSmallMediumLargeLargeMediumSmallMediumSmallMediumSmallSmallSmallSmallSmallSmallMediumSmallMediumSmallSmallMediumSmallSmallMediumSmallMediumSmallMediumSmallMediumSmallSmallSmallSmallSmallSmallSmallSmallSmallSmallSmallSmallSmallSmallSmallSmallSmallMediumSmallSmallMediumSmallSmallSmallMediumSmallMediumSmallSmallSmallMediumMediumSmallMediumMediumMediumMediumMediumMediumMediumMediumMediumMediumMediumSmallSmallSmallMediumMediumSmallSmallMediumMediumSmallMediumSmallMediumSmallMediumMediumMediumMediumMediumMediumSmallMediumMediumMediumMediumMediumSmallMediumMediumMediumSmallSmallSmallMediumSmallMediumSmallSmallMediumSmallSmallSmallSmallSmallMediumSmallSmallMediumMediumSmallLargeMediumMediumMediumMediumSmallSmallSmallSmallSmallSmallSmallSmallSmallMediumSmallMediumMediumMediumMediumSmallMediumMediumMediumMediumSmallMediumMediumSmallMediumMediumMediumSmallMediumSmallSmallMediumMediumMediumSmallSmallMediumMediumSmallSmallSmallMediumSmallSmallMediumMediumMediumMediumSmallSmallMediumSmallSmallSmallMediumMediumMediumMediumSmallMediumMediumSmallSmallMediumSmallSmallMediumSmallMediumMediumMediumMediumMediumMediumMediumSmallSmallSmallSmallSmallSmallSmallSmallSmallSmallSmallSmallSmallSmallSmallSmallSmallSmallMediumMediumSmallSmallMediumSmallSmallSmallSmallSmallSmallSmallSmallMediumSmallSmallSmallSmallSmallSmallSmallSmallSmallSmallSmallSmallLargeSmallSmallMediumSmallSmallSmallSmallSmallMediumSmallSmallMediumSmallSmallSmallSmallSmallSmallSmallSmallSmallSmallSmallSmallSmallSmallMediumSmallMediumMediumSmallSmallSmallSmallMediumSmallSmallSmallSmallSmallSmallMediumSmallSmallSmallSmallMediumSmallSmallSmallSmallSmallSmallLargeSmallMediumMediumMediumMediumSmallSmallSmallSmallSmallSmallSmallSmallSmallSmallMediumMediumSmallMediumSmallMediumSmallSmallSmallSmallMediumMediumMediumSmallMediumSmallMediumSmallSmallMediumSmallMediumSmallMediumMediumMediumMediumSmallMediumMediumSmallMediumMediumSmallMediumSmallMediumMediumMediumSmallMediumSmallSmallSmallSmallSmallSmallSmallSmallSmallSmallSmallSmallSmallSmallSmallSmallSmallSmallSmallMediumSmallMediumMediumSmallSmallSmallMediumSmallMediumMediumMediumMediumMediumMediumMediumSmallMediumMediumSmallMediumMediumMediumMediumMediumMediumMediumMediumSmallMediumSmallMediumMediumMediumSmallSmallSmallMediumSmallSmallSmallSmallSmallSmallSmallSmallSmallMediumSmallSmallSmallSmallSmallMediumSmallMediumSmallSmallSmallLargeMediumSmallMediumMediumMediumSmallMediumSmallSmallMediumMediumSmallMediumMediumSmallMediumMediumSmallMediumMediumMediumMediumMediumMediumMediumSmallSmallSmallSmallSmallSmallMediumSmallSmallSmallSmallSmallSmallSmallSmallSmallMediumSmallSmallSmallSmallSmallMediumMediumSmallSmallSmallMediumMediumSmallMediumMediumSmallMediumSmallSmallSmallSmallMediumSmallSmallMediumSmallSmallSmallSmallMediumSmallMediumLargeMediumSmallSmallSmallMediumMediumMediumSmallMediumSmallSmallMediumMediumSmallSmallMediumSmallMediumSmallMediumSmallMediumSmallSmallMediumMediumSmallMediumMediumSmallSmallSmallSmallSmallMediumSmallSmallSmallSmallMediumMediumSmallSmallMediumMediumMediumMediumMediumSmallSmallSmallSmallMediumMediumMediumMediumSmallMediumSmallSmallMediumSmallMediumSmallMediumMediumMediumSmallMediumMediumSmallMediumSmallMediumMediumMediumSmallMediumMediumSmallLargeSmallSmallSmallMediumSmallSmallMediumSmallSmallMediumMediumSmallSmallSmallMediumSmallMediumSmallMediumMediumSmallMediumSmallSmallMediumSmallSmallMediumMediumMediumMediumSmallMediumMediumSmallSmallMediumSmallMediumMediumMediumMediumSmallMediumMediumSmallMediumLargeSmallMediumMediumSmallMediumMediumMediumMediumSmallSmallMediumMediumSmallMediumSmallMediumMediumMediumMediumMediumMediumLargeMediumMediumMediumMediumSmallLargeSmallSmallMediumMediumMediumSmallMediumMediumMediumSmallSmallSmallSmallSmallMediumSmallSmallSmallMediumSmallMediumMediumMediumMediumMediumSmallLargeSmallMediumMediumMediumSmallMediumSmallMediumMediumSmallMediumMediumMediumMediumSmallMediumSmallMediumSmallSmallMediumSmallSmallMediumMediumMediumMediumSmallMediumSmallMediumSmallMediumSmallSmallMediumSmallSmallSmallMediumMediumSmallMediumMediumMediumMediumMediumSmallSmallMediumSmallMediumSmallSmallSmallSmallSmallMediumMediumMediumSmallSmallMediumSmallSmallSmallSmallSmallMediumSmallSmallMediumSmallSmallMediumSmallMediumMediumSmallSmallSmallSmallSmallSmallSmallSmallSmallSmallSmallSmallSmallSmallSmallSmallSmallSmallSmallSmallMediumSmallSmallSmallSmallMediumSmallSmallSmallSmallSmallSmallSmallMediumSmallSmallSmallSmallSmallSmallSmallSmallSmallSmallSmallSmallSmallSmallMediumMediumSmallMediumMediumSmallMedium'"
      ]
     },
     "execution_count": 66,
     "metadata": {},
     "output_type": "execute_result"
    }
   ],
   "source": [
    "test = df['DEALSIZE'].sum()\n",
    "test"
   ]
  },
  {
   "cell_type": "code",
   "execution_count": 67,
   "metadata": {},
   "outputs": [
    {
     "data": {
      "text/plain": [
       "DEALSIZE\n",
       "Medium    49.025859\n",
       "Small     45.412682\n",
       "Large      5.561459\n",
       "Name: count, dtype: float64"
      ]
     },
     "execution_count": 67,
     "metadata": {},
     "output_type": "execute_result"
    }
   ],
   "source": [
    "\n",
    "size_per = (size_counts / 2823) * 100\n",
    "\n",
    "size_per"
   ]
  },
  {
   "cell_type": "code",
   "execution_count": 18,
   "metadata": {},
   "outputs": [
    {
     "data": {
      "text/plain": [
       "(2823, 10)"
      ]
     },
     "execution_count": 18,
     "metadata": {},
     "output_type": "execute_result"
    }
   ],
   "source": [
    "# Câu 3\n",
    "df.shape"
   ]
  },
  {
   "cell_type": "code",
   "execution_count": 19,
   "metadata": {},
   "outputs": [
    {
     "name": "stderr",
     "output_type": "stream",
     "text": [
      "C:\\Users\\T14\\AppData\\Local\\Temp\\ipykernel_25800\\2042521834.py:5: DeprecationWarning: Please import `pearsonr` from the `scipy.stats` namespace; the `scipy.stats.stats` namespace is deprecated and will be removed in SciPy 2.0.0.\n",
      "  from scipy.stats.stats import pearsonr\n"
     ]
    }
   ],
   "source": [
    "import scipy.stats as stats\n",
    "from statsmodels.stats.weightstats import ztest as ztest\n",
    "import statsmodels.api as sm\n",
    "from statsmodels.formula.api import ols\n",
    "from scipy.stats.stats import pearsonr\n",
    "from scipy.stats import chi2_contingency\n",
    "import statsmodels.api as sm\n",
    "from statsmodels.formula.api import ols\n",
    "from sklearn import preprocessing\n",
    "from sklearn.preprocessing import LabelBinarizer\n",
    "from sklearn.preprocessing import OneHotEncoder\n",
    "from sklearn.preprocessing import MaxAbsScaler\n",
    "from sklearn.preprocessing import MinMaxScaler\n",
    "from sklearn.preprocessing import StandardScaler"
   ]
  },
  {
   "cell_type": "code",
   "execution_count": 20,
   "metadata": {},
   "outputs": [
    {
     "name": "stdout",
     "output_type": "stream",
     "text": [
      "[[0. 0. 1.]\n",
      " [0. 0. 1.]\n",
      " [0. 1. 0.]\n",
      " ...\n",
      " [0. 1. 0.]\n",
      " [0. 0. 1.]\n",
      " [0. 1. 0.]]\n"
     ]
    }
   ],
   "source": [
    "# Câu 5\n",
    "y = OneHotEncoder().fit_transform(df[['DEALSIZE']]).toarray()\n",
    "print(y)"
   ]
  },
  {
   "cell_type": "code",
   "execution_count": 23,
   "metadata": {},
   "outputs": [
    {
     "data": {
      "text/html": [
       "<div>\n",
       "<style scoped>\n",
       "    .dataframe tbody tr th:only-of-type {\n",
       "        vertical-align: middle;\n",
       "    }\n",
       "\n",
       "    .dataframe tbody tr th {\n",
       "        vertical-align: top;\n",
       "    }\n",
       "\n",
       "    .dataframe thead th {\n",
       "        text-align: right;\n",
       "    }\n",
       "</style>\n",
       "<table border=\"1\" class=\"dataframe\">\n",
       "  <thead>\n",
       "    <tr style=\"text-align: right;\">\n",
       "      <th></th>\n",
       "      <th>df</th>\n",
       "      <th>sum_sq</th>\n",
       "      <th>mean_sq</th>\n",
       "      <th>F</th>\n",
       "      <th>PR(&gt;F)</th>\n",
       "    </tr>\n",
       "  </thead>\n",
       "  <tbody>\n",
       "    <tr>\n",
       "      <th>STATUS</th>\n",
       "      <td>5.0</td>\n",
       "      <td>3.562031e+03</td>\n",
       "      <td>7.124063e+02</td>\n",
       "      <td>5.744658e+28</td>\n",
       "      <td>0.0</td>\n",
       "    </tr>\n",
       "    <tr>\n",
       "      <th>DEALSIZE</th>\n",
       "      <td>2.0</td>\n",
       "      <td>5.959676e+04</td>\n",
       "      <td>2.979838e+04</td>\n",
       "      <td>2.402863e+30</td>\n",
       "      <td>0.0</td>\n",
       "    </tr>\n",
       "    <tr>\n",
       "      <th>QUANTITYORDERED:DEALSIZE</th>\n",
       "      <td>3.0</td>\n",
       "      <td>2.046369e+05</td>\n",
       "      <td>6.821230e+04</td>\n",
       "      <td>5.500461e+30</td>\n",
       "      <td>0.0</td>\n",
       "    </tr>\n",
       "    <tr>\n",
       "      <th>Residual</th>\n",
       "      <td>2812.0</td>\n",
       "      <td>3.487216e-23</td>\n",
       "      <td>1.240120e-26</td>\n",
       "      <td>NaN</td>\n",
       "      <td>NaN</td>\n",
       "    </tr>\n",
       "  </tbody>\n",
       "</table>\n",
       "</div>"
      ],
      "text/plain": [
       "                              df        sum_sq       mean_sq             F  \\\n",
       "STATUS                       5.0  3.562031e+03  7.124063e+02  5.744658e+28   \n",
       "DEALSIZE                     2.0  5.959676e+04  2.979838e+04  2.402863e+30   \n",
       "QUANTITYORDERED:DEALSIZE     3.0  2.046369e+05  6.821230e+04  5.500461e+30   \n",
       "Residual                  2812.0  3.487216e-23  1.240120e-26           NaN   \n",
       "\n",
       "                          PR(>F)  \n",
       "STATUS                       0.0  \n",
       "DEALSIZE                     0.0  \n",
       "QUANTITYORDERED:DEALSIZE     0.0  \n",
       "Residual                     NaN  "
      ]
     },
     "execution_count": 23,
     "metadata": {},
     "output_type": "execute_result"
    }
   ],
   "source": [
    "# Câu 6\n",
    "model = ols('QUANTITYORDERED ~ STATUS + DEALSIZE + QUANTITYORDERED:DEALSIZE', data=df).fit()\n",
    "aov_table = sm.stats.anova_lm(model, typ=1)\n",
    "aov_table"
   ]
  },
  {
   "cell_type": "code",
   "execution_count": 24,
   "metadata": {},
   "outputs": [],
   "source": [
    "import  numpy as np"
   ]
  },
  {
   "cell_type": "code",
   "execution_count": 28,
   "metadata": {},
   "outputs": [
    {
     "data": {
      "text/plain": [
       "np.float64(0.5662633890152213)"
      ]
     },
     "execution_count": 28,
     "metadata": {},
     "output_type": "execute_result"
    }
   ],
   "source": [
    "# Câu 8\n",
    "df[\"newSales\"] =  1 / ((np.log(df[\"SALES\"]) ** 2) + 1)\n",
    "df[\"newSales_final\"] = np.sqrt(df[\"newSales\"])\n",
    "\n",
    "df[\"newSales_final\"].skew()"
   ]
  },
  {
   "cell_type": "code",
   "execution_count": 29,
   "metadata": {},
   "outputs": [
    {
     "data": {
      "text/html": [
       "<div>\n",
       "<style scoped>\n",
       "    .dataframe tbody tr th:only-of-type {\n",
       "        vertical-align: middle;\n",
       "    }\n",
       "\n",
       "    .dataframe tbody tr th {\n",
       "        vertical-align: top;\n",
       "    }\n",
       "\n",
       "    .dataframe thead th {\n",
       "        text-align: right;\n",
       "    }\n",
       "</style>\n",
       "<table border=\"1\" class=\"dataframe\">\n",
       "  <thead>\n",
       "    <tr style=\"text-align: right;\">\n",
       "      <th></th>\n",
       "      <th>df</th>\n",
       "      <th>sum_sq</th>\n",
       "      <th>mean_sq</th>\n",
       "      <th>F</th>\n",
       "      <th>PR(&gt;F)</th>\n",
       "    </tr>\n",
       "  </thead>\n",
       "  <tbody>\n",
       "    <tr>\n",
       "      <th>STATUS</th>\n",
       "      <td>5.0</td>\n",
       "      <td>5.921801e+07</td>\n",
       "      <td>1.184360e+07</td>\n",
       "      <td>3.506652</td>\n",
       "      <td>0.003661</td>\n",
       "    </tr>\n",
       "    <tr>\n",
       "      <th>Residual</th>\n",
       "      <td>2817.0</td>\n",
       "      <td>9.514324e+09</td>\n",
       "      <td>3.377467e+06</td>\n",
       "      <td>NaN</td>\n",
       "      <td>NaN</td>\n",
       "    </tr>\n",
       "  </tbody>\n",
       "</table>\n",
       "</div>"
      ],
      "text/plain": [
       "              df        sum_sq       mean_sq         F    PR(>F)\n",
       "STATUS       5.0  5.921801e+07  1.184360e+07  3.506652  0.003661\n",
       "Residual  2817.0  9.514324e+09  3.377467e+06       NaN       NaN"
      ]
     },
     "execution_count": 29,
     "metadata": {},
     "output_type": "execute_result"
    }
   ],
   "source": [
    "# Câu 9\n",
    "model = ols('SALES ~ STATUS', data=df).fit()\n",
    "aov_table = sm.stats.anova_lm(model, typ=1)\n",
    "aov_table"
   ]
  },
  {
   "cell_type": "markdown",
   "metadata": {},
   "source": [
    "h0: có mối liên hệ\n",
    "0.003 < 0.05 -> accept: có mối liên hệ\n"
   ]
  },
  {
   "cell_type": "code",
   "execution_count": 30,
   "metadata": {},
   "outputs": [
    {
     "data": {
      "text/plain": [
       "np.float64(1.161076000881289)"
      ]
     },
     "execution_count": 30,
     "metadata": {},
     "output_type": "execute_result"
    }
   ],
   "source": [
    "# Câu 12\n",
    "df['SALES'].skew()"
   ]
  },
  {
   "cell_type": "code",
   "execution_count": 31,
   "metadata": {},
   "outputs": [
    {
     "data": {
      "text/plain": [
       "array([[4014.27378493]])"
      ]
     },
     "execution_count": 31,
     "metadata": {},
     "output_type": "execute_result"
    }
   ],
   "source": [
    "# Câu 15\n",
    "scaler = StandardScaler()\n",
    "scaled = scaler.fit_transform(df[['SALES']])\n",
    "scaled_df = pd.DataFrame(scaled, columns=df[['SALES']].columns)\n",
    "\n",
    "scaler.inverse_transform([[0.25]])"
   ]
  },
  {
   "cell_type": "code",
   "execution_count": 32,
   "metadata": {},
   "outputs": [
    {
     "data": {
      "image/png": "[encoded data removed]",
      "text/plain": [
       "<Figure size 640x480 with 1 Axes>"
      ]
     },
     "metadata": {},
     "output_type": "display_data"
    }
   ],
   "source": [
    "# câu 16\n",
    "sns.barplot(x='STATUS', y='DEALSIZE', hue=\"STATUS\", data=df, errorbar=None, palette='pastel')\n",
    "plt.show()\n",
    "\n",
    "# Đánh dấu"
   ]
  },
  {
   "cell_type": "code",
   "execution_count": 43,
   "metadata": {},
   "outputs": [
    {
     "data": {
      "text/plain": [
       "ORDERNUMBER\n",
       "10386    18\n",
       "10398    18\n",
       "10106    18\n",
       "10222    18\n",
       "10316    18\n",
       "10275    18\n",
       "10159    18\n",
       "10168    18\n",
       "10165    18\n",
       "10332    18\n",
       "10122    17\n",
       "10310    17\n",
       "10287    17\n",
       "10312    17\n",
       "10373    17\n",
       "10182    17\n",
       "10181    17\n",
       "10135    17\n",
       "10204    17\n",
       "10126    17\n",
       "Name: count, dtype: int64"
      ]
     },
     "execution_count": 43,
     "metadata": {},
     "output_type": "execute_result"
    }
   ],
   "source": [
    "count_id = df['ORDERNUMBER'].value_counts()\n",
    "\n",
    "final_count = count_id.head(20)\n",
    "\n",
    "final_count"
   ]
  },
  {
   "cell_type": "code",
   "execution_count": 44,
   "metadata": {},
   "outputs": [
    {
     "data": {
      "text/plain": [
       "SALES       1.161076\n",
       "newSales   -0.202174\n",
       "dtype: float64"
      ]
     },
     "execution_count": 44,
     "metadata": {},
     "output_type": "execute_result"
    }
   ],
   "source": [
    "# Câu 18\n",
    "df[\"newSales\"] =  np.log(df[\"SALES\"])\n",
    "\n",
    "df[[\"SALES\", \"newSales\"]].skew()"
   ]
  },
  {
   "cell_type": "markdown",
   "metadata": {},
   "source": [
    "lệch ngược chiều so với ban đầu, lệch ít hơn ban đầu"
   ]
  },
  {
   "cell_type": "code",
   "execution_count": 54,
   "metadata": {},
   "outputs": [
    {
     "data": {
      "text/plain": [
       "COUNTRY\n",
       "USA            21341.9950\n",
       "Spain          11779.8851\n",
       "Australia       8113.6187\n",
       "Canada          5822.9162\n",
       "UK              4594.8300\n",
       "Italy           4409.6194\n",
       "Norway          3015.3555\n",
       "France          2940.2749\n",
       "Denmark         2008.7175\n",
       "Singapore       1887.8876\n",
       "Germany         1677.1145\n",
       "Belgium         1143.8593\n",
       "Sweden           973.4532\n",
       "Switzerland      716.5745\n",
       "Austria          655.5536\n",
       "Name: Profit, dtype: float64"
      ]
     },
     "execution_count": 54,
     "metadata": {},
     "output_type": "execute_result"
    }
   ],
   "source": [
    "# Câu 19\n",
    "count_country = df.groupby('COUNTRY')['Profit'].sum()\n",
    "\n",
    "top_5_countries = count_country.sort_values(ascending=False).head(15)\n",
    "\n",
    "top_5_countries"
   ]
  },
  {
   "cell_type": "code",
   "execution_count": 56,
   "metadata": {},
   "outputs": [
    {
     "data": {
      "text/html": [
       "<div>\n",
       "<style scoped>\n",
       "    .dataframe tbody tr th:only-of-type {\n",
       "        vertical-align: middle;\n",
       "    }\n",
       "\n",
       "    .dataframe tbody tr th {\n",
       "        vertical-align: top;\n",
       "    }\n",
       "\n",
       "    .dataframe thead th {\n",
       "        text-align: right;\n",
       "    }\n",
       "</style>\n",
       "<table border=\"1\" class=\"dataframe\">\n",
       "  <thead>\n",
       "    <tr style=\"text-align: right;\">\n",
       "      <th></th>\n",
       "      <th>SALES</th>\n",
       "    </tr>\n",
       "  </thead>\n",
       "  <tbody>\n",
       "    <tr>\n",
       "      <th>50</th>\n",
       "      <td>0.571492</td>\n",
       "    </tr>\n",
       "    <tr>\n",
       "      <th>51</th>\n",
       "      <td>0.142230</td>\n",
       "    </tr>\n",
       "    <tr>\n",
       "      <th>52</th>\n",
       "      <td>0.268965</td>\n",
       "    </tr>\n",
       "    <tr>\n",
       "      <th>53</th>\n",
       "      <td>0.846934</td>\n",
       "    </tr>\n",
       "    <tr>\n",
       "      <th>54</th>\n",
       "      <td>0.251044</td>\n",
       "    </tr>\n",
       "    <tr>\n",
       "      <th>55</th>\n",
       "      <td>0.169972</td>\n",
       "    </tr>\n",
       "    <tr>\n",
       "      <th>56</th>\n",
       "      <td>0.207757</td>\n",
       "    </tr>\n",
       "    <tr>\n",
       "      <th>57</th>\n",
       "      <td>0.346367</td>\n",
       "    </tr>\n",
       "    <tr>\n",
       "      <th>58</th>\n",
       "      <td>0.333417</td>\n",
       "    </tr>\n",
       "    <tr>\n",
       "      <th>59</th>\n",
       "      <td>0.233724</td>\n",
       "    </tr>\n",
       "  </tbody>\n",
       "</table>\n",
       "</div>"
      ],
      "text/plain": [
       "       SALES\n",
       "50  0.571492\n",
       "51  0.142230\n",
       "52  0.268965\n",
       "53  0.846934\n",
       "54  0.251044\n",
       "55  0.169972\n",
       "56  0.207757\n",
       "57  0.346367\n",
       "58  0.333417\n",
       "59  0.233724"
      ]
     },
     "execution_count": 56,
     "metadata": {},
     "output_type": "execute_result"
    }
   ],
   "source": [
    "# Câu 20\n",
    "scaler = MinMaxScaler()\n",
    "scaled = scaler.fit_transform(df[['SALES']])\n",
    "scaled_df = pd.DataFrame(scaled, columns=df[['SALES']].columns).iloc[50:60]\n",
    "scaled_df"
   ]
  },
  {
   "cell_type": "code",
   "execution_count": null,
   "metadata": {},
   "outputs": [],
   "source": []
  }
 ],
 "metadata": {
  "kernelspec": {
   "display_name": "my_env",
   "language": "python",
   "name": "python3"
  },
  "language_info": {
   "codemirror_mode": {
    "name": "ipython",
    "version": 3
   },
   "file_extension": ".py",
   "mimetype": "text/x-python",
   "name": "python",
   "nbconvert_exporter": "python",
   "pygments_lexer": "ipython3",
   "version": "3.12.5"
  }
 },
 "nbformat": 4,
 "nbformat_minor": 2
}
